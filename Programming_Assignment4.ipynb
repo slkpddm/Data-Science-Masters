{
 "cells": [
  {
   "cell_type": "markdown",
   "id": "0872a922",
   "metadata": {},
   "source": [
    "1.Write a Python Program to Find the Factorial of a Number?"
   ]
  },
  {
   "cell_type": "code",
   "execution_count": 2,
   "id": "4ea7e66c",
   "metadata": {},
   "outputs": [
    {
     "name": "stdout",
     "output_type": "stream",
     "text": [
      "Enter the number:5\n",
      "Factorial of 5 is 120\n"
     ]
    }
   ],
   "source": [
    "n = int(input(\"Enter the number:\"))\n",
    "sum = 1\n",
    "for i in range(1,n+1):\n",
    "    sum=sum*i\n",
    "print(\"Factorial of {0} is {1}\".format(n,sum))    "
   ]
  },
  {
   "cell_type": "markdown",
   "id": "55b17ece",
   "metadata": {},
   "source": [
    "2.Write a Python Program to Display the multiplication Table?"
   ]
  },
  {
   "cell_type": "code",
   "execution_count": 5,
   "id": "86f69eb0",
   "metadata": {},
   "outputs": [
    {
     "name": "stdout",
     "output_type": "stream",
     "text": [
      "Enter the number:2\n",
      "2*1=2\n",
      "2*2=4\n",
      "2*3=6\n",
      "2*4=8\n",
      "2*5=10\n",
      "2*6=12\n",
      "2*7=14\n",
      "2*8=16\n",
      "2*9=18\n",
      "2*10=20\n"
     ]
    }
   ],
   "source": [
    "n = int(input(\"Enter the number:\"))\n",
    "for i in range(1,11):\n",
    "    a=n*i\n",
    "    print('{0}*{1}={2}'.format(n,i,a))"
   ]
  },
  {
   "cell_type": "markdown",
   "id": "86c2154a",
   "metadata": {},
   "source": [
    "3.Write a Python Program to Print the Fibonacci sequence?"
   ]
  },
  {
   "cell_type": "code",
   "execution_count": 10,
   "id": "6cc06716",
   "metadata": {},
   "outputs": [
    {
     "name": "stdout",
     "output_type": "stream",
     "text": [
      "Enter the length of sequence should be:8\n",
      "0 1 1 2 3 5 8 13 "
     ]
    }
   ],
   "source": [
    "n = int(input(\"Enter the length of sequence should be:\"))\n",
    "s1=0\n",
    "s2=1\n",
    "\n",
    "for i in range(n):\n",
    "    print(s1,end=\" \")\n",
    "    s3 = s1+s2\n",
    "    s1=s2\n",
    "    s2=s3\n",
    "    "
   ]
  },
  {
   "cell_type": "markdown",
   "id": "8c9fc157",
   "metadata": {},
   "source": [
    "4.Write a Python Program to Check Armstrong Number?"
   ]
  },
  {
   "cell_type": "code",
   "execution_count": 10,
   "id": "d99d83d7",
   "metadata": {},
   "outputs": [
    {
     "name": "stdout",
     "output_type": "stream",
     "text": [
      "Enter the number:370\n",
      "sum 370\n",
      "Given number is Armstrong number: 370\n"
     ]
    }
   ],
   "source": [
    "a = int(input(\"Enter the number:\"))\n",
    "d=a\n",
    "b = str(a)\n",
    "n = len(b)\n",
    "sum=0\n",
    "while(a!=0):\n",
    "    c=a%10\n",
    "    sum=sum+c**n\n",
    "    a=int(a/10)\n",
    "print(\"sum\",sum)    \n",
    "if(sum==d): print(\"Given number is Armstrong number:\",d)\n",
    "else: print(\"Given number is not as Armstrong number:\",d)    "
   ]
  },
  {
   "cell_type": "markdown",
   "id": "86738dc2",
   "metadata": {},
   "source": [
    "5.Write a Python Program to Find the Sum of Natural Numbers?"
   ]
  },
  {
   "cell_type": "code",
   "execution_count": 11,
   "id": "9bed29fd",
   "metadata": {},
   "outputs": [
    {
     "name": "stdout",
     "output_type": "stream",
     "text": [
      "Enter the final number of the natural numbers sequence:5\n",
      "Sum of N natural numbers: 15.0\n"
     ]
    }
   ],
   "source": [
    "# sum of N natural numbers ==>sum=(N*(N+1))/2\n",
    "N=int(input(\"Enter the final number of the natural numbers sequence:\"))\n",
    "sum =(N*(N+1))/2\n",
    "print(\"Sum of N natural numbers:\",sum)"
   ]
  },
  {
   "cell_type": "code",
   "execution_count": null,
   "id": "21e56095",
   "metadata": {},
   "outputs": [],
   "source": []
  }
 ],
 "metadata": {
  "kernelspec": {
   "display_name": "Python 3 (ipykernel)",
   "language": "python",
   "name": "python3"
  },
  "language_info": {
   "codemirror_mode": {
    "name": "ipython",
    "version": 3
   },
   "file_extension": ".py",
   "mimetype": "text/x-python",
   "name": "python",
   "nbconvert_exporter": "python",
   "pygments_lexer": "ipython3",
   "version": "3.9.7"
  }
 },
 "nbformat": 4,
 "nbformat_minor": 5
}
