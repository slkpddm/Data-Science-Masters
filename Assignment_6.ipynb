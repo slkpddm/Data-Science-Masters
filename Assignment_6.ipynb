{
 "cells": [
  {
   "cell_type": "markdown",
   "id": "d1f4e8d9",
   "metadata": {},
   "source": [
    "1. What are escape characters, and how do you use them?"
   ]
  },
  {
   "cell_type": "markdown",
   "id": "f4ade202",
   "metadata": {},
   "source": [
    "Ans :- In python escape character is blacklash '\\' . It will be used when we need tab space '\\t' and newline '\\n' and '\\r' carrage return and etc ."
   ]
  },
  {
   "cell_type": "markdown",
   "id": "e215dc84",
   "metadata": {},
   "source": [
    "2. What do the escape characters n and t stand for?"
   ]
  },
  {
   "cell_type": "code",
   "execution_count": 2,
   "id": "7eee37cd",
   "metadata": {},
   "outputs": [
    {
     "name": "stdout",
     "output_type": "stream",
     "text": [
      "super\n",
      "star\tskp\n"
     ]
    }
   ],
   "source": [
    "print(\"super\\nstar\\tskp\")"
   ]
  },
  {
   "cell_type": "markdown",
   "id": "eef0e12d",
   "metadata": {},
   "source": [
    "If u see above '\\n' gives the newline and '\\t' gives the whitespace"
   ]
  },
  {
   "cell_type": "markdown",
   "id": "4ae0878f",
   "metadata": {},
   "source": [
    "3. What is the way to include backslash characters in a string?"
   ]
  },
  {
   "cell_type": "code",
   "execution_count": 3,
   "id": "facb98ed",
   "metadata": {},
   "outputs": [
    {
     "name": "stdout",
     "output_type": "stream",
     "text": [
      "su\\per\n"
     ]
    }
   ],
   "source": [
    "print(\"su\\\\per\")"
   ]
  },
  {
   "cell_type": "markdown",
   "id": "f73bf6d0",
   "metadata": {},
   "source": [
    "If we want to include a blacklash character in a string we should give two blacklashes like '\\\\'"
   ]
  },
  {
   "cell_type": "markdown",
   "id": "0447bb69",
   "metadata": {},
   "source": [
    "4. The string \"Howl's Moving Castle\" is a correct value. Why isn't the single quote character in the word Howl's not escaped a problem?"
   ]
  },
  {
   "cell_type": "code",
   "execution_count": 4,
   "id": "7894edd7",
   "metadata": {},
   "outputs": [
    {
     "data": {
      "text/plain": [
       "\"Howl's Moving Castle\""
      ]
     },
     "execution_count": 4,
     "metadata": {},
     "output_type": "execute_result"
    }
   ],
   "source": [
    "str = \"Howl's Moving Castle\"\n",
    "str"
   ]
  },
  {
   "cell_type": "markdown",
   "id": "40025f22",
   "metadata": {},
   "source": [
    "The single quote in Howl's is not creating a problem bcz at the end of the string we are having double quotes . Even at the beginning of the string we are not having single quote . If we have single quote at the beginning of the string then it will cause the problem"
   ]
  },
  {
   "cell_type": "code",
   "execution_count": 5,
   "id": "f3b92025",
   "metadata": {},
   "outputs": [
    {
     "ename": "SyntaxError",
     "evalue": "invalid syntax (Temp/ipykernel_12924/2881963921.py, line 1)",
     "output_type": "error",
     "traceback": [
      "\u001b[1;36m  File \u001b[1;32m\"C:\\Users\\slkpd\\AppData\\Local\\Temp/ipykernel_12924/2881963921.py\"\u001b[1;36m, line \u001b[1;32m1\u001b[0m\n\u001b[1;33m    str = 'Howl's Moving Castle'\u001b[0m\n\u001b[1;37m                ^\u001b[0m\n\u001b[1;31mSyntaxError\u001b[0m\u001b[1;31m:\u001b[0m invalid syntax\n"
     ]
    }
   ],
   "source": [
    "str = 'Howl's Moving Castle'\n",
    "str"
   ]
  },
  {
   "cell_type": "markdown",
   "id": "45657884",
   "metadata": {},
   "source": [
    "Now u can that since we are having single quote at the beginning of the string it is causing error"
   ]
  },
  {
   "cell_type": "markdown",
   "id": "91364d44",
   "metadata": {},
   "source": [
    "5. How do you write a string of newlines if you don't want to use the n character?"
   ]
  },
  {
   "cell_type": "markdown",
   "id": "888ccc5b",
   "metadata": {},
   "source": [
    "Ans:- We can write a string of new lines by using print statements without using \\n character"
   ]
  },
  {
   "cell_type": "code",
   "execution_count": 1,
   "id": "dbe476f3",
   "metadata": {},
   "outputs": [
    {
     "name": "stdout",
     "output_type": "stream",
     "text": [
      "Hallo\n",
      "World\n"
     ]
    }
   ],
   "source": [
    "print(\"Hallo\")\n",
    "print(\"World\")"
   ]
  },
  {
   "cell_type": "markdown",
   "id": "0edb8db3",
   "metadata": {},
   "source": [
    "Here u can see that we have written two new lines with the help of two print functions."
   ]
  },
  {
   "cell_type": "markdown",
   "id": "48cb24ca",
   "metadata": {},
   "source": [
    "6. What are the values of the given expressions?\n",
    "'Hello, world!'[1]\n",
    "'Hello, world!'[0:5]\n",
    "'Hello, world!'[:5]\n",
    "'Hello, world!'[3:]"
   ]
  },
  {
   "cell_type": "code",
   "execution_count": 2,
   "id": "ae8a8951",
   "metadata": {},
   "outputs": [
    {
     "name": "stdout",
     "output_type": "stream",
     "text": [
      "e\n",
      "Hello\n",
      "Hello\n",
      "lo, world!\n"
     ]
    }
   ],
   "source": [
    "print('Hello, world!'[1])\n",
    "print('Hello, world!'[0:5])\n",
    "print('Hello, world!'[:5])\n",
    "print('Hello, world!'[3:])"
   ]
  },
  {
   "cell_type": "markdown",
   "id": "e786d8cb",
   "metadata": {},
   "source": [
    "a.In first one it just print the index 1 element .....\n",
    "b.In second and third one it prints from index 0 to index 4 and index 5 will be excluded ....\n",
    "c.In fourth one it prints from index 3 to entire string"
   ]
  },
  {
   "cell_type": "markdown",
   "id": "b71cd38a",
   "metadata": {},
   "source": [
    "7. What are the values of the following expressions?\n",
    "'Hello'.upper()\n",
    "'Hello'.upper().isupper()\n",
    "'Hello'.upper().lower()"
   ]
  },
  {
   "cell_type": "code",
   "execution_count": 3,
   "id": "4bb234ba",
   "metadata": {},
   "outputs": [
    {
     "name": "stdout",
     "output_type": "stream",
     "text": [
      "HELLO\n",
      "True\n",
      "hello\n"
     ]
    }
   ],
   "source": [
    "print('Hello'.upper())\n",
    "print('Hello'.upper().isupper())\n",
    "print('Hello'.upper().lower())"
   ]
  },
  {
   "cell_type": "markdown",
   "id": "22b5c2a2",
   "metadata": {},
   "source": [
    "a.In first one string will converted to uppercase letters ... \n",
    "b.In second one since all the letters are in upper case so issuper() will return True ...\n",
    "c.In third one first Hello will be converted to HELLO and then it will be converted to lower which is hello \n"
   ]
  },
  {
   "cell_type": "markdown",
   "id": "74369465",
   "metadata": {},
   "source": [
    "8. What are the values of the following expressions?\n",
    "'Remember, remember, the fifth of July.'.split()\n",
    "'-'.join('There can only one.'.split())"
   ]
  },
  {
   "cell_type": "code",
   "execution_count": 4,
   "id": "83c64b5b",
   "metadata": {},
   "outputs": [
    {
     "name": "stdout",
     "output_type": "stream",
     "text": [
      "['Remember,', 'remember,', 'the', 'fifth', 'of', 'July.']\n",
      "There-can-only-one.\n"
     ]
    }
   ],
   "source": [
    "print('Remember, remember, the fifth of July.'.split())\n",
    "print('-'.join('There can only one.'.split()))"
   ]
  },
  {
   "cell_type": "code",
   "execution_count": 8,
   "id": "2380706e",
   "metadata": {},
   "outputs": [
    {
     "data": {
      "text/plain": [
       "str"
      ]
     },
     "execution_count": 8,
     "metadata": {},
     "output_type": "execute_result"
    }
   ],
   "source": [
    "type('-'.join('There can only one.'.split()))"
   ]
  },
  {
   "cell_type": "markdown",
   "id": "ad14e5fb",
   "metadata": {},
   "source": [
    "a. In first one it will split the string based on the space between the substrings and will return a list ....\n",
    "b. In second one it will split based on the space only but since we are joining them with the '-' so it will return the string only"
   ]
  },
  {
   "cell_type": "markdown",
   "id": "de1cec71",
   "metadata": {},
   "source": [
    "9. What are the methods for right-justifying, left-justifying, and centering a string?"
   ]
  },
  {
   "cell_type": "markdown",
   "id": "a596a28e",
   "metadata": {},
   "source": [
    "Ans :- a.right-justifying : rjust()\n",
    "       b.left-justifying  : ljust()\n",
    "       c centering        : center() "
   ]
  },
  {
   "cell_type": "code",
   "execution_count": 9,
   "id": "85a480a2",
   "metadata": {},
   "outputs": [
    {
     "name": "stdout",
     "output_type": "stream",
     "text": [
      "******super_star_skp\n",
      "super_star_skp******\n",
      "***super_star_skp***\n"
     ]
    }
   ],
   "source": [
    "str = \"super_star_skp\"\n",
    "print(str.rjust(20,'*'))\n",
    "print(str.ljust(20,'*'))\n",
    "print(str.center(20,'*'))"
   ]
  },
  {
   "cell_type": "markdown",
   "id": "0786a4c0",
   "metadata": {},
   "source": [
    "10. What is the best way to remove whitespace characters from the start or end?"
   ]
  },
  {
   "cell_type": "code",
   "execution_count": 16,
   "id": "1fb447fb",
   "metadata": {},
   "outputs": [
    {
     "name": "stdout",
     "output_type": "stream",
     "text": [
      "13\n",
      "  kulayappa\n",
      "kulayappa  \n",
      "11\n",
      "11\n"
     ]
    }
   ],
   "source": [
    "str = \"  kulayappa  \"\n",
    "print(len(str))\n",
    "print(str.rstrip()) #Removing right end whitespace\n",
    "print(str.lstrip()) #Removing left end whitespace\n",
    "print(len(str.rstrip()))\n",
    "print(len(str.lstrip()))"
   ]
  },
  {
   "cell_type": "code",
   "execution_count": null,
   "id": "697a9010",
   "metadata": {},
   "outputs": [],
   "source": []
  }
 ],
 "metadata": {
  "kernelspec": {
   "display_name": "Python 3 (ipykernel)",
   "language": "python",
   "name": "python3"
  },
  "language_info": {
   "codemirror_mode": {
    "name": "ipython",
    "version": 3
   },
   "file_extension": ".py",
   "mimetype": "text/x-python",
   "name": "python",
   "nbconvert_exporter": "python",
   "pygments_lexer": "ipython3",
   "version": "3.9.7"
  }
 },
 "nbformat": 4,
 "nbformat_minor": 5
}
