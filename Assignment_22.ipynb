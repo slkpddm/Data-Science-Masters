{
 "cells": [
  {
   "cell_type": "markdown",
   "id": "5755212c",
   "metadata": {},
   "source": [
    "# Q1"
   ]
  },
  {
   "cell_type": "code",
   "execution_count": 1,
   "id": "d6e2938c",
   "metadata": {},
   "outputs": [
    {
     "name": "stdout",
     "output_type": "stream",
     "text": [
      "\n"
     ]
    }
   ],
   "source": [
    "'''\n",
    "1. What is the result of the code, and explain?\n",
    "X = 'iNeuron'\n",
    "def func():\n",
    "    print(X)\n",
    "'''\n",
    "print()"
   ]
  },
  {
   "cell_type": "code",
   "execution_count": 2,
   "id": "530efb71",
   "metadata": {},
   "outputs": [],
   "source": [
    "X = 'iNeuron'\n",
    "def func():\n",
    "    print(X)"
   ]
  },
  {
   "cell_type": "code",
   "execution_count": 3,
   "id": "f3c03ce2",
   "metadata": {},
   "outputs": [
    {
     "name": "stdout",
     "output_type": "stream",
     "text": [
      "iNeuron\n"
     ]
    }
   ],
   "source": [
    "func()"
   ]
  },
  {
   "cell_type": "markdown",
   "id": "d351056f",
   "metadata": {},
   "source": [
    "Here X is a global variable so it will be available throughout the program . Since the function contains the body as print(X) so when we call func() it will print the 'iNeuron' which is X variable"
   ]
  },
  {
   "cell_type": "markdown",
   "id": "fb6245b9",
   "metadata": {},
   "source": [
    "# Q2"
   ]
  },
  {
   "cell_type": "code",
   "execution_count": 4,
   "id": "7bc8ca61",
   "metadata": {},
   "outputs": [
    {
     "name": "stdout",
     "output_type": "stream",
     "text": [
      "\n"
     ]
    }
   ],
   "source": [
    "'''\n",
    "2. What is the result of the code, and explain?\n",
    "   X = 'iNeuron'\n",
    "   def func():\n",
    "       X='NI!'\n",
    "func()\n",
    "print(X)\n",
    "'''\n",
    "print()"
   ]
  },
  {
   "cell_type": "code",
   "execution_count": 10,
   "id": "d8a2eb28",
   "metadata": {},
   "outputs": [],
   "source": [
    "X = 'iNeuron'\n",
    "def func():\n",
    "    X='NI!'\n",
    "func()"
   ]
  },
  {
   "cell_type": "code",
   "execution_count": 11,
   "id": "e20f1d13",
   "metadata": {},
   "outputs": [
    {
     "name": "stdout",
     "output_type": "stream",
     "text": [
      "iNeuron\n"
     ]
    }
   ],
   "source": [
    "print(X)"
   ]
  },
  {
   "cell_type": "markdown",
   "id": "9847b6b6",
   "metadata": {},
   "source": [
    "when we execute the function func() we will get result as Nothing since ther we are not printing or returning any value . But when we print X we will get result as 'iNeuron' since X='iNeuron' is accessible throughout the code where as X='NI!' is accessible only in the function block scope"
   ]
  },
  {
   "cell_type": "markdown",
   "id": "b2353d6d",
   "metadata": {},
   "source": [
    "# Q3"
   ]
  },
  {
   "cell_type": "code",
   "execution_count": 17,
   "id": "30e4b54d",
   "metadata": {},
   "outputs": [
    {
     "name": "stdout",
     "output_type": "stream",
     "text": [
      "\n"
     ]
    }
   ],
   "source": [
    "'''\n",
    "3. What is the result of the code, and explain?\n",
    "   X = 'iNeuron'\n",
    "   def func():\n",
    "       X='NI!'\n",
    "       print(X)\n",
    "func()\n",
    "print(X)\n",
    "'''\n",
    "print()"
   ]
  },
  {
   "cell_type": "code",
   "execution_count": 18,
   "id": "c0121bba",
   "metadata": {},
   "outputs": [],
   "source": [
    "X = 'iNeuron'\n",
    "def func():\n",
    "    X='NI!'\n",
    "    print(X)"
   ]
  },
  {
   "cell_type": "code",
   "execution_count": 19,
   "id": "760ae03a",
   "metadata": {},
   "outputs": [
    {
     "name": "stdout",
     "output_type": "stream",
     "text": [
      "NI!\n"
     ]
    }
   ],
   "source": [
    "func()"
   ]
  },
  {
   "cell_type": "code",
   "execution_count": 20,
   "id": "e0f8dfbc",
   "metadata": {},
   "outputs": [
    {
     "name": "stdout",
     "output_type": "stream",
     "text": [
      "iNeuron\n"
     ]
    }
   ],
   "source": [
    "print(X)"
   ]
  },
  {
   "cell_type": "markdown",
   "id": "ad18969e",
   "metadata": {},
   "source": [
    "Here we are getting result as 'NI!' when we execute the function func() since it has the print(X) inside the function block scope so local variable 'NI!' will override the global variable 'iNeuron' which"
   ]
  },
  {
   "cell_type": "markdown",
   "id": "2a7adbe6",
   "metadata": {},
   "source": [
    "# Q4"
   ]
  },
  {
   "cell_type": "code",
   "execution_count": 21,
   "id": "56cff2c1",
   "metadata": {},
   "outputs": [
    {
     "name": "stdout",
     "output_type": "stream",
     "text": [
      "\n"
     ]
    }
   ],
   "source": [
    "'''\n",
    "3. What is the result of the code, and explain?\n",
    "   X = 'iNeuron'\n",
    "   def func():\n",
    "       global X\n",
    "       X='NI!'\n",
    "func()\n",
    "print(X)\n",
    "'''\n",
    "print()"
   ]
  },
  {
   "cell_type": "code",
   "execution_count": 22,
   "id": "b63a37bc",
   "metadata": {},
   "outputs": [],
   "source": [
    "X = 'iNeuron'\n",
    "def func():\n",
    "    global X\n",
    "    X='NI!'"
   ]
  },
  {
   "cell_type": "code",
   "execution_count": 23,
   "id": "34a23db3",
   "metadata": {},
   "outputs": [],
   "source": [
    "func()"
   ]
  },
  {
   "cell_type": "code",
   "execution_count": 24,
   "id": "f8a2aebe",
   "metadata": {},
   "outputs": [
    {
     "name": "stdout",
     "output_type": "stream",
     "text": [
      "NI!\n"
     ]
    }
   ],
   "source": [
    "print(X)"
   ]
  },
  {
   "cell_type": "markdown",
   "id": "44ea9f93",
   "metadata": {},
   "source": [
    "Here we r making local variable 'NI!' as global variable. so even outside the function block scope we could c X='NI!'"
   ]
  },
  {
   "cell_type": "markdown",
   "id": "1557dd32",
   "metadata": {},
   "source": [
    "# Q5"
   ]
  },
  {
   "cell_type": "code",
   "execution_count": 25,
   "id": "5ff497e7",
   "metadata": {},
   "outputs": [
    {
     "name": "stdout",
     "output_type": "stream",
     "text": [
      "\n"
     ]
    }
   ],
   "source": [
    "'''\n",
    "5. What about this code—what’s the output, and why?\n",
    "\n",
    "X = 'iNeuron'\n",
    "def func():\n",
    "    X='NI!'\n",
    "    def nested():\n",
    "        print(X)\n",
    "nested()\n",
    "func()\n",
    "print(X)\n",
    "'''\n",
    "print()"
   ]
  },
  {
   "cell_type": "code",
   "execution_count": 34,
   "id": "ef9e26f0",
   "metadata": {},
   "outputs": [],
   "source": [
    "X = 'iNeuron'\n",
    "def func():\n",
    "    X='NI!'\n",
    "    def nested():\n",
    "        print(X)\n",
    "    nested()    "
   ]
  },
  {
   "cell_type": "code",
   "execution_count": 35,
   "id": "580a5ffe",
   "metadata": {},
   "outputs": [
    {
     "name": "stdout",
     "output_type": "stream",
     "text": [
      "NI!\n"
     ]
    }
   ],
   "source": [
    "func()"
   ]
  },
  {
   "cell_type": "code",
   "execution_count": 30,
   "id": "c498547a",
   "metadata": {},
   "outputs": [
    {
     "name": "stdout",
     "output_type": "stream",
     "text": [
      "iNeuron\n"
     ]
    }
   ],
   "source": [
    "print(X)"
   ]
  },
  {
   "cell_type": "markdown",
   "id": "570d4fb1",
   "metadata": {},
   "source": [
    "Here inside a func() function another nested function is there so since nested() is also inside the finc() function and X='NI!' will override the global thorough out the func() block so nested() will print 'NI!'. Since nested() is inside the finc() function so when we execute func() it results in 'NI!'"
   ]
  },
  {
   "cell_type": "markdown",
   "id": "b0e8e900",
   "metadata": {},
   "source": [
    "Q6"
   ]
  },
  {
   "cell_type": "code",
   "execution_count": 36,
   "id": "67a20269",
   "metadata": {},
   "outputs": [
    {
     "name": "stdout",
     "output_type": "stream",
     "text": [
      "\n"
     ]
    }
   ],
   "source": [
    "'''\n",
    "6. How about this code: what is its output in Python 3, and explain?\n",
    "X = 'iNeuron'\n",
    "def func():\n",
    "    X='NI!'\n",
    "    def nested():\n",
    "        nonlocal X\n",
    "        X='spam'\n",
    "    nested()\n",
    "    print(X)\n",
    "    \n",
    "func()    \n",
    "\n",
    "'''\n",
    "print()"
   ]
  },
  {
   "cell_type": "code",
   "execution_count": 37,
   "id": "cc202e1e",
   "metadata": {},
   "outputs": [],
   "source": [
    "X = 'iNeuron'\n",
    "def func():\n",
    "    X='NI!'\n",
    "    def nested():\n",
    "        nonlocal X\n",
    "        X='spam'\n",
    "    nested()\n",
    "    print(X)"
   ]
  },
  {
   "cell_type": "code",
   "execution_count": 39,
   "id": "3438832a",
   "metadata": {},
   "outputs": [
    {
     "name": "stdout",
     "output_type": "stream",
     "text": [
      "iNeuron\n"
     ]
    }
   ],
   "source": [
    "print(X)"
   ]
  },
  {
   "cell_type": "code",
   "execution_count": 38,
   "id": "64644b8c",
   "metadata": {},
   "outputs": [
    {
     "name": "stdout",
     "output_type": "stream",
     "text": [
      "spam\n"
     ]
    }
   ],
   "source": [
    "func()"
   ]
  },
  {
   "cell_type": "markdown",
   "id": "10e7ec5f",
   "metadata": {},
   "source": [
    "Since we set variable X as non local variable so it can be access even after nested() function which is in func() function . But we cannot access this X='spam' after func() function. BczX='spam' is non local variable that doesn't mean that X='spam' is global variable"
   ]
  },
  {
   "cell_type": "code",
   "execution_count": null,
   "id": "b07d41c4",
   "metadata": {},
   "outputs": [],
   "source": []
  }
 ],
 "metadata": {
  "kernelspec": {
   "display_name": "Python 3 (ipykernel)",
   "language": "python",
   "name": "python3"
  },
  "language_info": {
   "codemirror_mode": {
    "name": "ipython",
    "version": 3
   },
   "file_extension": ".py",
   "mimetype": "text/x-python",
   "name": "python",
   "nbconvert_exporter": "python",
   "pygments_lexer": "ipython3",
   "version": "3.9.7"
  }
 },
 "nbformat": 4,
 "nbformat_minor": 5
}
