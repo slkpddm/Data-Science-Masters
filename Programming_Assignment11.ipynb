{
 "cells": [
  {
   "cell_type": "markdown",
   "id": "c9fe24d8",
   "metadata": {},
   "source": [
    "1.Write a Python program to find words which are greater than given length k?"
   ]
  },
  {
   "cell_type": "code",
   "execution_count": 2,
   "id": "9dfcf962",
   "metadata": {},
   "outputs": [],
   "source": [
    "def words_length(string,k):\n",
    "    lst=[]\n",
    "    l=[]\n",
    "    lst=lst+string.split()\n",
    "    for i in lst:\n",
    "        if(len(i)>k):\n",
    "            l.append(i)\n",
    "    return l        "
   ]
  },
  {
   "cell_type": "code",
   "execution_count": 3,
   "id": "17e77eb8",
   "metadata": {},
   "outputs": [
    {
     "data": {
      "text/plain": [
       "['sffdf', 'dffoie', 'sdsdoie', 'asdjkd', 'edja']"
      ]
     },
     "execution_count": 3,
     "metadata": {},
     "output_type": "execute_result"
    }
   ],
   "source": [
    "words_length(\"sffdf dffoie sdsdoie  asdjkd edja we fww  a r qwe es\",3)"
   ]
  },
  {
   "cell_type": "markdown",
   "id": "da1fc0c4",
   "metadata": {},
   "source": [
    "2.Write a Python program for removing i-th character from a string?"
   ]
  },
  {
   "cell_type": "code",
   "execution_count": 14,
   "id": "f87cbcdd",
   "metadata": {},
   "outputs": [],
   "source": [
    "def remove_char(string,i):\n",
    "    s=''\n",
    "    for j in range(len(string)):\n",
    "        if(j!=i-1):\n",
    "            s=s+string[j]\n",
    "    return s        \n",
    "        "
   ]
  },
  {
   "cell_type": "code",
   "execution_count": 15,
   "id": "1cb33b7f",
   "metadata": {},
   "outputs": [
    {
     "data": {
      "text/plain": [
       "'sfdf dffoie s'"
      ]
     },
     "execution_count": 15,
     "metadata": {},
     "output_type": "execute_result"
    }
   ],
   "source": [
    "remove_char(\"sffdf dffoie s\",2)"
   ]
  },
  {
   "cell_type": "markdown",
   "id": "b5ad9da5",
   "metadata": {},
   "source": [
    "3.Write a Python program to split and join a string?"
   ]
  },
  {
   "cell_type": "code",
   "execution_count": 24,
   "id": "b32821c5",
   "metadata": {},
   "outputs": [],
   "source": [
    "def split_join_string(string):\n",
    "    lst=[]\n",
    "    lst=lst+string.split()\n",
    "    string=\"*\".join(lst)\n",
    "    return string"
   ]
  },
  {
   "cell_type": "code",
   "execution_count": 25,
   "id": "f7491885",
   "metadata": {},
   "outputs": [
    {
     "data": {
      "text/plain": [
       "'sffdf*dffoie*s'"
      ]
     },
     "execution_count": 25,
     "metadata": {},
     "output_type": "execute_result"
    }
   ],
   "source": [
    "split_join_string(\"sffdf dffoie s\")"
   ]
  },
  {
   "cell_type": "markdown",
   "id": "c5b7eb5a",
   "metadata": {},
   "source": [
    "4.Write a Python to check if a given string is binary string or not?"
   ]
  },
  {
   "cell_type": "code",
   "execution_count": 26,
   "id": "53fdf81a",
   "metadata": {},
   "outputs": [],
   "source": [
    "def chk_binary_string(string):\n",
    "    s=set(string)\n",
    "    s1={'0','1'}\n",
    "    if(s==s1):\n",
    "        return \"Binary string\",string\n",
    "    else:\n",
    "        return \"Not a Binary string\",string\n",
    "        "
   ]
  },
  {
   "cell_type": "code",
   "execution_count": 27,
   "id": "892528b6",
   "metadata": {},
   "outputs": [
    {
     "data": {
      "text/plain": [
       "('Binary string', '1001001')"
      ]
     },
     "execution_count": 27,
     "metadata": {},
     "output_type": "execute_result"
    }
   ],
   "source": [
    "chk_binary_string('1001001')"
   ]
  },
  {
   "cell_type": "code",
   "execution_count": 28,
   "id": "e922c094",
   "metadata": {},
   "outputs": [
    {
     "data": {
      "text/plain": [
       "('Not a Binary string', '1001001dfsd')"
      ]
     },
     "execution_count": 28,
     "metadata": {},
     "output_type": "execute_result"
    }
   ],
   "source": [
    "chk_binary_string('1001001dfsd')"
   ]
  },
  {
   "cell_type": "markdown",
   "id": "a4d5bd08",
   "metadata": {},
   "source": [
    "5.Write a Python program to find uncommon words from two Strings?"
   ]
  },
  {
   "cell_type": "code",
   "execution_count": 38,
   "id": "9a49bfa7",
   "metadata": {},
   "outputs": [],
   "source": [
    "def uncommon(str1,str2):\n",
    "    lst=[]\n",
    "    l1=[]\n",
    "    l2=[]\n",
    "    l1=l1+str1.split()\n",
    "    l2=l2+str2.split()\n",
    "    s1=set(l1)\n",
    "    s2=set(l2)\n",
    "    for i in s1:\n",
    "        if(i not in s2):\n",
    "            lst.append(i)\n",
    "    for j in s2:\n",
    "        if(j not in s1):\n",
    "            lst.append(j)\n",
    "    return lst        "
   ]
  },
  {
   "cell_type": "code",
   "execution_count": 39,
   "id": "10a15f15",
   "metadata": {},
   "outputs": [
    {
     "data": {
      "text/plain": [
       "['super', 'star', 'is', 'was', 'dhoni']"
      ]
     },
     "execution_count": 39,
     "metadata": {},
     "output_type": "execute_result"
    }
   ],
   "source": [
    "uncommon('my name is super star skp','my name was dhoni skp')"
   ]
  },
  {
   "cell_type": "markdown",
   "id": "3830fc09",
   "metadata": {},
   "source": [
    "6.Write a Python to find all duplicate characters in string?"
   ]
  },
  {
   "cell_type": "code",
   "execution_count": 45,
   "id": "c38edef3",
   "metadata": {},
   "outputs": [],
   "source": [
    "def duplicate_char(string):\n",
    "    l=[]\n",
    "    lst=list(string)\n",
    "    s=set(lst)\n",
    "    for i in s:\n",
    "        if(lst.count(i)>1):\n",
    "            l.append(i)\n",
    "    return l        "
   ]
  },
  {
   "cell_type": "code",
   "execution_count": 47,
   "id": "35b9f32c",
   "metadata": {},
   "outputs": [
    {
     "data": {
      "text/plain": [
       "['d', 'e', 's', 'a', 'f']"
      ]
     },
     "execution_count": 47,
     "metadata": {},
     "output_type": "execute_result"
    }
   ],
   "source": [
    "duplicate_char('aassfaddeefwq')"
   ]
  },
  {
   "cell_type": "markdown",
   "id": "c793994b",
   "metadata": {},
   "source": [
    "7.Write a Python Program to check if a string contains any special character?"
   ]
  },
  {
   "cell_type": "code",
   "execution_count": 62,
   "id": "0d6b4576",
   "metadata": {},
   "outputs": [],
   "source": [
    "def special_char(string):\n",
    "    lst=list(string)\n",
    "    c=0\n",
    "    for i in lst:\n",
    "        if(i.isalnum() or i==' '):\n",
    "            pass\n",
    "        else:\n",
    "            c=c+1\n",
    "    if(c==0):\n",
    "        return \"String has no special characters\"\n",
    "    else:\n",
    "        return \"String contains special characters\"\n",
    "          "
   ]
  },
  {
   "cell_type": "code",
   "execution_count": 63,
   "id": "11b8df49",
   "metadata": {},
   "outputs": [
    {
     "data": {
      "text/plain": [
       "'String has no special characters'"
      ]
     },
     "execution_count": 63,
     "metadata": {},
     "output_type": "execute_result"
    }
   ],
   "source": [
    "special_char('aassfaddeefwq')"
   ]
  },
  {
   "cell_type": "code",
   "execution_count": 64,
   "id": "dc5e3dbb",
   "metadata": {},
   "outputs": [
    {
     "data": {
      "text/plain": [
       "'String contains special characters'"
      ]
     },
     "execution_count": 64,
     "metadata": {},
     "output_type": "execute_result"
    }
   ],
   "source": [
    "special_char('aassfa ddee@@@!&fwq')"
   ]
  },
  {
   "cell_type": "code",
   "execution_count": null,
   "id": "a92dff0a",
   "metadata": {},
   "outputs": [],
   "source": []
  }
 ],
 "metadata": {
  "kernelspec": {
   "display_name": "Python 3 (ipykernel)",
   "language": "python",
   "name": "python3"
  },
  "language_info": {
   "codemirror_mode": {
    "name": "ipython",
    "version": 3
   },
   "file_extension": ".py",
   "mimetype": "text/x-python",
   "name": "python",
   "nbconvert_exporter": "python",
   "pygments_lexer": "ipython3",
   "version": "3.9.7"
  }
 },
 "nbformat": 4,
 "nbformat_minor": 5
}
