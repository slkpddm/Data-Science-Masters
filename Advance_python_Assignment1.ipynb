{
 "cells": [
  {
   "cell_type": "markdown",
   "id": "b4ddb910",
   "metadata": {},
   "source": [
    "Q1. What is the purpose of Python's OOP?"
   ]
  },
  {
   "cell_type": "markdown",
   "id": "da21447a",
   "metadata": {},
   "source": [
    "Ans : - The puropse of OOPs is to wrtie the code in modular form so that we can classify the code for different different uses and purposes .And if any issue would come we can easily find it and solve it"
   ]
  },
  {
   "cell_type": "markdown",
   "id": "69b2a193",
   "metadata": {},
   "source": [
    "Q2. Where does an inheritance search look for an attribute?"
   ]
  },
  {
   "cell_type": "markdown",
   "id": "c4967c3a",
   "metadata": {},
   "source": [
    "Ans :- Whenever we create instance object means Whenever we called class object an inheritance search look for an attribute"
   ]
  },
  {
   "cell_type": "markdown",
   "id": "8f659140",
   "metadata": {},
   "source": [
    "Q3. How do you distinguish between a class object and an instance object?"
   ]
  },
  {
   "cell_type": "code",
   "execution_count": 4,
   "id": "d715106f",
   "metadata": {},
   "outputs": [],
   "source": [
    "class Animal :\n",
    "    pass\n",
    "Dog = Animal() "
   ]
  },
  {
   "cell_type": "markdown",
   "id": "853c0e8e",
   "metadata": {},
   "source": [
    "Here class object is \" Animal \" and instance object is \" Dog\" . Class object will create at the time of class creation adn instance object will create when we call class object"
   ]
  },
  {
   "cell_type": "markdown",
   "id": "b029a1f3",
   "metadata": {},
   "source": [
    "Q4. What makes the first argument in a class’s method function special?"
   ]
  },
  {
   "cell_type": "markdown",
   "id": "a706b414",
   "metadata": {},
   "source": [
    "The first argument in a method function is the class object itself that we normally use self as class object but it is not neccessary to use self only as a class object and there is nothing specual about that argument . And self is not a keyword"
   ]
  },
  {
   "cell_type": "code",
   "execution_count": 5,
   "id": "51d63b36",
   "metadata": {},
   "outputs": [],
   "source": [
    "class Car:\n",
    "    def __init__(self ,name ,speed ,milage):\n",
    "        self.name = name\n",
    "        self.speed = speed\n",
    "        self.milage = milage\n",
    "Tesla = Car(\"Telsa\",200,30)"
   ]
  },
  {
   "cell_type": "code",
   "execution_count": 7,
   "id": "08a8b330",
   "metadata": {},
   "outputs": [
    {
     "name": "stdout",
     "output_type": "stream",
     "text": [
      "Telsa\n",
      "200\n",
      "30\n"
     ]
    }
   ],
   "source": [
    "print(Tesla.name)\n",
    "print(Tesla.speed)\n",
    "print(Tesla.milage)"
   ]
  },
  {
   "cell_type": "code",
   "execution_count": 11,
   "id": "ccdd2651",
   "metadata": {},
   "outputs": [
    {
     "ename": "TypeError",
     "evalue": "__init__() takes 3 positional arguments but 4 were given",
     "output_type": "error",
     "traceback": [
      "\u001b[1;31m---------------------------------------------------------------------------\u001b[0m",
      "\u001b[1;31mTypeError\u001b[0m                                 Traceback (most recent call last)",
      "\u001b[1;32m~\\AppData\\Local\\Temp/ipykernel_14708/1803489573.py\u001b[0m in \u001b[0;36m<module>\u001b[1;34m\u001b[0m\n\u001b[0;32m      4\u001b[0m         \u001b[0mself\u001b[0m\u001b[1;33m.\u001b[0m\u001b[0mspeed\u001b[0m \u001b[1;33m=\u001b[0m \u001b[0mspeed\u001b[0m\u001b[1;33m\u001b[0m\u001b[1;33m\u001b[0m\u001b[0m\n\u001b[0;32m      5\u001b[0m         \u001b[0mself\u001b[0m\u001b[1;33m.\u001b[0m\u001b[0mmilage\u001b[0m \u001b[1;33m=\u001b[0m \u001b[0mmilage\u001b[0m\u001b[1;33m\u001b[0m\u001b[1;33m\u001b[0m\u001b[0m\n\u001b[1;32m----> 6\u001b[1;33m \u001b[0mTesla\u001b[0m \u001b[1;33m=\u001b[0m \u001b[0mCar\u001b[0m\u001b[1;33m(\u001b[0m\u001b[1;34m\"Telsa\"\u001b[0m\u001b[1;33m,\u001b[0m\u001b[1;36m200\u001b[0m\u001b[1;33m,\u001b[0m\u001b[1;36m30\u001b[0m\u001b[1;33m)\u001b[0m\u001b[1;33m\u001b[0m\u001b[1;33m\u001b[0m\u001b[0m\n\u001b[0m",
      "\u001b[1;31mTypeError\u001b[0m: __init__() takes 3 positional arguments but 4 were given"
     ]
    }
   ],
   "source": [
    "class Car:\n",
    "    def __init__(name ,speed ,milage):\n",
    "        self.name = name\n",
    "        self.speed = speed\n",
    "        self.milage = milage\n",
    "Tesla = Car(\"Telsa\",200,30)"
   ]
  },
  {
   "cell_type": "code",
   "execution_count": 12,
   "id": "78cf45e9",
   "metadata": {},
   "outputs": [
    {
     "ename": "NameError",
     "evalue": "name 'self' is not defined",
     "output_type": "error",
     "traceback": [
      "\u001b[1;31m---------------------------------------------------------------------------\u001b[0m",
      "\u001b[1;31mNameError\u001b[0m                                 Traceback (most recent call last)",
      "\u001b[1;32m~\\AppData\\Local\\Temp/ipykernel_14708/4089264086.py\u001b[0m in \u001b[0;36m<module>\u001b[1;34m\u001b[0m\n\u001b[0;32m      4\u001b[0m         \u001b[0mself\u001b[0m\u001b[1;33m.\u001b[0m\u001b[0mspeed\u001b[0m \u001b[1;33m=\u001b[0m \u001b[0mspeed\u001b[0m\u001b[1;33m\u001b[0m\u001b[1;33m\u001b[0m\u001b[0m\n\u001b[0;32m      5\u001b[0m         \u001b[0mself\u001b[0m\u001b[1;33m.\u001b[0m\u001b[0mmilage\u001b[0m \u001b[1;33m=\u001b[0m \u001b[0mmilage\u001b[0m\u001b[1;33m\u001b[0m\u001b[1;33m\u001b[0m\u001b[0m\n\u001b[1;32m----> 6\u001b[1;33m \u001b[0mTesla\u001b[0m \u001b[1;33m=\u001b[0m \u001b[0mCar\u001b[0m\u001b[1;33m(\u001b[0m\u001b[1;36m200\u001b[0m\u001b[1;33m,\u001b[0m\u001b[1;36m30\u001b[0m\u001b[1;33m)\u001b[0m\u001b[1;33m\u001b[0m\u001b[1;33m\u001b[0m\u001b[0m\n\u001b[0m",
      "\u001b[1;32m~\\AppData\\Local\\Temp/ipykernel_14708/4089264086.py\u001b[0m in \u001b[0;36m__init__\u001b[1;34m(name, speed, milage)\u001b[0m\n\u001b[0;32m      1\u001b[0m \u001b[1;32mclass\u001b[0m \u001b[0mCar\u001b[0m\u001b[1;33m:\u001b[0m\u001b[1;33m\u001b[0m\u001b[1;33m\u001b[0m\u001b[0m\n\u001b[0;32m      2\u001b[0m     \u001b[1;32mdef\u001b[0m \u001b[0m__init__\u001b[0m\u001b[1;33m(\u001b[0m\u001b[0mname\u001b[0m \u001b[1;33m,\u001b[0m\u001b[0mspeed\u001b[0m \u001b[1;33m,\u001b[0m\u001b[0mmilage\u001b[0m\u001b[1;33m)\u001b[0m\u001b[1;33m:\u001b[0m\u001b[1;33m\u001b[0m\u001b[1;33m\u001b[0m\u001b[0m\n\u001b[1;32m----> 3\u001b[1;33m         \u001b[0mself\u001b[0m\u001b[1;33m.\u001b[0m\u001b[0mname\u001b[0m \u001b[1;33m=\u001b[0m \u001b[0mname\u001b[0m\u001b[1;33m\u001b[0m\u001b[1;33m\u001b[0m\u001b[0m\n\u001b[0m\u001b[0;32m      4\u001b[0m         \u001b[0mself\u001b[0m\u001b[1;33m.\u001b[0m\u001b[0mspeed\u001b[0m \u001b[1;33m=\u001b[0m \u001b[0mspeed\u001b[0m\u001b[1;33m\u001b[0m\u001b[1;33m\u001b[0m\u001b[0m\n\u001b[0;32m      5\u001b[0m         \u001b[0mself\u001b[0m\u001b[1;33m.\u001b[0m\u001b[0mmilage\u001b[0m \u001b[1;33m=\u001b[0m \u001b[0mmilage\u001b[0m\u001b[1;33m\u001b[0m\u001b[1;33m\u001b[0m\u001b[0m\n",
      "\u001b[1;31mNameError\u001b[0m: name 'self' is not defined"
     ]
    }
   ],
   "source": [
    "class Car:\n",
    "    def __init__(name ,speed ,milage):\n",
    "        self.name = name\n",
    "        self.speed = speed\n",
    "        self.milage = milage\n",
    "Tesla = Car(200,30)"
   ]
  },
  {
   "cell_type": "code",
   "execution_count": 13,
   "id": "b52688ce",
   "metadata": {},
   "outputs": [],
   "source": [
    "class Car:\n",
    "    def __init__(name ,speed ,milage):\n",
    "        name.name = name\n",
    "        name.speed = speed\n",
    "        name.milage = milage\n",
    "Tesla = Car(200,30)"
   ]
  },
  {
   "cell_type": "code",
   "execution_count": 17,
   "id": "85f6d099",
   "metadata": {},
   "outputs": [
    {
     "name": "stdout",
     "output_type": "stream",
     "text": [
      "<__main__.Car object at 0x0000027FE626D400>\n",
      "200\n",
      "30\n"
     ]
    }
   ],
   "source": [
    "print(Tesla.name)\n",
    "print(Tesla.speed)\n",
    "print(Tesla.milage)"
   ]
  },
  {
   "cell_type": "markdown",
   "id": "33d56eee",
   "metadata": {},
   "source": [
    "Here since we haven't given self so it consider first argument name as a self which as a class object so we have to give only two arguments while calling class object those are speed and milage "
   ]
  },
  {
   "cell_type": "markdown",
   "id": "51766d22",
   "metadata": {},
   "source": [
    "Q5. What is the purpose of the __init__ method?"
   ]
  },
  {
   "cell_type": "markdown",
   "id": "63929f15",
   "metadata": {},
   "source": [
    "Ans:- __init__ method is used to build a constructor of a class . It will contain the attributes of class . This method will call when we create an instance object"
   ]
  },
  {
   "cell_type": "markdown",
   "id": "5079ab2f",
   "metadata": {},
   "source": [
    "Q6. What is the process for creating a class instance?"
   ]
  },
  {
   "cell_type": "code",
   "execution_count": 18,
   "id": "9a78989a",
   "metadata": {},
   "outputs": [],
   "source": [
    "class Car:\n",
    "    def __init__(name ,speed ,milage):\n",
    "        name.name = name\n",
    "        name.speed = speed\n",
    "        name.milage = milage\n",
    "Tesla = Car(200,30)"
   ]
  },
  {
   "cell_type": "markdown",
   "id": "4e93a771",
   "metadata": {},
   "source": [
    "Here we could see Tesla is instance object . To create Tesla instance first we have to call class name then we have to five attributes which are defined in constructor that is __init__ method"
   ]
  },
  {
   "cell_type": "markdown",
   "id": "32d9d20e",
   "metadata": {},
   "source": [
    "Q7. What is the process for creating a class?"
   ]
  },
  {
   "cell_type": "markdown",
   "id": "bff12654",
   "metadata": {},
   "source": [
    "Ans :- We can create a class like we have to write class then beside we have write class name here i gave Car and colon at the end\n"
   ]
  },
  {
   "cell_type": "code",
   "execution_count": 4,
   "id": "24e7e70b",
   "metadata": {},
   "outputs": [],
   "source": [
    "class Car :\n",
    "    pass"
   ]
  },
  {
   "cell_type": "markdown",
   "id": "f5da174a",
   "metadata": {},
   "source": [
    "Q8. How would you define the superclasses of a class?"
   ]
  },
  {
   "cell_type": "code",
   "execution_count": 6,
   "id": "95c36412",
   "metadata": {},
   "outputs": [
    {
     "data": {
      "text/plain": [
       "'Tesla'"
      ]
     },
     "execution_count": 6,
     "metadata": {},
     "output_type": "execute_result"
    }
   ],
   "source": [
    "class Car :\n",
    "    name = 'Tesla'\n",
    "class Tesla(Car):\n",
    "    pass\n",
    "\n",
    "obj = Tesla()\n",
    "obj.name"
   ]
  },
  {
   "cell_type": "markdown",
   "id": "8da8ee08",
   "metadata": {},
   "source": [
    "Here Car class is a Parent class or Superclass or Base class and Tesla is a child class or subclass .Based on above example we can define superclass like  The class from which a class inherits properties is called superclass and the class which get properties of aprent class is called subclass/childclass"
   ]
  },
  {
   "cell_type": "code",
   "execution_count": null,
   "id": "9eec593f",
   "metadata": {},
   "outputs": [],
   "source": []
  }
 ],
 "metadata": {
  "kernelspec": {
   "display_name": "Python 3 (ipykernel)",
   "language": "python",
   "name": "python3"
  },
  "language_info": {
   "codemirror_mode": {
    "name": "ipython",
    "version": 3
   },
   "file_extension": ".py",
   "mimetype": "text/x-python",
   "name": "python",
   "nbconvert_exporter": "python",
   "pygments_lexer": "ipython3",
   "version": "3.9.7"
  }
 },
 "nbformat": 4,
 "nbformat_minor": 5
}
