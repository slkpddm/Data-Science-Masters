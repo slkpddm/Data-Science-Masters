{
 "cells": [
  {
   "cell_type": "markdown",
   "id": "63d4ba6e",
   "metadata": {},
   "source": [
    "1.Write a Python program to Extract Unique values dictionary values?"
   ]
  },
  {
   "cell_type": "code",
   "execution_count": 8,
   "id": "0e8fdf12",
   "metadata": {},
   "outputs": [],
   "source": [
    "def unique(dict1):\n",
    "    lst=[] # to append all the vakues to the list\n",
    "    for i in dict1.values(): # to get values in a dictionaty\n",
    "        lst.append(i)\n",
    "    s=set(lst) # to eliminate duplicates\n",
    "    return \" Unique values in dictionary\",s\n",
    "        "
   ]
  },
  {
   "cell_type": "code",
   "execution_count": 9,
   "id": "c7908df2",
   "metadata": {},
   "outputs": [
    {
     "data": {
      "text/plain": [
       "(' Unique values in dictionary', {2, 'R141038', 'skp'})"
      ]
     },
     "execution_count": 9,
     "metadata": {},
     "output_type": "execute_result"
    }
   ],
   "source": [
    "unique({1:2,'name':'skp','roll_no':'R141038','rank':2,'nickname':'skp'})"
   ]
  },
  {
   "cell_type": "markdown",
   "id": "22a4b103",
   "metadata": {},
   "source": [
    "2.Write a Python program to find the sum of all items in a dictionary?"
   ]
  },
  {
   "cell_type": "code",
   "execution_count": 10,
   "id": "d6c54479",
   "metadata": {},
   "outputs": [],
   "source": [
    "def sum_dict(dict1):\n",
    "    sum=0\n",
    "    for i,j in dict1.items():\n",
    "        if(type(i)==int and type(j)==int):\n",
    "            sum=sum+j+i\n",
    "        elif(type(i)==int):\n",
    "            sum=sum+i\n",
    "        elif(type(j)==int):\n",
    "            sum=sum+j\n",
    "        else:\n",
    "            pass\n",
    "    return \"Sum of all items in a dictionary is\",sum   \n",
    "            "
   ]
  },
  {
   "cell_type": "code",
   "execution_count": 11,
   "id": "2a21b166",
   "metadata": {},
   "outputs": [
    {
     "data": {
      "text/plain": [
       "('Sum of all items in a dictionary is', 133)"
      ]
     },
     "execution_count": 11,
     "metadata": {},
     "output_type": "execute_result"
    }
   ],
   "source": [
    "sum_dict({1:2,'name':'skp',20:10,'roll':100})"
   ]
  },
  {
   "cell_type": "markdown",
   "id": "b97d4ff5",
   "metadata": {},
   "source": [
    "3.Write a Python program to Merging two Dictionaries?"
   ]
  },
  {
   "cell_type": "code",
   "execution_count": 19,
   "id": "f4fae29e",
   "metadata": {},
   "outputs": [],
   "source": [
    "def merge_dict(dict1,dict2):\n",
    "    for i,j in dict2.items():\n",
    "        dict1[i]=j\n",
    "    return dict1    "
   ]
  },
  {
   "cell_type": "code",
   "execution_count": 20,
   "id": "a859aea3",
   "metadata": {},
   "outputs": [
    {
     "data": {
      "text/plain": [
       "{1: 2, 'name': 'skp', 'roll': 'r141038', 'rank': 1}"
      ]
     },
     "execution_count": 20,
     "metadata": {},
     "output_type": "execute_result"
    }
   ],
   "source": [
    "merge_dict({1:2,'name':'skp'},{'roll':'r141038','rank':1})"
   ]
  },
  {
   "cell_type": "code",
   "execution_count": 21,
   "id": "f0beab24",
   "metadata": {},
   "outputs": [
    {
     "data": {
      "text/plain": [
       "'r141038'"
      ]
     },
     "execution_count": 21,
     "metadata": {},
     "output_type": "execute_result"
    }
   ],
   "source": [
    "merge_dict({1:2,'name':'skp'},{'roll':'r141038','rank':1})['roll']"
   ]
  },
  {
   "cell_type": "code",
   "execution_count": 22,
   "id": "9fc2acb6",
   "metadata": {},
   "outputs": [
    {
     "data": {
      "text/plain": [
       "1"
      ]
     },
     "execution_count": 22,
     "metadata": {},
     "output_type": "execute_result"
    }
   ],
   "source": [
    "merge_dict({1:2,'name':'skp'},{'roll':'r141038','rank':1})['rank']"
   ]
  },
  {
   "cell_type": "code",
   "execution_count": 23,
   "id": "1a717038",
   "metadata": {},
   "outputs": [
    {
     "data": {
      "text/plain": [
       "'skp'"
      ]
     },
     "execution_count": 23,
     "metadata": {},
     "output_type": "execute_result"
    }
   ],
   "source": [
    "merge_dict({1:2,'name':'skp'},{'roll':'r141038','rank':1})['name']"
   ]
  },
  {
   "cell_type": "code",
   "execution_count": 24,
   "id": "d0f51c62",
   "metadata": {},
   "outputs": [
    {
     "data": {
      "text/plain": [
       "2"
      ]
     },
     "execution_count": 24,
     "metadata": {},
     "output_type": "execute_result"
    }
   ],
   "source": [
    "merge_dict({1:2,'name':'skp'},{'roll':'r141038','rank':1})[1]"
   ]
  },
  {
   "cell_type": "code",
   "execution_count": 26,
   "id": "e93f99b5",
   "metadata": {},
   "outputs": [
    {
     "data": {
      "text/plain": [
       "{1: 2, 'name': 'dhoni', 'roll': 'r141038', 'rank': 1}"
      ]
     },
     "execution_count": 26,
     "metadata": {},
     "output_type": "execute_result"
    }
   ],
   "source": [
    "merge_dict({1:2,'name':'skp'},{'roll':'r141038','rank':1,'name':'dhoni'}) # since 'name' key is already there in dict1 so it will update the value of 'name' key"
   ]
  },
  {
   "cell_type": "markdown",
   "id": "f6ac1079",
   "metadata": {},
   "source": [
    "4.Write a Python program to convert key-values list to flat dictionary?"
   ]
  },
  {
   "cell_type": "code",
   "execution_count": 27,
   "id": "3d13fc28",
   "metadata": {},
   "outputs": [],
   "source": [
    "def flat_dict(dict1):\n",
    "    dict2={}\n",
    "    l=[]\n",
    "    for i in dict1.values():\n",
    "        l.append(i)\n",
    "    for j in range(len(l[0])):\n",
    "        dict2[l[0][j]]=l[1][j]\n",
    "    return dict2    "
   ]
  },
  {
   "cell_type": "code",
   "execution_count": 28,
   "id": "5ddadf74",
   "metadata": {},
   "outputs": [
    {
     "data": {
      "text/plain": [
       "{1: 'Jan', 2: 'Feb', 3: 'Mar', 4: 'Apr', 5: 'May'}"
      ]
     },
     "execution_count": 28,
     "metadata": {},
     "output_type": "execute_result"
    }
   ],
   "source": [
    "flat_dict({'Month_Num':[1,2,3,4,5] , 'Month_Name':['Jan','Feb','Mar','Apr','May']})"
   ]
  },
  {
   "cell_type": "markdown",
   "id": "986ed31c",
   "metadata": {},
   "source": [
    "5.Write a Python program to insertion at the beginning in OrderedDict?"
   ]
  },
  {
   "cell_type": "code",
   "execution_count": 33,
   "id": "f0cd5632",
   "metadata": {},
   "outputs": [],
   "source": [
    "def insert_dict(dict1,key,value):\n",
    "    dict2={}\n",
    "    dict2[key]=value\n",
    "    for i,j in dict1.items():\n",
    "        dict2[i]=j\n",
    "    return dict2      "
   ]
  },
  {
   "cell_type": "code",
   "execution_count": 35,
   "id": "1921f3f0",
   "metadata": {},
   "outputs": [
    {
     "data": {
      "text/plain": [
       "{'d': 4, 'a': 1, 'b': 2, 'c': 3}"
      ]
     },
     "execution_count": 35,
     "metadata": {},
     "output_type": "execute_result"
    }
   ],
   "source": [
    "insert_dict({'a':1,'b':2,'c':3},'d',4) # Inserted at beginning"
   ]
  },
  {
   "cell_type": "markdown",
   "id": "201d4462",
   "metadata": {},
   "source": [
    "6.Write a Python program to check order of character in string using OrderedDict()?"
   ]
  },
  {
   "cell_type": "code",
   "execution_count": 36,
   "id": "ea7bf388",
   "metadata": {},
   "outputs": [],
   "source": [
    "def OrderedDict(string,pattern):\n",
    "    if pattern in string :\n",
    "        return True\n",
    "    else:\n",
    "        return False"
   ]
  },
  {
   "cell_type": "code",
   "execution_count": 37,
   "id": "9a4d9378",
   "metadata": {},
   "outputs": [
    {
     "data": {
      "text/plain": [
       "True"
      ]
     },
     "execution_count": 37,
     "metadata": {},
     "output_type": "execute_result"
    }
   ],
   "source": [
    "OrderedDict('superstarskp','skp')"
   ]
  },
  {
   "cell_type": "code",
   "execution_count": 38,
   "id": "345489c5",
   "metadata": {},
   "outputs": [
    {
     "data": {
      "text/plain": [
       "False"
      ]
     },
     "execution_count": 38,
     "metadata": {},
     "output_type": "execute_result"
    }
   ],
   "source": [
    "OrderedDict('superstarskp','skp7')"
   ]
  },
  {
   "cell_type": "markdown",
   "id": "916c746a",
   "metadata": {},
   "source": [
    "7.Write a Python program to sort Python Dictionaries by Key or Value?"
   ]
  },
  {
   "cell_type": "code",
   "execution_count": 39,
   "id": "8cbd0a7c",
   "metadata": {},
   "outputs": [],
   "source": [
    "#Sorting by Keys\n",
    "def sort_dict(dict1):\n",
    "    dict2={}\n",
    "    l=[]\n",
    "    for i in dict1.keys():\n",
    "        l.append(i)\n",
    "    l.sort()\n",
    "    for i in range(len(l)):\n",
    "        dict2[l[i]]=dict1[l[i]]\n",
    "    return dict2    "
   ]
  },
  {
   "cell_type": "code",
   "execution_count": 40,
   "id": "09b1a2d8",
   "metadata": {},
   "outputs": [
    {
     "data": {
      "text/plain": [
       "{'a': 1, 'b': 2, 'c': 3, 'd': 4}"
      ]
     },
     "execution_count": 40,
     "metadata": {},
     "output_type": "execute_result"
    }
   ],
   "source": [
    "sort_dict({'b':2,\"d\":4,\"a\":1,'c':3})"
   ]
  },
  {
   "cell_type": "code",
   "execution_count": 72,
   "id": "5f60a1a9",
   "metadata": {},
   "outputs": [],
   "source": [
    "# Sorting by Values\n",
    "def sort_dict1(dict1):\n",
    "    dict2={}\n",
    "    l=[] # for values\n",
    "    for i in dict1.values():\n",
    "        l.append(i)\n",
    "    l.sort()\n",
    "    li=[]\n",
    "    for k in range(len(l)):\n",
    "        for i,j in dict1.items():\n",
    "            if(j==l[k]):\n",
    "                li.append(i)\n",
    "                break\n",
    "    for n in range(len(l)):\n",
    "        dict2[li[n]]=l[n]\n",
    "    return dict2                 "
   ]
  },
  {
   "cell_type": "code",
   "execution_count": 73,
   "id": "308bcf69",
   "metadata": {},
   "outputs": [
    {
     "data": {
      "text/plain": [
       "{'a': 1, 'b': 2, 'c': 3, 'd': 4}"
      ]
     },
     "execution_count": 73,
     "metadata": {},
     "output_type": "execute_result"
    }
   ],
   "source": [
    "sort_dict1({'b':2,\"d\":4,\"a\":1,'c':3})"
   ]
  },
  {
   "cell_type": "code",
   "execution_count": null,
   "id": "9bb456e5",
   "metadata": {},
   "outputs": [],
   "source": []
  }
 ],
 "metadata": {
  "kernelspec": {
   "display_name": "Python 3 (ipykernel)",
   "language": "python",
   "name": "python3"
  },
  "language_info": {
   "codemirror_mode": {
    "name": "ipython",
    "version": 3
   },
   "file_extension": ".py",
   "mimetype": "text/x-python",
   "name": "python",
   "nbconvert_exporter": "python",
   "pygments_lexer": "ipython3",
   "version": "3.9.7"
  }
 },
 "nbformat": 4,
 "nbformat_minor": 5
}
