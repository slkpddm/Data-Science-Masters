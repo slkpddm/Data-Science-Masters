{
 "cells": [
  {
   "cell_type": "markdown",
   "id": "be4b6fa9",
   "metadata": {},
   "source": [
    "1. In the below elements which of them are values or an expression? eg:- values can be integer or string and expressions will be mathematical operators.\n",
    "* \n",
    "'hello'\n",
    "-87.8\n",
    "- \n",
    "/ \n",
    "+\t\n",
    "6 \n",
    "  "
   ]
  },
  {
   "cell_type": "markdown",
   "id": "ee4bd4e0",
   "metadata": {},
   "source": [
    "Values :\"hello\" , -87.8 and 6\n",
    "Expressions : * ,- , + ,/"
   ]
  },
  {
   "cell_type": "markdown",
   "id": "2e6f43a7",
   "metadata": {},
   "source": [
    "2. What is the difference between string and variable?"
   ]
  },
  {
   "cell_type": "markdown",
   "id": "a0b35c54",
   "metadata": {},
   "source": [
    "Variable : we can assign a value or string to a variable . It indicates the location of that value or string\n",
    "String : String is a value which will be inside a quotes and will be assigned to a String variable"
   ]
  },
  {
   "cell_type": "markdown",
   "id": "23406afd",
   "metadata": {},
   "source": [
    "3. Describe three different data types."
   ]
  },
  {
   "cell_type": "markdown",
   "id": "4d4a4be5",
   "metadata": {},
   "source": [
    "Three different data types :\n",
    "1.Integer : Integer is basically a number without decimal points .Example : 1 ,2,-323 ...\n",
    "2.Float   : Float is also a number with decimal points.Example : 1.2 , 2.44 ...\n",
    "3.String  : Anything inside a quotes will be consider as a string . Example : \"Dhoni\",\"12342\"       "
   ]
  },
  {
   "cell_type": "markdown",
   "id": "23f36081",
   "metadata": {},
   "source": [
    "4. What is an expression made up of? What do all expressions do?"
   ]
  },
  {
   "cell_type": "markdown",
   "id": "190a7500",
   "metadata": {},
   "source": [
    "An expression is made up of mathematical operators and logical operators like * , - , + , / , or , and etc\n",
    "All expressions will do mathematical operations and logical operations like addition , substraction,multiplication , division ,\n",
    "AND operation , OR operation and EXOR etc"
   ]
  },
  {
   "cell_type": "markdown",
   "id": "3996d4af",
   "metadata": {},
   "source": [
    "5. This assignment statements, like spam = 10. What is the difference between an expression and a statement?"
   ]
  },
  {
   "cell_type": "markdown",
   "id": "a01b267a",
   "metadata": {},
   "source": [
    "An assignment operator spam = 10 indicates spam is variable for which value 10 is assigned means \n",
    "An expression indiactes operation means ultimately it will provide the result of that operation"
   ]
  },
  {
   "cell_type": "markdown",
   "id": "44bfafcb",
   "metadata": {},
   "source": [
    "6. After running the following code, what does the variable bacon contain?\n",
    "bacon = 22\n",
    "bacon + 1"
   ]
  },
  {
   "cell_type": "code",
   "execution_count": 8,
   "id": "d323fe9e",
   "metadata": {},
   "outputs": [
    {
     "data": {
      "text/plain": [
       "23"
      ]
     },
     "execution_count": 8,
     "metadata": {},
     "output_type": "execute_result"
    }
   ],
   "source": [
    "bacon = 22\n",
    "bacon+1"
   ]
  },
  {
   "cell_type": "code",
   "execution_count": 9,
   "id": "d7158f85",
   "metadata": {},
   "outputs": [
    {
     "data": {
      "text/plain": [
       "22"
      ]
     },
     "execution_count": 9,
     "metadata": {},
     "output_type": "execute_result"
    }
   ],
   "source": [
    "bacon"
   ]
  },
  {
   "cell_type": "markdown",
   "id": "57c40afe",
   "metadata": {},
   "source": [
    "Herer Bacon value won't change because we are not assigning any operation to the Bacon "
   ]
  },
  {
   "cell_type": "raw",
   "id": "9e844f82",
   "metadata": {},
   "source": [
    "7. What should the values of the following two terms be?\n",
    "'spam' + 'spamspam'\n",
    "'spam' * 3"
   ]
  },
  {
   "cell_type": "code",
   "execution_count": 3,
   "id": "7aac1420",
   "metadata": {},
   "outputs": [
    {
     "name": "stdout",
     "output_type": "stream",
     "text": [
      "spamspamspam\n"
     ]
    }
   ],
   "source": [
    "print('spam' + 'spamspam')"
   ]
  },
  {
   "cell_type": "code",
   "execution_count": 4,
   "id": "c58f7cc9",
   "metadata": {},
   "outputs": [
    {
     "name": "stdout",
     "output_type": "stream",
     "text": [
      "spamspamspam\n"
     ]
    }
   ],
   "source": [
    "print('spam' * 3)"
   ]
  },
  {
   "cell_type": "markdown",
   "id": "b362ba37",
   "metadata": {},
   "source": [
    "Here we can come to conclusion that Number of times u added the string is equal to number times u multiplied with integer"
   ]
  },
  {
   "cell_type": "raw",
   "id": "29704fe1",
   "metadata": {},
   "source": [
    "8. Why is eggs a valid variable name while 100 is invalid?"
   ]
  },
  {
   "cell_type": "markdown",
   "id": "2e729a47",
   "metadata": {},
   "source": [
    "Eggs : is a valid variable name bcz to define a variable there are certain rules we had among them is variable should not start with an integer and some optional characters like #,@ etc\n",
    "100  : is not a valid variable bcz it is starting with the integer which is valaiting the rules of defining a variable"
   ]
  },
  {
   "cell_type": "code",
   "execution_count": 5,
   "id": "479c041a",
   "metadata": {},
   "outputs": [],
   "source": [
    "Eggs =10"
   ]
  },
  {
   "cell_type": "code",
   "execution_count": 6,
   "id": "32ea397d",
   "metadata": {},
   "outputs": [
    {
     "data": {
      "text/plain": [
       "10"
      ]
     },
     "execution_count": 6,
     "metadata": {},
     "output_type": "execute_result"
    }
   ],
   "source": [
    "Eggs"
   ]
  },
  {
   "cell_type": "code",
   "execution_count": 7,
   "id": "14c0e987",
   "metadata": {},
   "outputs": [
    {
     "ename": "SyntaxError",
     "evalue": "cannot assign to literal (Temp/ipykernel_2056/2666396822.py, line 1)",
     "output_type": "error",
     "traceback": [
      "\u001b[1;36m  File \u001b[1;32m\"C:\\Users\\slkpd\\AppData\\Local\\Temp/ipykernel_2056/2666396822.py\"\u001b[1;36m, line \u001b[1;32m1\u001b[0m\n\u001b[1;33m    100 = 10\u001b[0m\n\u001b[1;37m    ^\u001b[0m\n\u001b[1;31mSyntaxError\u001b[0m\u001b[1;31m:\u001b[0m cannot assign to literal\n"
     ]
    }
   ],
   "source": [
    "100 = 10"
   ]
  },
  {
   "cell_type": "code",
   "execution_count": 10,
   "id": "44654824",
   "metadata": {},
   "outputs": [
    {
     "ename": "SyntaxError",
     "evalue": "invalid syntax (Temp/ipykernel_2056/3200244024.py, line 1)",
     "output_type": "error",
     "traceback": [
      "\u001b[1;36m  File \u001b[1;32m\"C:\\Users\\slkpd\\AppData\\Local\\Temp/ipykernel_2056/3200244024.py\"\u001b[1;36m, line \u001b[1;32m1\u001b[0m\n\u001b[1;33m    @Eggs =10\u001b[0m\n\u001b[1;37m          ^\u001b[0m\n\u001b[1;31mSyntaxError\u001b[0m\u001b[1;31m:\u001b[0m invalid syntax\n"
     ]
    }
   ],
   "source": [
    "@Eggs =10"
   ]
  },
  {
   "cell_type": "code",
   "execution_count": 11,
   "id": "62e9c3b7",
   "metadata": {},
   "outputs": [],
   "source": [
    "_Eggs =10  #we can define a variable by starting with underscore character"
   ]
  },
  {
   "cell_type": "code",
   "execution_count": 12,
   "id": "1ef08e2a",
   "metadata": {},
   "outputs": [],
   "source": [
    "#Eggs =10  # we already knew rite # bydefault indicates the comment"
   ]
  },
  {
   "cell_type": "raw",
   "id": "cdb79baa",
   "metadata": {},
   "source": [
    "9. What three functions can be used to get the integer, floating-point number, or string version of a value?"
   ]
  },
  {
   "cell_type": "code",
   "execution_count": 13,
   "id": "cba22d52",
   "metadata": {},
   "outputs": [
    {
     "name": "stdout",
     "output_type": "stream",
     "text": [
      "Enter the input : 123\n"
     ]
    }
   ],
   "source": [
    "# Bydefault when i take the input from user it will assign that to a string\n",
    "var = input(\"Enter the input : \")"
   ]
  },
  {
   "cell_type": "code",
   "execution_count": 14,
   "id": "7808b79c",
   "metadata": {},
   "outputs": [
    {
     "data": {
      "text/plain": [
       "'123'"
      ]
     },
     "execution_count": 14,
     "metadata": {},
     "output_type": "execute_result"
    }
   ],
   "source": [
    "var"
   ]
  },
  {
   "cell_type": "code",
   "execution_count": 15,
   "id": "5fcefb35",
   "metadata": {},
   "outputs": [
    {
     "data": {
      "text/plain": [
       "str"
      ]
     },
     "execution_count": 15,
     "metadata": {},
     "output_type": "execute_result"
    }
   ],
   "source": [
    "type(var)"
   ]
  },
  {
   "cell_type": "code",
   "execution_count": 16,
   "id": "ca18457f",
   "metadata": {},
   "outputs": [],
   "source": [
    "# to convert from str to int we can do the type casting\n",
    "var = int(var)"
   ]
  },
  {
   "cell_type": "code",
   "execution_count": 17,
   "id": "1f0e76c9",
   "metadata": {},
   "outputs": [
    {
     "data": {
      "text/plain": [
       "123"
      ]
     },
     "execution_count": 17,
     "metadata": {},
     "output_type": "execute_result"
    }
   ],
   "source": [
    "var"
   ]
  },
  {
   "cell_type": "code",
   "execution_count": 18,
   "id": "081fd1e1",
   "metadata": {},
   "outputs": [
    {
     "data": {
      "text/plain": [
       "int"
      ]
     },
     "execution_count": 18,
     "metadata": {},
     "output_type": "execute_result"
    }
   ],
   "source": [
    "type(var)"
   ]
  },
  {
   "cell_type": "code",
   "execution_count": 19,
   "id": "248de4ba",
   "metadata": {},
   "outputs": [],
   "source": [
    "# to convert from int to float \n",
    "var = float(var)"
   ]
  },
  {
   "cell_type": "code",
   "execution_count": 20,
   "id": "b2455ec5",
   "metadata": {},
   "outputs": [
    {
     "data": {
      "text/plain": [
       "123.0"
      ]
     },
     "execution_count": 20,
     "metadata": {},
     "output_type": "execute_result"
    }
   ],
   "source": [
    "var"
   ]
  },
  {
   "cell_type": "code",
   "execution_count": 21,
   "id": "d3a45a50",
   "metadata": {},
   "outputs": [
    {
     "data": {
      "text/plain": [
       "float"
      ]
     },
     "execution_count": 21,
     "metadata": {},
     "output_type": "execute_result"
    }
   ],
   "source": [
    "type(var)"
   ]
  },
  {
   "cell_type": "code",
   "execution_count": 22,
   "id": "c452699e",
   "metadata": {},
   "outputs": [],
   "source": [
    "# Again to convert from float to string\n",
    "var = str(var)"
   ]
  },
  {
   "cell_type": "code",
   "execution_count": 23,
   "id": "d3e8fdd5",
   "metadata": {},
   "outputs": [
    {
     "data": {
      "text/plain": [
       "'123.0'"
      ]
     },
     "execution_count": 23,
     "metadata": {},
     "output_type": "execute_result"
    }
   ],
   "source": [
    "var"
   ]
  },
  {
   "cell_type": "code",
   "execution_count": 24,
   "id": "ee8674b9",
   "metadata": {},
   "outputs": [
    {
     "data": {
      "text/plain": [
       "str"
      ]
     },
     "execution_count": 24,
     "metadata": {},
     "output_type": "execute_result"
    }
   ],
   "source": [
    "type(var)"
   ]
  },
  {
   "cell_type": "markdown",
   "id": "e4440bab",
   "metadata": {},
   "source": [
    "So to convert to integer , float and string we will int() , float() and str() of functions"
   ]
  },
  {
   "cell_type": "raw",
   "id": "a0a4d244",
   "metadata": {},
   "source": [
    "10. Why does this expression cause an error? How can you fix it?\n",
    "'I have eaten ' + 99 + ' burritos.'\n"
   ]
  },
  {
   "cell_type": "code",
   "execution_count": 25,
   "id": "4887614b",
   "metadata": {},
   "outputs": [
    {
     "ename": "TypeError",
     "evalue": "can only concatenate str (not \"int\") to str",
     "output_type": "error",
     "traceback": [
      "\u001b[1;31m---------------------------------------------------------------------------\u001b[0m",
      "\u001b[1;31mTypeError\u001b[0m                                 Traceback (most recent call last)",
      "\u001b[1;32m~\\AppData\\Local\\Temp/ipykernel_2056/1774935878.py\u001b[0m in \u001b[0;36m<module>\u001b[1;34m\u001b[0m\n\u001b[1;32m----> 1\u001b[1;33m \u001b[1;34m'I have eaten '\u001b[0m \u001b[1;33m+\u001b[0m \u001b[1;36m99\u001b[0m \u001b[1;33m+\u001b[0m \u001b[1;34m' burritos.'\u001b[0m\u001b[1;33m\u001b[0m\u001b[1;33m\u001b[0m\u001b[0m\n\u001b[0m",
      "\u001b[1;31mTypeError\u001b[0m: can only concatenate str (not \"int\") to str"
     ]
    }
   ],
   "source": [
    "'I have eaten ' + 99 + ' burritos.'"
   ]
  },
  {
   "cell_type": "markdown",
   "id": "993b6a95",
   "metadata": {},
   "source": [
    "Here we are concatenating the string with integer so we are getting the compatible error\n",
    "to avoid this we can give 99 inside the quotes"
   ]
  },
  {
   "cell_type": "code",
   "execution_count": 26,
   "id": "cc1bf648",
   "metadata": {},
   "outputs": [
    {
     "data": {
      "text/plain": [
       "'I have eaten 99  burritos.'"
      ]
     },
     "execution_count": 26,
     "metadata": {},
     "output_type": "execute_result"
    }
   ],
   "source": [
    "'I have eaten ' + '99 '+ ' burritos.'"
   ]
  },
  {
   "cell_type": "code",
   "execution_count": null,
   "id": "0482812a",
   "metadata": {},
   "outputs": [],
   "source": []
  }
 ],
 "metadata": {
  "kernelspec": {
   "display_name": "Python 3 (ipykernel)",
   "language": "python",
   "name": "python3"
  },
  "language_info": {
   "codemirror_mode": {
    "name": "ipython",
    "version": 3
   },
   "file_extension": ".py",
   "mimetype": "text/x-python",
   "name": "python",
   "nbconvert_exporter": "python",
   "pygments_lexer": "ipython3",
   "version": "3.9.7"
  }
 },
 "nbformat": 4,
 "nbformat_minor": 5
}
