{
 "cells": [
  {
   "cell_type": "markdown",
   "id": "8f5ae658",
   "metadata": {},
   "source": [
    "# Q1"
   ]
  },
  {
   "cell_type": "code",
   "execution_count": 3,
   "id": "2d4abf9e",
   "metadata": {},
   "outputs": [
    {
     "data": {
      "text/plain": [
       "'\\n1. What is the result of the code, and why?\\ndef func(a,b=6,c=8):\\n    print(a,b,c)\\nfunc(1,2)    \\n'"
      ]
     },
     "execution_count": 3,
     "metadata": {},
     "output_type": "execute_result"
    }
   ],
   "source": [
    "'''\n",
    "1. What is the result of the code, and why?\n",
    "def func(a,b=6,c=8):\n",
    "    print(a,b,c)\n",
    "func(1,2)    \n",
    "'''"
   ]
  },
  {
   "cell_type": "code",
   "execution_count": 3,
   "id": "ba170cc2",
   "metadata": {},
   "outputs": [],
   "source": [
    "def func(a,b=6,c=8):\n",
    "    print(a,b,c)"
   ]
  },
  {
   "cell_type": "code",
   "execution_count": 4,
   "id": "530abe26",
   "metadata": {},
   "outputs": [
    {
     "name": "stdout",
     "output_type": "stream",
     "text": [
      "1 2 8\n"
     ]
    }
   ],
   "source": [
    "func(1,2)"
   ]
  },
  {
   "cell_type": "markdown",
   "id": "049e880d",
   "metadata": {},
   "source": [
    "Here since in func(a,b=6,c=8) by default we are already assigned the values to b and c so while calling the fun() we no need to give values for b and c . If we give values inplace of b and c it will ovverride the previously assigned values with the newly given values . Here fun(1,2) by default it will assign a=1 and oveeride b=6 with b=2 and since we haven't given c values it will come as it is"
   ]
  },
  {
   "cell_type": "markdown",
   "id": "228e5247",
   "metadata": {},
   "source": [
    "# Q2"
   ]
  },
  {
   "cell_type": "code",
   "execution_count": 1,
   "id": "aba23e35",
   "metadata": {},
   "outputs": [
    {
     "name": "stdout",
     "output_type": "stream",
     "text": [
      "\n"
     ]
    }
   ],
   "source": [
    "'''\n",
    "2. What is the result of the code, and why?\n",
    "def func(a,b,c=5):\n",
    "    print(a,b,c)\n",
    "func(1,c=3,b=2)    \n",
    "'''\n",
    "print()"
   ]
  },
  {
   "cell_type": "code",
   "execution_count": 10,
   "id": "00928c9d",
   "metadata": {},
   "outputs": [],
   "source": [
    "def func(a,b,c=5):\n",
    "    print(a,b,c)"
   ]
  },
  {
   "cell_type": "code",
   "execution_count": 11,
   "id": "bd197a17",
   "metadata": {},
   "outputs": [
    {
     "name": "stdout",
     "output_type": "stream",
     "text": [
      "1 2 3\n"
     ]
    }
   ],
   "source": [
    "func(1,c=3,b=2)"
   ]
  },
  {
   "cell_type": "markdown",
   "id": "7df28811",
   "metadata": {},
   "source": [
    "# Q3"
   ]
  },
  {
   "cell_type": "code",
   "execution_count": 5,
   "id": "87a97685",
   "metadata": {},
   "outputs": [
    {
     "name": "stdout",
     "output_type": "stream",
     "text": [
      "\n"
     ]
    }
   ],
   "source": [
    "'''\n",
    "3. How about this code: what is its result, and why?\n",
    "def func(a,*pargs):\n",
    "    print(a,prgs)\n",
    "func(1,2,3)    \n",
    "'''\n",
    "print()"
   ]
  },
  {
   "cell_type": "code",
   "execution_count": 8,
   "id": "208b3cdf",
   "metadata": {},
   "outputs": [],
   "source": [
    "def func(a,*pargs):\n",
    "    print(a,pargs)"
   ]
  },
  {
   "cell_type": "code",
   "execution_count": 9,
   "id": "c3036813",
   "metadata": {},
   "outputs": [
    {
     "name": "stdout",
     "output_type": "stream",
     "text": [
      "1 (2, 3)\n"
     ]
    }
   ],
   "source": [
    "func(1,2,3)"
   ]
  },
  {
   "cell_type": "markdown",
   "id": "afe41065",
   "metadata": {},
   "source": [
    "Here *pargs is used for flexibility that user do not have the limit to give these many inputs exactly.So when we give *pargs means it will accept any number of inputs.\n",
    "And all these input would be listed as a tuple so that's y we could in tuple (2,3) when we call func(1,2,3) where a=1 and remaining two arguments are related to \n",
    "*pargs"
   ]
  },
  {
   "cell_type": "markdown",
   "id": "d7b57c04",
   "metadata": {},
   "source": [
    "# Q4"
   ]
  },
  {
   "cell_type": "code",
   "execution_count": 10,
   "id": "c56bf729",
   "metadata": {},
   "outputs": [
    {
     "name": "stdout",
     "output_type": "stream",
     "text": [
      "\n"
     ]
    }
   ],
   "source": [
    "'''\n",
    "4. What does this code print, and why?\n",
    "def func(a,**kargs):\n",
    "    print(a,kargs)\n",
    "func(a=1,c=3,b=2)    \n",
    "'''\n",
    "print()"
   ]
  },
  {
   "cell_type": "code",
   "execution_count": 11,
   "id": "6e728f33",
   "metadata": {},
   "outputs": [],
   "source": [
    "def func(a,**kargs):\n",
    "    print(a,kargs)"
   ]
  },
  {
   "cell_type": "code",
   "execution_count": 12,
   "id": "9e5c2549",
   "metadata": {},
   "outputs": [
    {
     "name": "stdout",
     "output_type": "stream",
     "text": [
      "1 {'c': 3, 'b': 2}\n"
     ]
    }
   ],
   "source": [
    "func(a=1,c=3,b=2) "
   ]
  },
  {
   "cell_type": "markdown",
   "id": "0c545709",
   "metadata": {},
   "source": [
    "Here **kargs take an input as a key value pair means almost like a dictionary . when we call func(a=1,c=3,b=2)  here a=1 and remaining 2 arguments c=3 and b=2 are keywords arguments so they would be displayed in the form of key value pair which is like dictionary"
   ]
  },
  {
   "cell_type": "markdown",
   "id": "bef4e4f3",
   "metadata": {},
   "source": [
    "# Q5"
   ]
  },
  {
   "cell_type": "code",
   "execution_count": 13,
   "id": "9dbc8a73",
   "metadata": {},
   "outputs": [
    {
     "name": "stdout",
     "output_type": "stream",
     "text": [
      "\n"
     ]
    }
   ],
   "source": [
    "'''\n",
    "5. What gets printed by this, and explain?\n",
    "def func(a, b, c=8, d=5):\n",
    "    print(a, b, c, d)\n",
    "    \n",
    "'''\n",
    "print()"
   ]
  },
  {
   "cell_type": "code",
   "execution_count": 15,
   "id": "651183b2",
   "metadata": {},
   "outputs": [],
   "source": [
    "def func(a, b, c=8, d=5):\n",
    "    print(a, b, c, d)"
   ]
  },
  {
   "cell_type": "code",
   "execution_count": 23,
   "id": "4c6ba457",
   "metadata": {},
   "outputs": [
    {
     "name": "stdout",
     "output_type": "stream",
     "text": [
      "1 5 6 5\n"
     ]
    }
   ],
   "source": [
    "func(1,*(5, 6))"
   ]
  },
  {
   "cell_type": "markdown",
   "id": "04074bef",
   "metadata": {},
   "source": [
    "Here func(1,*(5, 6)) 1 is assigning to variable argument a then remaining *(5,6) are b=5 and c=6 are assigned .Here * mark would make tuple used as for multiple arguments if we remove the * mark then it would consider whole (5,6) as a single input"
   ]
  },
  {
   "cell_type": "code",
   "execution_count": 24,
   "id": "0e6d196a",
   "metadata": {},
   "outputs": [
    {
     "name": "stdout",
     "output_type": "stream",
     "text": [
      "1 (5, 6) 8 5\n"
     ]
    }
   ],
   "source": [
    "func(1,(5, 6))"
   ]
  },
  {
   "cell_type": "code",
   "execution_count": 25,
   "id": "ad870667",
   "metadata": {},
   "outputs": [
    {
     "name": "stdout",
     "output_type": "stream",
     "text": [
      "1 5 6 9\n"
     ]
    }
   ],
   "source": [
    "func(1,*(5, 6,9))"
   ]
  },
  {
   "cell_type": "code",
   "execution_count": 26,
   "id": "a203fd27",
   "metadata": {},
   "outputs": [
    {
     "name": "stdout",
     "output_type": "stream",
     "text": [
      "3 2 5 6\n"
     ]
    }
   ],
   "source": [
    "func(*(3,2,5, 6))"
   ]
  },
  {
   "cell_type": "code",
   "execution_count": 27,
   "id": "469ba351",
   "metadata": {},
   "outputs": [
    {
     "ename": "TypeError",
     "evalue": "func() missing 1 required positional argument: 'b'",
     "output_type": "error",
     "traceback": [
      "\u001b[1;31m---------------------------------------------------------------------------\u001b[0m",
      "\u001b[1;31mTypeError\u001b[0m                                 Traceback (most recent call last)",
      "\u001b[1;32m~\\AppData\\Local\\Temp/ipykernel_1576/1956968028.py\u001b[0m in \u001b[0;36m<module>\u001b[1;34m\u001b[0m\n\u001b[1;32m----> 1\u001b[1;33m \u001b[0mfunc\u001b[0m\u001b[1;33m(\u001b[0m\u001b[1;33m(\u001b[0m\u001b[1;36m3\u001b[0m\u001b[1;33m,\u001b[0m\u001b[1;36m2\u001b[0m\u001b[1;33m,\u001b[0m\u001b[1;36m5\u001b[0m\u001b[1;33m,\u001b[0m \u001b[1;36m6\u001b[0m\u001b[1;33m)\u001b[0m\u001b[1;33m)\u001b[0m\u001b[1;33m\u001b[0m\u001b[1;33m\u001b[0m\u001b[0m\n\u001b[0m",
      "\u001b[1;31mTypeError\u001b[0m: func() missing 1 required positional argument: 'b'"
     ]
    }
   ],
   "source": [
    "func((3,2,5, 6))"
   ]
  },
  {
   "cell_type": "code",
   "execution_count": 28,
   "id": "a9a4f163",
   "metadata": {},
   "outputs": [
    {
     "name": "stdout",
     "output_type": "stream",
     "text": [
      "(3, 2, 5, 6) (1, 2, 3, 4) 8 5\n"
     ]
    }
   ],
   "source": [
    "func((3,2,5, 6),(1,2,3,4))"
   ]
  },
  {
   "cell_type": "markdown",
   "id": "f1e57c63",
   "metadata": {},
   "source": [
    "# Q6"
   ]
  },
  {
   "cell_type": "code",
   "execution_count": 29,
   "id": "07c1a24d",
   "metadata": {},
   "outputs": [
    {
     "name": "stdout",
     "output_type": "stream",
     "text": [
      "\n"
     ]
    }
   ],
   "source": [
    "'''\n",
    "6. what is the result of this, and explain?\n",
    "\n",
    "def func(a, b, c):\n",
    "    a = 2\n",
    "    b[0] ='x'\n",
    "    c['a']='y'\n",
    "l=1,m=[1],n={'a':0}\n",
    "func(l, m, n)\n",
    "l,m,n\n",
    "    \n",
    "'''\n",
    "print()"
   ]
  },
  {
   "cell_type": "code",
   "execution_count": 36,
   "id": "542e7e34",
   "metadata": {},
   "outputs": [],
   "source": [
    "def func(a, b, c):\n",
    "    a = 2\n",
    "    b[0] ='x'\n",
    "    c['a']='y'\n",
    "    print(a,b,c)"
   ]
  },
  {
   "cell_type": "code",
   "execution_count": 43,
   "id": "4a7e581d",
   "metadata": {},
   "outputs": [],
   "source": [
    "l=1;m=[1];n={'a':0}"
   ]
  },
  {
   "cell_type": "code",
   "execution_count": 46,
   "id": "c25f3076",
   "metadata": {},
   "outputs": [
    {
     "name": "stdout",
     "output_type": "stream",
     "text": [
      "2 ['x'] {'a': 'y'}\n"
     ]
    }
   ],
   "source": [
    "func(_, m, n)"
   ]
  },
  {
   "cell_type": "code",
   "execution_count": 47,
   "id": "177f951b",
   "metadata": {},
   "outputs": [
    {
     "data": {
      "text/plain": [
       "(1, ['x'], {'a': 'y'})"
      ]
     },
     "execution_count": 47,
     "metadata": {},
     "output_type": "execute_result"
    }
   ],
   "source": [
    "l,m,n"
   ]
  },
  {
   "cell_type": "code",
   "execution_count": 34,
   "id": "9ce39332",
   "metadata": {},
   "outputs": [],
   "source": [
    "e=1;f=[1];g={'a':0}"
   ]
  },
  {
   "cell_type": "code",
   "execution_count": 35,
   "id": "6d5826a9",
   "metadata": {},
   "outputs": [
    {
     "data": {
      "text/plain": [
       "(1, [1], {'a': 0})"
      ]
     },
     "execution_count": 35,
     "metadata": {},
     "output_type": "execute_result"
    }
   ],
   "source": [
    "e,f,g"
   ]
  },
  {
   "cell_type": "markdown",
   "id": "251b76e4",
   "metadata": {},
   "source": [
    "By observing all these what we could understand is that since m,n are lists so when we pass the arguments to the function there actually values are modifying at the same index since list is mutable but int variable l is immutable so u can't change the value alreay assigned to variable l which is 1 . If u see after after i placed the placeholder inplace of argument a and we we give print statement inside a function it wpuld print a=2 since it can't change"
   ]
  },
  {
   "cell_type": "code",
   "execution_count": null,
   "id": "5a6a68af",
   "metadata": {},
   "outputs": [],
   "source": []
  }
 ],
 "metadata": {
  "kernelspec": {
   "display_name": "Python 3 (ipykernel)",
   "language": "python",
   "name": "python3"
  },
  "language_info": {
   "codemirror_mode": {
    "name": "ipython",
    "version": 3
   },
   "file_extension": ".py",
   "mimetype": "text/x-python",
   "name": "python",
   "nbconvert_exporter": "python",
   "pygments_lexer": "ipython3",
   "version": "3.9.7"
  }
 },
 "nbformat": 4,
 "nbformat_minor": 5
}
