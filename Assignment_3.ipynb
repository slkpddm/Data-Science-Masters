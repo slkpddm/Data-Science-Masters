{
 "cells": [
  {
   "cell_type": "markdown",
   "id": "9f74a8de",
   "metadata": {},
   "source": [
    "1. Why are functions advantageous to have in your programs?"
   ]
  },
  {
   "cell_type": "markdown",
   "id": "40ddb617",
   "metadata": {},
   "source": [
    "Ans :- Functions can be reusable . Suppose in a code if i want to do factorial multiple times then instead of writing full code everytime we can call the function whenever we needed"
   ]
  },
  {
   "cell_type": "markdown",
   "id": "f2b95f15",
   "metadata": {},
   "source": [
    "2. When does the code in a function run: when it&#39;s specified or when it&#39;s called?"
   ]
  },
  {
   "cell_type": "code",
   "execution_count": 4,
   "id": "205f059e",
   "metadata": {},
   "outputs": [],
   "source": [
    "# Ans:-The code in a function will run when we call the funtion\n",
    "def name():\n",
    "    print(\"skp\")    "
   ]
  },
  {
   "cell_type": "code",
   "execution_count": 6,
   "id": "d9cff0f1",
   "metadata": {},
   "outputs": [
    {
     "name": "stdout",
     "output_type": "stream",
     "text": [
      "skp\n"
     ]
    }
   ],
   "source": [
    "# Here u can c it printed the skp when we called the function\n",
    "name()"
   ]
  },
  {
   "cell_type": "markdown",
   "id": "5342c124",
   "metadata": {},
   "source": [
    "3. What statement creates a function?"
   ]
  },
  {
   "cell_type": "code",
   "execution_count": 7,
   "id": "ea1bafc5",
   "metadata": {},
   "outputs": [],
   "source": [
    "#Ans:-when we use def before the function name\n",
    "def name():\n",
    "    print(\"skp\")\n",
    "    "
   ]
  },
  {
   "cell_type": "code",
   "execution_count": 8,
   "id": "6ad11564",
   "metadata": {},
   "outputs": [
    {
     "name": "stdout",
     "output_type": "stream",
     "text": [
      "skp\n"
     ]
    }
   ],
   "source": [
    "name()"
   ]
  },
  {
   "cell_type": "markdown",
   "id": "10888a9d",
   "metadata": {},
   "source": [
    "4. What is the difference between a function and a function call?"
   ]
  },
  {
   "cell_type": "markdown",
   "id": "a025bf13",
   "metadata": {},
   "source": [
    "Ans: - Function will have a whole body means it has the content/logic in and it won't run anything but when we call a function the code in it will run and it will return or print the result or if we use pass then nothing will be returned"
   ]
  },
  {
   "cell_type": "markdown",
   "id": "abf0406a",
   "metadata": {},
   "source": [
    "5. How many global scopes are there in a Python program? How many local scopes?"
   ]
  },
  {
   "cell_type": "markdown",
   "id": "570ec139",
   "metadata": {},
   "source": [
    "Ans: - In a python program there is only one Global score and it wil; have the existence through out the code .\n",
    "       Local scopes can be many . We cannot say these many loca sopes in a code . Depends on code and requirements we will have the local scopes"
   ]
  },
  {
   "cell_type": "markdown",
   "id": "751d7276",
   "metadata": {},
   "source": [
    "6. What happens to variables in a local scope when the function call returns?"
   ]
  },
  {
   "cell_type": "markdown",
   "id": "020a7332",
   "metadata": {},
   "source": [
    "Ans:-Whwn a function called actually the local variables will be active for execution.if those variables already exist as global variables then they will be override here and local variables will be consider for execution  "
   ]
  },
  {
   "cell_type": "markdown",
   "id": "25c8fb75",
   "metadata": {},
   "source": [
    "7. What is the concept of a return value? Is it possible to have a return value in an expression?"
   ]
  },
  {
   "cell_type": "markdown",
   "id": "1fa7d909",
   "metadata": {},
   "source": [
    "Ans:-When we return a value it will have the data type and we can assigne that value to any variable and we can use that return value in expression as well since it is having data type . But when u use print instead of return then u cannot use to ecoressin since it has no data type"
   ]
  },
  {
   "cell_type": "code",
   "execution_count": 11,
   "id": "d5e0ba90",
   "metadata": {},
   "outputs": [],
   "source": [
    "def add(a,b):\n",
    "    c=a+b\n",
    "    return c"
   ]
  },
  {
   "cell_type": "code",
   "execution_count": 12,
   "id": "dd7c99a3",
   "metadata": {},
   "outputs": [],
   "source": [
    "d = add(2,2)"
   ]
  },
  {
   "cell_type": "code",
   "execution_count": 13,
   "id": "7f80cab9",
   "metadata": {},
   "outputs": [
    {
     "data": {
      "text/plain": [
       "4"
      ]
     },
     "execution_count": 13,
     "metadata": {},
     "output_type": "execute_result"
    }
   ],
   "source": [
    "d"
   ]
  },
  {
   "cell_type": "code",
   "execution_count": 14,
   "id": "aca0552b",
   "metadata": {},
   "outputs": [
    {
     "data": {
      "text/plain": [
       "int"
      ]
     },
     "execution_count": 14,
     "metadata": {},
     "output_type": "execute_result"
    }
   ],
   "source": [
    "type(d)"
   ]
  },
  {
   "cell_type": "code",
   "execution_count": 15,
   "id": "707308ee",
   "metadata": {},
   "outputs": [
    {
     "name": "stdout",
     "output_type": "stream",
     "text": [
      "7\n"
     ]
    }
   ],
   "source": [
    "e=3\n",
    "f=e+d\n",
    "print(f)"
   ]
  },
  {
   "cell_type": "markdown",
   "id": "32cc6872",
   "metadata": {},
   "source": [
    "U can c we we can use the return value in expression as well"
   ]
  },
  {
   "cell_type": "markdown",
   "id": "dc3a20d7",
   "metadata": {},
   "source": [
    "8. If a function does not have a return statement, what is the return value of a call to that function?"
   ]
  },
  {
   "cell_type": "markdown",
   "id": "3f06cfae",
   "metadata": {},
   "source": [
    "Ans : - When there is no return statement the funtion will return \"None\" . U can see that in below"
   ]
  },
  {
   "cell_type": "code",
   "execution_count": 20,
   "id": "48d0831f",
   "metadata": {},
   "outputs": [],
   "source": [
    "def add1(a,b):\n",
    "    c=a+b"
   ]
  },
  {
   "cell_type": "code",
   "execution_count": 21,
   "id": "3277797d",
   "metadata": {},
   "outputs": [],
   "source": [
    "d=add1(2,3)"
   ]
  },
  {
   "cell_type": "code",
   "execution_count": 22,
   "id": "06dbc6fe",
   "metadata": {},
   "outputs": [
    {
     "name": "stdout",
     "output_type": "stream",
     "text": [
      "None\n"
     ]
    }
   ],
   "source": [
    "print(d)"
   ]
  },
  {
   "cell_type": "markdown",
   "id": "dee1a75a",
   "metadata": {},
   "source": [
    "9. How do you make a function variable refer to the global variable?"
   ]
  },
  {
   "cell_type": "code",
   "execution_count": 26,
   "id": "41506733",
   "metadata": {},
   "outputs": [],
   "source": [
    "a=2\n",
    "def add2(a,b):\n",
    "    c=a+b\n",
    "    return c"
   ]
  },
  {
   "cell_type": "code",
   "execution_count": 28,
   "id": "4381c1c2",
   "metadata": {},
   "outputs": [
    {
     "data": {
      "text/plain": [
       "3"
      ]
     },
     "execution_count": 28,
     "metadata": {},
     "output_type": "execute_result"
    }
   ],
   "source": [
    "add2(a,1)"
   ]
  },
  {
   "cell_type": "markdown",
   "id": "3a9589f6",
   "metadata": {},
   "source": [
    "Here u can c right without again declaring a new value we will get the result . So that variable a can be used a global variable"
   ]
  },
  {
   "cell_type": "markdown",
   "id": "ede08685",
   "metadata": {},
   "source": [
    "10. What is the data type of None?"
   ]
  },
  {
   "cell_type": "code",
   "execution_count": 29,
   "id": "890c8eaa",
   "metadata": {},
   "outputs": [
    {
     "data": {
      "text/plain": [
       "NoneType"
      ]
     },
     "execution_count": 29,
     "metadata": {},
     "output_type": "execute_result"
    }
   ],
   "source": [
    "type(None)"
   ]
  },
  {
   "cell_type": "markdown",
   "id": "a0535363",
   "metadata": {},
   "source": [
    "he data type of None is \"Nonetype\""
   ]
  },
  {
   "cell_type": "markdown",
   "id": "d68a0583",
   "metadata": {},
   "source": [
    "11. What does the sentence import areallyourpetsnamederic do?"
   ]
  },
  {
   "cell_type": "markdown",
   "id": "9a46dfd4",
   "metadata": {},
   "source": [
    "Ans :- The import statement will imports a module names areallyourpetsnamederic\n"
   ]
  },
  {
   "cell_type": "markdown",
   "id": "1a01c9d3",
   "metadata": {},
   "source": [
    "12. If you had a bacon() feature in a spam module, what would you call it after importing spam?"
   ]
  },
  {
   "cell_type": "code",
   "execution_count": 31,
   "id": "d8f43235",
   "metadata": {},
   "outputs": [],
   "source": [
    "#import spam\n",
    "#spam.bacon()"
   ]
  },
  {
   "cell_type": "code",
   "execution_count": null,
   "id": "79926931",
   "metadata": {},
   "outputs": [],
   "source": [
    "Normally we will use exception handlin"
   ]
  },
  {
   "cell_type": "markdown",
   "id": "f8936bdb",
   "metadata": {},
   "source": [
    "13. What can you do to save a programme from crashing if it encounters an error?"
   ]
  },
  {
   "cell_type": "markdown",
   "id": "f247081b",
   "metadata": {},
   "source": [
    "Ans:-To save the programme from crashing if it encounters an error we can use Exception Handling here . If any exception or error we get while run time we can save the code using try and except blocks . "
   ]
  },
  {
   "cell_type": "code",
   "execution_count": 4,
   "id": "0dc6485b",
   "metadata": {},
   "outputs": [],
   "source": [
    "def division():\n",
    "        a = int(input(\"Enter number:\"))\n",
    "        c = 1/a\n",
    "        return c  "
   ]
  },
  {
   "cell_type": "code",
   "execution_count": 5,
   "id": "2f4b2983",
   "metadata": {},
   "outputs": [
    {
     "name": "stdout",
     "output_type": "stream",
     "text": [
      "Enter number:2\n"
     ]
    },
    {
     "data": {
      "text/plain": [
       "0.5"
      ]
     },
     "execution_count": 5,
     "metadata": {},
     "output_type": "execute_result"
    }
   ],
   "source": [
    "division()"
   ]
  },
  {
   "cell_type": "code",
   "execution_count": 6,
   "id": "9907c8cb",
   "metadata": {},
   "outputs": [
    {
     "name": "stdout",
     "output_type": "stream",
     "text": [
      "Enter number:0\n"
     ]
    },
    {
     "ename": "ZeroDivisionError",
     "evalue": "division by zero",
     "output_type": "error",
     "traceback": [
      "\u001b[1;31m---------------------------------------------------------------------------\u001b[0m",
      "\u001b[1;31mZeroDivisionError\u001b[0m                         Traceback (most recent call last)",
      "\u001b[1;32m~\\AppData\\Local\\Temp/ipykernel_608/1351349687.py\u001b[0m in \u001b[0;36m<module>\u001b[1;34m\u001b[0m\n\u001b[1;32m----> 1\u001b[1;33m \u001b[0mdivision\u001b[0m\u001b[1;33m(\u001b[0m\u001b[1;33m)\u001b[0m\u001b[1;33m\u001b[0m\u001b[1;33m\u001b[0m\u001b[0m\n\u001b[0m",
      "\u001b[1;32m~\\AppData\\Local\\Temp/ipykernel_608/530059840.py\u001b[0m in \u001b[0;36mdivision\u001b[1;34m()\u001b[0m\n\u001b[0;32m      1\u001b[0m \u001b[1;32mdef\u001b[0m \u001b[0mdivision\u001b[0m\u001b[1;33m(\u001b[0m\u001b[1;33m)\u001b[0m\u001b[1;33m:\u001b[0m\u001b[1;33m\u001b[0m\u001b[1;33m\u001b[0m\u001b[0m\n\u001b[0;32m      2\u001b[0m         \u001b[0ma\u001b[0m \u001b[1;33m=\u001b[0m \u001b[0mint\u001b[0m\u001b[1;33m(\u001b[0m\u001b[0minput\u001b[0m\u001b[1;33m(\u001b[0m\u001b[1;34m\"Enter number:\"\u001b[0m\u001b[1;33m)\u001b[0m\u001b[1;33m)\u001b[0m\u001b[1;33m\u001b[0m\u001b[1;33m\u001b[0m\u001b[0m\n\u001b[1;32m----> 3\u001b[1;33m         \u001b[0mc\u001b[0m \u001b[1;33m=\u001b[0m \u001b[1;36m1\u001b[0m\u001b[1;33m/\u001b[0m\u001b[0ma\u001b[0m\u001b[1;33m\u001b[0m\u001b[1;33m\u001b[0m\u001b[0m\n\u001b[0m\u001b[0;32m      4\u001b[0m         \u001b[1;32mreturn\u001b[0m \u001b[0mc\u001b[0m\u001b[1;33m\u001b[0m\u001b[1;33m\u001b[0m\u001b[0m\n",
      "\u001b[1;31mZeroDivisionError\u001b[0m: division by zero"
     ]
    }
   ],
   "source": [
    "division()"
   ]
  },
  {
   "cell_type": "code",
   "execution_count": 7,
   "id": "c8bf41da",
   "metadata": {},
   "outputs": [
    {
     "name": "stdout",
     "output_type": "stream",
     "text": [
      "Enter number:12\n",
      "This line will print only when above code run successfully\n"
     ]
    }
   ],
   "source": [
    "division()\n",
    "print(\"This line will print only when above code run successfully\")"
   ]
  },
  {
   "cell_type": "code",
   "execution_count": 8,
   "id": "075690cb",
   "metadata": {},
   "outputs": [
    {
     "name": "stdout",
     "output_type": "stream",
     "text": [
      "Enter number:0\n"
     ]
    },
    {
     "ename": "ZeroDivisionError",
     "evalue": "division by zero",
     "output_type": "error",
     "traceback": [
      "\u001b[1;31m---------------------------------------------------------------------------\u001b[0m",
      "\u001b[1;31mZeroDivisionError\u001b[0m                         Traceback (most recent call last)",
      "\u001b[1;32m~\\AppData\\Local\\Temp/ipykernel_608/2527594260.py\u001b[0m in \u001b[0;36m<module>\u001b[1;34m\u001b[0m\n\u001b[1;32m----> 1\u001b[1;33m \u001b[0mdivision\u001b[0m\u001b[1;33m(\u001b[0m\u001b[1;33m)\u001b[0m\u001b[1;33m\u001b[0m\u001b[1;33m\u001b[0m\u001b[0m\n\u001b[0m\u001b[0;32m      2\u001b[0m \u001b[0mprint\u001b[0m\u001b[1;33m(\u001b[0m\u001b[1;34m\"This line will print only when above code run successfully\"\u001b[0m\u001b[1;33m)\u001b[0m\u001b[1;33m\u001b[0m\u001b[1;33m\u001b[0m\u001b[0m\n",
      "\u001b[1;32m~\\AppData\\Local\\Temp/ipykernel_608/530059840.py\u001b[0m in \u001b[0;36mdivision\u001b[1;34m()\u001b[0m\n\u001b[0;32m      1\u001b[0m \u001b[1;32mdef\u001b[0m \u001b[0mdivision\u001b[0m\u001b[1;33m(\u001b[0m\u001b[1;33m)\u001b[0m\u001b[1;33m:\u001b[0m\u001b[1;33m\u001b[0m\u001b[1;33m\u001b[0m\u001b[0m\n\u001b[0;32m      2\u001b[0m         \u001b[0ma\u001b[0m \u001b[1;33m=\u001b[0m \u001b[0mint\u001b[0m\u001b[1;33m(\u001b[0m\u001b[0minput\u001b[0m\u001b[1;33m(\u001b[0m\u001b[1;34m\"Enter number:\"\u001b[0m\u001b[1;33m)\u001b[0m\u001b[1;33m)\u001b[0m\u001b[1;33m\u001b[0m\u001b[1;33m\u001b[0m\u001b[0m\n\u001b[1;32m----> 3\u001b[1;33m         \u001b[0mc\u001b[0m \u001b[1;33m=\u001b[0m \u001b[1;36m1\u001b[0m\u001b[1;33m/\u001b[0m\u001b[0ma\u001b[0m\u001b[1;33m\u001b[0m\u001b[1;33m\u001b[0m\u001b[0m\n\u001b[0m\u001b[0;32m      4\u001b[0m         \u001b[1;32mreturn\u001b[0m \u001b[0mc\u001b[0m\u001b[1;33m\u001b[0m\u001b[1;33m\u001b[0m\u001b[0m\n",
      "\u001b[1;31mZeroDivisionError\u001b[0m: division by zero"
     ]
    }
   ],
   "source": [
    "division()\n",
    "print(\"This line will print only when above code run successfully\")"
   ]
  },
  {
   "cell_type": "markdown",
   "id": "c85c2d85",
   "metadata": {},
   "source": [
    "Here if u our print statement didn't execute to avaoid all these we can use exception handling here"
   ]
  },
  {
   "cell_type": "code",
   "execution_count": 12,
   "id": "c514f9a4",
   "metadata": {},
   "outputs": [],
   "source": [
    "def division():\n",
    "    try:\n",
    "        a = int(input(\"Enter number:\"))\n",
    "        c = 1/a\n",
    "    except Exception as e :\n",
    "        print(\"Exception is :\",e)\n",
    "        "
   ]
  },
  {
   "cell_type": "code",
   "execution_count": 13,
   "id": "857a9690",
   "metadata": {},
   "outputs": [
    {
     "name": "stdout",
     "output_type": "stream",
     "text": [
      "Enter number:121\n",
      "This line will print only when above code run successfully\n"
     ]
    }
   ],
   "source": [
    "division()\n",
    "print(\"This line will print only when above code run successfully\")"
   ]
  },
  {
   "cell_type": "code",
   "execution_count": 14,
   "id": "054c75eb",
   "metadata": {},
   "outputs": [
    {
     "name": "stdout",
     "output_type": "stream",
     "text": [
      "Enter number:0\n",
      "Exception is : division by zero\n",
      "This line will print only when above code run successfully\n"
     ]
    }
   ],
   "source": [
    "division()\n",
    "print(\"This line will print only when above code run successfully\")"
   ]
  },
  {
   "cell_type": "code",
   "execution_count": 15,
   "id": "905bd638",
   "metadata": {},
   "outputs": [
    {
     "name": "stdout",
     "output_type": "stream",
     "text": [
      "Enter number:afaf\n",
      "Exception is : invalid literal for int() with base 10: 'afaf'\n",
      "This line will print only when above code run successfully\n"
     ]
    }
   ],
   "source": [
    "division()\n",
    "print(\"This line will print only when above code run successfully\")"
   ]
  },
  {
   "cell_type": "markdown",
   "id": "23668034",
   "metadata": {},
   "source": [
    "U can see our print statement is executing eventhough we are getting exceptions . With Exception handling we can run the code smoothly"
   ]
  },
  {
   "cell_type": "markdown",
   "id": "63b97803",
   "metadata": {},
   "source": [
    "14 . What is the purpose of the try clause? What is the purpose of the except clause?"
   ]
  },
  {
   "cell_type": "markdown",
   "id": "6881a69c",
   "metadata": {},
   "source": [
    "Ans :-As u can see above in try clause we will run the suspicious code in the above example c=1/a . When we get any exception here means when a=0 .we should not divide something with zero right so normally that will through an runtime error .Here we will move that error to the Except clause there we can see what is the error and it make the remaing code run successfully"
   ]
  },
  {
   "cell_type": "code",
   "execution_count": null,
   "id": "530a49b6",
   "metadata": {},
   "outputs": [],
   "source": []
  }
 ],
 "metadata": {
  "kernelspec": {
   "display_name": "Python 3 (ipykernel)",
   "language": "python",
   "name": "python3"
  },
  "language_info": {
   "codemirror_mode": {
    "name": "ipython",
    "version": 3
   },
   "file_extension": ".py",
   "mimetype": "text/x-python",
   "name": "python",
   "nbconvert_exporter": "python",
   "pygments_lexer": "ipython3",
   "version": "3.9.7"
  }
 },
 "nbformat": 4,
 "nbformat_minor": 5
}
