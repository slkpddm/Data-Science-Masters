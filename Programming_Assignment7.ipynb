{
 "cells": [
  {
   "cell_type": "markdown",
   "id": "47599e3e",
   "metadata": {},
   "source": [
    "1.Write a Python Program to find sum of array?"
   ]
  },
  {
   "cell_type": "code",
   "execution_count": 17,
   "id": "36c8e866",
   "metadata": {},
   "outputs": [
    {
     "name": "stdout",
     "output_type": "stream",
     "text": [
      "Enter the length of the Array:5\n",
      "1\n",
      "2\n",
      "3\n",
      "4\n",
      "5\n",
      "Array is: [1, 2, 3, 4, 5]\n",
      "Sum of the Array of elements: 15\n"
     ]
    }
   ],
   "source": [
    "lst=[]\n",
    "n=int(input(\"Enter the length of the Array:\"))\n",
    "for i in range(n):\n",
    "    lst.append(int(input()))\n",
    "print(\"Array is:\",lst)    \n",
    "def sumArr(li):\n",
    "    sum=0\n",
    "    for i in li:\n",
    "        sum=sum+i\n",
    "    return sum    \n",
    "\n",
    "print(\"Sum of the Array of elements:\",sumArr(lst))"
   ]
  },
  {
   "cell_type": "markdown",
   "id": "da67e318",
   "metadata": {},
   "source": [
    "2.Write a Python Program to find largest element in an array?"
   ]
  },
  {
   "cell_type": "code",
   "execution_count": 22,
   "id": "10a7aff4",
   "metadata": {},
   "outputs": [
    {
     "name": "stdout",
     "output_type": "stream",
     "text": [
      "Enter the length of the Array:5\n",
      "1\n",
      "2\n",
      "3\n",
      "7\n",
      "5\n",
      "Array is: [1, 2, 3, 7, 5]\n",
      "Maximun number of array is: 7\n"
     ]
    }
   ],
   "source": [
    "lst=[]\n",
    "n=int(input(\"Enter the length of the Array:\"))\n",
    "for i in range(n):\n",
    "    lst.append(int(input()))\n",
    "print(\"Array is:\",lst) \n",
    "\n",
    "def Max(li):\n",
    "    return max(li)\n",
    "print(\"Maximun number of array is:\",Max(lst))"
   ]
  },
  {
   "cell_type": "markdown",
   "id": "989670cc",
   "metadata": {},
   "source": [
    "3.Write a Python Program for array rotation?"
   ]
  },
  {
   "cell_type": "code",
   "execution_count": 34,
   "id": "f66e3d15",
   "metadata": {},
   "outputs": [
    {
     "name": "stdout",
     "output_type": "stream",
     "text": [
      "Number of times u want to rotate:2\n",
      "After 2 ratotaions the array is [3, 4, 5, 1, 2]\n"
     ]
    }
   ],
   "source": [
    "lst=[1,2,3,4,5]\n",
    "n=int(input(\"Number of times u want to rotate:\"))\n",
    "for i in range(n):\n",
    "    s=lst[0]\n",
    "    for j in range(len(lst)-1):\n",
    "        lst[j]=lst[j+1]\n",
    "    lst[len(lst)-1]=s\n",
    "\n",
    "print(\"After {} ratotaions the array is {}\".format(n,lst))     "
   ]
  },
  {
   "cell_type": "markdown",
   "id": "e741af0c",
   "metadata": {},
   "source": [
    "4.Write a Python Program to Split the array and add the first part to the end?"
   ]
  },
  {
   "cell_type": "code",
   "execution_count": 35,
   "id": "da76fa4d",
   "metadata": {},
   "outputs": [
    {
     "name": "stdout",
     "output_type": "stream",
     "text": [
      "How much part u want to split and add at the end of the array:3\n",
      "After splitting and adding at the end of the array is: [4, 5, 1, 2, 3]\n"
     ]
    }
   ],
   "source": [
    "lst=[1,2,3,4,5]\n",
    "n=int(input(\"How much part u want to split and add at the end of the array:\"))\n",
    "for i in range(n):\n",
    "    s=lst[0]\n",
    "    for j in range(len(lst)-1):\n",
    "        lst[j]=lst[j+1]\n",
    "    lst[len(lst)-1]=s\n",
    "\n",
    "print(\"After splitting and adding at the end of the array is:\",lst)     "
   ]
  },
  {
   "cell_type": "markdown",
   "id": "47082010",
   "metadata": {},
   "source": [
    "5.Write a Python Program to check if given array is Monotonic?"
   ]
  },
  {
   "cell_type": "code",
   "execution_count": 8,
   "id": "c2ce1df6",
   "metadata": {},
   "outputs": [
    {
     "name": "stdout",
     "output_type": "stream",
     "text": [
      "Enter the size of an array:5\n",
      "Enter the elements of an array:\n",
      "2\n",
      "1\n",
      "5\n",
      "2\n",
      "3\n",
      "[2, 1, 5, 2, 3]\n",
      "Given array [2, 1, 5, 2, 3] is not Monotonic:\n"
     ]
    }
   ],
   "source": [
    "# An array is said to be monotonic when it is continuosly increasing or decreasing\n",
    "lst=[]\n",
    "n=int(input(\"Enter the size of an array:\"))\n",
    "print(\"Enter the elements of an array:\")\n",
    "for i in range(n):\n",
    "    lst.append(int(input()))\n",
    "print(lst)\n",
    "a=0\n",
    "b=0\n",
    "c=0\n",
    "l=len(lst)\n",
    "for i in range(l-1):\n",
    "    if(lst[i]>lst[i+1]): a=a+1\n",
    "    elif(lst[i]<lst[i+1]): b=b+1\n",
    "    elif (lst[i]==lst[i+1]): c=c+1\n",
    "if((a==l-1) or (b==l-1) or (c==l-1)): \n",
    "   print(\"Given array {} is Monotonic:\".format(lst))     \n",
    "else :\n",
    "   print(\"Given array {} is not Monotonic:\".format(lst))   "
   ]
  },
  {
   "cell_type": "code",
   "execution_count": null,
   "id": "f6728622",
   "metadata": {},
   "outputs": [],
   "source": []
  }
 ],
 "metadata": {
  "kernelspec": {
   "display_name": "Python 3 (ipykernel)",
   "language": "python",
   "name": "python3"
  },
  "language_info": {
   "codemirror_mode": {
    "name": "ipython",
    "version": 3
   },
   "file_extension": ".py",
   "mimetype": "text/x-python",
   "name": "python",
   "nbconvert_exporter": "python",
   "pygments_lexer": "ipython3",
   "version": "3.9.7"
  }
 },
 "nbformat": 4,
 "nbformat_minor": 5
}
