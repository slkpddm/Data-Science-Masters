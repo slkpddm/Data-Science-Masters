{
 "cells": [
  {
   "cell_type": "markdown",
   "id": "221e4e51",
   "metadata": {},
   "source": [
    "1.\tWrite a Python program to print \"Hello Python\"?"
   ]
  },
  {
   "cell_type": "code",
   "execution_count": 1,
   "id": "986b8f3d",
   "metadata": {},
   "outputs": [
    {
     "name": "stdout",
     "output_type": "stream",
     "text": [
      "Hello Python\n"
     ]
    }
   ],
   "source": [
    "print(\"Hello Python\")"
   ]
  },
  {
   "cell_type": "markdown",
   "id": "c5f2845b",
   "metadata": {},
   "source": [
    "2.\tWrite a Python program to do arithmetical operations addition and division.?"
   ]
  },
  {
   "cell_type": "code",
   "execution_count": 7,
   "id": "34ab41dc",
   "metadata": {},
   "outputs": [
    {
     "name": "stdout",
     "output_type": "stream",
     "text": [
      "10\n",
      "5\n",
      "15 2.0\n"
     ]
    }
   ],
   "source": [
    "a=int(input())\n",
    "b=int(input())\n",
    "#Addition\n",
    "c=a+b\n",
    "#Division\n",
    "d=a/b\n",
    "print(c,d)"
   ]
  },
  {
   "cell_type": "markdown",
   "id": "134222fd",
   "metadata": {},
   "source": [
    "3.\tWrite a Python program to find the area of a triangle?"
   ]
  },
  {
   "cell_type": "code",
   "execution_count": 8,
   "id": "5c492f8e",
   "metadata": {},
   "outputs": [
    {
     "name": "stdout",
     "output_type": "stream",
     "text": [
      "10.0\n",
      "5.0\n",
      "Area of Triangle is: 25.0\n"
     ]
    }
   ],
   "source": [
    "#Area of Triangle (1\\2)*b*h\n",
    "b=float(input())\n",
    "h=float(input())\n",
    "a=(1/2)*b*h\n",
    "print(\"Area of Triangle is:\",a)"
   ]
  },
  {
   "cell_type": "markdown",
   "id": "71726812",
   "metadata": {},
   "source": [
    "4.\tWrite a Python program to swap two variables?"
   ]
  },
  {
   "cell_type": "code",
   "execution_count": 9,
   "id": "e98f51a0",
   "metadata": {},
   "outputs": [
    {
     "name": "stdout",
     "output_type": "stream",
     "text": [
      "Enter value a:10\n",
      "Enter value b:5\n",
      "After swapping value of a : 5\n",
      "After swapping value of a : 10\n"
     ]
    }
   ],
   "source": [
    "a = int(input(\"Enter value a:\"))\n",
    "b = int(input(\"Enter value b:\"))\n",
    "c=a\n",
    "a=b\n",
    "b=c\n",
    "print(\"After swapping value of a :\",a)\n",
    "print(\"After swapping value of a :\",b)"
   ]
  },
  {
   "cell_type": "markdown",
   "id": "9840231b",
   "metadata": {},
   "source": [
    "5.\tWrite a Python program to generate a random number?"
   ]
  },
  {
   "cell_type": "code",
   "execution_count": 11,
   "id": "aa5c5b1b",
   "metadata": {},
   "outputs": [
    {
     "name": "stdout",
     "output_type": "stream",
     "text": [
      "1\n",
      "9\n",
      "The random number is: 8\n"
     ]
    }
   ],
   "source": [
    "#Here we wiil write a python program to generate random number between given range\n",
    "import random\n",
    "a=int(input())\n",
    "b=int(input())\n",
    "n=random.randint(a,b)\n",
    "print(\"The random number is:\",n)"
   ]
  },
  {
   "cell_type": "code",
   "execution_count": null,
   "id": "95c697b1",
   "metadata": {},
   "outputs": [],
   "source": []
  }
 ],
 "metadata": {
  "kernelspec": {
   "display_name": "Python 3 (ipykernel)",
   "language": "python",
   "name": "python3"
  },
  "language_info": {
   "codemirror_mode": {
    "name": "ipython",
    "version": 3
   },
   "file_extension": ".py",
   "mimetype": "text/x-python",
   "name": "python",
   "nbconvert_exporter": "python",
   "pygments_lexer": "ipython3",
   "version": "3.9.7"
  }
 },
 "nbformat": 4,
 "nbformat_minor": 5
}
