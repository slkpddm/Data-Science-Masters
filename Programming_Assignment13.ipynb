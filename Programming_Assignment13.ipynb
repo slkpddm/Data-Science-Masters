{
 "cells": [
  {
   "cell_type": "code",
   "execution_count": 1,
   "id": "1a0b5c81",
   "metadata": {},
   "outputs": [
    {
     "data": {
      "text/plain": [
       "'\\nQuestion 1:\\nWrite a program that calculates and prints the value according to the given formula:\\nQ = Square root of [(2 * C * D)/H]\\nFollowing are the fixed values of C and H:\\nC is 50. H is 30.\\nD is the variable whose values should be input to your program in a comma-separated\\nsequence.\\nExample\\nLet us assume the following comma separated input sequence is given to the program:\\n100,150,180\\nThe output of the program should be:\\n18,22,24\\n'"
      ]
     },
     "execution_count": 1,
     "metadata": {},
     "output_type": "execute_result"
    }
   ],
   "source": [
    "# Q1\n",
    "'''\n",
    "Question 1:\n",
    "Write a program that calculates and prints the value according to the given formula:\n",
    "Q = Square root of [(2 * C * D)/H]\n",
    "Following are the fixed values of C and H:\n",
    "C is 50. H is 30.\n",
    "D is the variable whose values should be input to your program in a comma-separated\n",
    "sequence.\n",
    "Example\n",
    "Let us assume the following comma separated input sequence is given to the program:\n",
    "100,150,180\n",
    "The output of the program should be:\n",
    "18,22,24\n",
    "'''"
   ]
  },
  {
   "cell_type": "code",
   "execution_count": 40,
   "id": "4874a817",
   "metadata": {},
   "outputs": [
    {
     "name": "stdout",
     "output_type": "stream",
     "text": [
      "100,150,180\n",
      "The output of the program should be:\n",
      "18,22,24"
     ]
    }
   ],
   "source": [
    "import math\n",
    "D=[int(x) for x in input().split(\",\")]\n",
    "C,H=50,30\n",
    "print(\"The output of the program should be:\")\n",
    "for i in D:\n",
    "    Q=int(math.sqrt((2*C*i)/H))\n",
    "    print(Q,end='')\n",
    "    if(i!=D[-1]):\n",
    "        print(',',end='')"
   ]
  },
  {
   "cell_type": "code",
   "execution_count": null,
   "id": "effc54d5",
   "metadata": {},
   "outputs": [],
   "source": [
    "#Q2\n",
    "'''\n",
    "Question 2:\n",
    "Write a program which takes 2 digits, X,Y as input and generates a 2-dimensional array. The\n",
    "element value in the i-th row and j-th column of the array should be i*j.\n",
    "Note: i=0,1.., X-1; j=0,1,¡Y-1.\n",
    "Example\n",
    "Suppose the following inputs are given to the program:\n",
    "3,5\n",
    "Then, the output of the program should be:\n",
    "[[0, 0, 0, 0, 0], [0, 1, 2, 3, 4], [0, 2, 4, 6, 8]]\n",
    "'''\n",
    "print()"
   ]
  },
  {
   "cell_type": "code",
   "execution_count": null,
   "id": "9d1ec9c4",
   "metadata": {},
   "outputs": [],
   "source": [
    "def matrix_gen(r,c):\n",
    "    l=[]\n",
    "    for i in range(r):\n",
    "        l.append([])\n",
    "        for j in range(c):\n",
    "            l[i].append(i*j)\n",
    "    return l        "
   ]
  },
  {
   "cell_type": "code",
   "execution_count": null,
   "id": "22670cf8",
   "metadata": {},
   "outputs": [],
   "source": [
    "matrix_gen(3,5)"
   ]
  },
  {
   "cell_type": "code",
   "execution_count": 49,
   "id": "5227dbc2",
   "metadata": {},
   "outputs": [
    {
     "name": "stdout",
     "output_type": "stream",
     "text": [
      "\n"
     ]
    }
   ],
   "source": [
    "#Q3\n",
    "''' \n",
    "Question 3:\n",
    "Write a program that accepts a comma separated sequence of words as input and prints the\n",
    "words in a comma-separated sequence after sorting them alphabetically.\n",
    "Suppose the following input is supplied to the program:\n",
    "without,hello,bag,world\n",
    "Then, the output should be:\n",
    "bag,hello,without,world\n",
    "'''\n",
    "print()"
   ]
  },
  {
   "cell_type": "code",
   "execution_count": 53,
   "id": "fc473fc5",
   "metadata": {},
   "outputs": [
    {
     "name": "stdout",
     "output_type": "stream",
     "text": [
      "without,hello,bag,world\n",
      "bag,hello,without,world"
     ]
    }
   ],
   "source": [
    "s=[ i for i in input().split(',')]\n",
    "s.sort()\n",
    "for i in s:\n",
    "    print(i,end='')\n",
    "    if(i!=s[-1]):\n",
    "        print(',',end='')"
   ]
  },
  {
   "cell_type": "code",
   "execution_count": 59,
   "id": "8973b7d1",
   "metadata": {},
   "outputs": [
    {
     "name": "stdout",
     "output_type": "stream",
     "text": [
      "\n"
     ]
    }
   ],
   "source": [
    "#Q4\n",
    "'''\n",
    "Question 4:\n",
    "Write a program that accepts a sequence of whitespace separated words as input and prints\n",
    "the words after removing all duplicate words and sorting them alphanumerically.\n",
    "Suppose the following input is supplied to the program:\n",
    "hello world and practice makes perfect and hello world again\n",
    "Then, the output should be:\n",
    "again and hello makes perfect practice world\n",
    "'''\n",
    "print()"
   ]
  },
  {
   "cell_type": "code",
   "execution_count": 58,
   "id": "8d47dd4e",
   "metadata": {},
   "outputs": [
    {
     "name": "stdout",
     "output_type": "stream",
     "text": [
      "hello world and practice makes perfect and hello world again\n",
      "again and hello makes perfect practice world "
     ]
    }
   ],
   "source": [
    "s=[ i for i in input().split(' ')]\n",
    "s=set(s)\n",
    "s=list(s)\n",
    "s.sort()\n",
    "for i in s:\n",
    "    print(i,end=' ')"
   ]
  },
  {
   "cell_type": "code",
   "execution_count": 60,
   "id": "41b42321",
   "metadata": {},
   "outputs": [
    {
     "name": "stdout",
     "output_type": "stream",
     "text": [
      "\n"
     ]
    }
   ],
   "source": [
    "#Q5\n",
    "'''\n",
    "Question 5:\n",
    "Write a program that accepts a sentence and calculate the number of letters and digits.\n",
    "Suppose the following input is supplied to the program:\n",
    "hello world! 123\n",
    "Then, the output should be:\n",
    "LETTERS 10\n",
    "\n",
    "DIGITS 3\n",
    "'''\n",
    "print()"
   ]
  },
  {
   "cell_type": "code",
   "execution_count": 61,
   "id": "05d4d2b3",
   "metadata": {},
   "outputs": [
    {
     "name": "stdout",
     "output_type": "stream",
     "text": [
      "hello world! 123\n",
      "LETTERS 10\n",
      "DIGITS 3\n"
     ]
    }
   ],
   "source": [
    "str=input()\n",
    "l=0\n",
    "d=0\n",
    "for i in str:\n",
    "    if(i.isalpha()):\n",
    "        l=l+1\n",
    "    elif(i.isdigit()):\n",
    "        d=d+1\n",
    "    else:\n",
    "        pass\n",
    "print('LETTERS',l)\n",
    "print('DIGITS',d)\n",
    "    "
   ]
  },
  {
   "cell_type": "code",
   "execution_count": 62,
   "id": "b49893a8",
   "metadata": {},
   "outputs": [
    {
     "name": "stdout",
     "output_type": "stream",
     "text": [
      "\n"
     ]
    }
   ],
   "source": [
    "#Q6\n",
    "'''\n",
    "Question 6:\n",
    "A website requires the users to input username and password to register. Write a program to\n",
    "check the validity of password input by users.\n",
    "Following are the criteria for checking the password:\n",
    "1. At least 1 letter between [a-z]\n",
    "2. At least 1 number between [0-9]\n",
    "1. At least 1 letter between [A-Z]\n",
    "3. At least 1 character from [$#@]\n",
    "4. Minimum length of transaction password: 6\n",
    "5. Maximum length of transaction password: 12\n",
    "Your program should accept a sequence of comma separated passwords and will check them\n",
    "according to the above criteria. Passwords that match the criteria are to be printed, each\n",
    "separated by a comma.\n",
    "Example\n",
    "If the following passwords are given as input to the program:\n",
    "ABd1234@1,a F1#,2w3E*,2We3345\n",
    "Then, the output of the program should be:\n",
    "ABd1234@1\n",
    "'''\n",
    "print()"
   ]
  },
  {
   "cell_type": "code",
   "execution_count": 115,
   "id": "954dd579",
   "metadata": {},
   "outputs": [
    {
     "name": "stdout",
     "output_type": "stream",
     "text": [
      "ABd1234@1,a F1#,2w3E*,2We3345\n",
      "ABd1234@1"
     ]
    }
   ],
   "source": [
    "s=[ i for i in input().split(',')]\n",
    "a=[]\n",
    "for i in s:\n",
    "    if(len(i)>=6 and len(i)<=12):\n",
    "        a.append(i)\n",
    "k=[]        \n",
    "for j in a:\n",
    "    s1=0 #small letter\n",
    "    s2=0 #capital letter\n",
    "    s3=0 #special character\n",
    "    l=['$','#','@']\n",
    "    for i in j:\n",
    "        if(ord(i)>=65 and ord(i)<=90):\n",
    "            s2=s2+1\n",
    "        elif(ord(i)>=97 and ord(i)<=122):    \n",
    "            s1=s1+1\n",
    "        elif(i in l):\n",
    "            s3=s3+1\n",
    "        else:\n",
    "            pass       \n",
    "    if(s1>=1 and s2>=1 and s3>=1):\n",
    "        k.append(j)\n",
    "for i in k:\n",
    "    print(i,end='')\n",
    "    if(i!=k[-1]):\n",
    "        print(',',end='')\n",
    "        \n",
    "    \n",
    "            "
   ]
  },
  {
   "cell_type": "code",
   "execution_count": null,
   "id": "bea36347",
   "metadata": {},
   "outputs": [],
   "source": []
  }
 ],
 "metadata": {
  "kernelspec": {
   "display_name": "Python 3 (ipykernel)",
   "language": "python",
   "name": "python3"
  },
  "language_info": {
   "codemirror_mode": {
    "name": "ipython",
    "version": 3
   },
   "file_extension": ".py",
   "mimetype": "text/x-python",
   "name": "python",
   "nbconvert_exporter": "python",
   "pygments_lexer": "ipython3",
   "version": "3.9.7"
  }
 },
 "nbformat": 4,
 "nbformat_minor": 5
}
