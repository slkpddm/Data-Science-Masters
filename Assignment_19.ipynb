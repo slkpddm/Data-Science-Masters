{
 "cells": [
  {
   "cell_type": "markdown",
   "id": "1aaf41b1",
   "metadata": {},
   "source": [
    "1.Make a class called Thing with no contents and print it. Then, create an object called example\n",
    "from this class and also print it. Are the printed values the same or different?"
   ]
  },
  {
   "cell_type": "code",
   "execution_count": 16,
   "id": "ae030585",
   "metadata": {},
   "outputs": [],
   "source": [
    "class Thing:\n",
    "    pass"
   ]
  },
  {
   "cell_type": "code",
   "execution_count": 17,
   "id": "f3b11ced",
   "metadata": {},
   "outputs": [
    {
     "data": {
      "text/plain": [
       "__main__.Thing"
      ]
     },
     "execution_count": 17,
     "metadata": {},
     "output_type": "execute_result"
    }
   ],
   "source": [
    "Thing"
   ]
  },
  {
   "cell_type": "code",
   "execution_count": 18,
   "id": "9cf83f37",
   "metadata": {},
   "outputs": [],
   "source": [
    "examples = Thing()"
   ]
  },
  {
   "cell_type": "code",
   "execution_count": 19,
   "id": "3e443d92",
   "metadata": {},
   "outputs": [
    {
     "data": {
      "text/plain": [
       "<__main__.Thing at 0x1446e9e7ee0>"
      ]
     },
     "execution_count": 19,
     "metadata": {},
     "output_type": "execute_result"
    }
   ],
   "source": [
    "examples"
   ]
  },
  {
   "cell_type": "code",
   "execution_count": 20,
   "id": "7e19dc2f",
   "metadata": {},
   "outputs": [
    {
     "data": {
      "text/plain": [
       "False"
      ]
     },
     "execution_count": 20,
     "metadata": {},
     "output_type": "execute_result"
    }
   ],
   "source": [
    "Thing == examples"
   ]
  },
  {
   "cell_type": "markdown",
   "id": "6ee8387f",
   "metadata": {},
   "source": [
    "So printed values of both are different"
   ]
  },
  {
   "cell_type": "markdown",
   "id": "f41564d5",
   "metadata": {},
   "source": [
    "2.Create a new class called Thing2 and add the value &#39;abc&#39; to the letters class attribute. Letters\n",
    "should be printed."
   ]
  },
  {
   "cell_type": "code",
   "execution_count": 22,
   "id": "51bcec23",
   "metadata": {},
   "outputs": [],
   "source": [
    "class Thing2:\n",
    "    letter='abc'        "
   ]
  },
  {
   "cell_type": "code",
   "execution_count": 24,
   "id": "f3a832be",
   "metadata": {},
   "outputs": [
    {
     "data": {
      "text/plain": [
       "'abc'"
      ]
     },
     "execution_count": 24,
     "metadata": {},
     "output_type": "execute_result"
    }
   ],
   "source": [
    "Thing2.letter"
   ]
  },
  {
   "cell_type": "markdown",
   "id": "d444812b",
   "metadata": {},
   "source": [
    "3.Make yet another class called, of course, Thing3. This time, assign the value &#39;xyz&#39; to an instance\n",
    "(object) attribute called letters. Print letters. Do you need to make an object from the class to do\n",
    "this?"
   ]
  },
  {
   "cell_type": "code",
   "execution_count": 31,
   "id": "f13ce2a9",
   "metadata": {},
   "outputs": [],
   "source": [
    "class Thing3:\n",
    "    def __init__(self,letters):\n",
    "        self.letters =letters"
   ]
  },
  {
   "cell_type": "code",
   "execution_count": 32,
   "id": "8067c01a",
   "metadata": {},
   "outputs": [
    {
     "ename": "AttributeError",
     "evalue": "type object 'Thing3' has no attribute 'letters'",
     "output_type": "error",
     "traceback": [
      "\u001b[1;31m---------------------------------------------------------------------------\u001b[0m",
      "\u001b[1;31mAttributeError\u001b[0m                            Traceback (most recent call last)",
      "\u001b[1;32m~\\AppData\\Local\\Temp/ipykernel_1688/1321941635.py\u001b[0m in \u001b[0;36m<module>\u001b[1;34m\u001b[0m\n\u001b[1;32m----> 1\u001b[1;33m \u001b[0mThing3\u001b[0m\u001b[1;33m.\u001b[0m\u001b[0mletters\u001b[0m\u001b[1;33m\u001b[0m\u001b[1;33m\u001b[0m\u001b[0m\n\u001b[0m",
      "\u001b[1;31mAttributeError\u001b[0m: type object 'Thing3' has no attribute 'letters'"
     ]
    }
   ],
   "source": [
    "Thing3.letters"
   ]
  },
  {
   "cell_type": "code",
   "execution_count": 33,
   "id": "58fa6a4a",
   "metadata": {},
   "outputs": [
    {
     "data": {
      "text/plain": [
       "'xyz'"
      ]
     },
     "execution_count": 33,
     "metadata": {},
     "output_type": "execute_result"
    }
   ],
   "source": [
    "A = Thing3('xyz')\n",
    "A.letters"
   ]
  },
  {
   "cell_type": "markdown",
   "id": "d5cf2461",
   "metadata": {},
   "source": [
    "***********"
   ]
  },
  {
   "cell_type": "code",
   "execution_count": 34,
   "id": "a35cc17f",
   "metadata": {},
   "outputs": [],
   "source": [
    "class Thing3:\n",
    "    def __init__(self):\n",
    "        self.letters='xyz'"
   ]
  },
  {
   "cell_type": "code",
   "execution_count": 35,
   "id": "8b6ddbbf",
   "metadata": {},
   "outputs": [
    {
     "ename": "AttributeError",
     "evalue": "type object 'Thing3' has no attribute 'letters'",
     "output_type": "error",
     "traceback": [
      "\u001b[1;31m---------------------------------------------------------------------------\u001b[0m",
      "\u001b[1;31mAttributeError\u001b[0m                            Traceback (most recent call last)",
      "\u001b[1;32m~\\AppData\\Local\\Temp/ipykernel_1688/1321941635.py\u001b[0m in \u001b[0;36m<module>\u001b[1;34m\u001b[0m\n\u001b[1;32m----> 1\u001b[1;33m \u001b[0mThing3\u001b[0m\u001b[1;33m.\u001b[0m\u001b[0mletters\u001b[0m\u001b[1;33m\u001b[0m\u001b[1;33m\u001b[0m\u001b[0m\n\u001b[0m",
      "\u001b[1;31mAttributeError\u001b[0m: type object 'Thing3' has no attribute 'letters'"
     ]
    }
   ],
   "source": [
    "Thing3.letters"
   ]
  },
  {
   "cell_type": "code",
   "execution_count": 36,
   "id": "18fd5907",
   "metadata": {},
   "outputs": [],
   "source": [
    "B=Thing3()"
   ]
  },
  {
   "cell_type": "code",
   "execution_count": 37,
   "id": "bce56b46",
   "metadata": {},
   "outputs": [
    {
     "data": {
      "text/plain": [
       "'xyz'"
      ]
     },
     "execution_count": 37,
     "metadata": {},
     "output_type": "execute_result"
    }
   ],
   "source": [
    "B.letters"
   ]
  },
  {
   "cell_type": "markdown",
   "id": "cdfc7869",
   "metadata": {},
   "source": [
    "4.Create an Element class with the instance attributes name, symbol, and number. Create a class\n",
    "object with the values &#39;Hydrogen,&#39; &#39;H,&#39; and 1."
   ]
  },
  {
   "cell_type": "code",
   "execution_count": 54,
   "id": "2f0785f1",
   "metadata": {},
   "outputs": [],
   "source": [
    "class Element:\n",
    "      def __init__(self,name,symbol,number):\n",
    "            self.name=name\n",
    "            self.symbol=symbol\n",
    "            self.number=number"
   ]
  },
  {
   "cell_type": "code",
   "execution_count": 40,
   "id": "544f99ed",
   "metadata": {},
   "outputs": [],
   "source": [
    "obj=Element('Hydrogen','H','1')"
   ]
  },
  {
   "cell_type": "code",
   "execution_count": 42,
   "id": "f0494923",
   "metadata": {},
   "outputs": [
    {
     "data": {
      "text/plain": [
       "'Hydrogen'"
      ]
     },
     "execution_count": 42,
     "metadata": {},
     "output_type": "execute_result"
    }
   ],
   "source": [
    "obj.name"
   ]
  },
  {
   "cell_type": "code",
   "execution_count": 43,
   "id": "820191cd",
   "metadata": {},
   "outputs": [
    {
     "data": {
      "text/plain": [
       "'H'"
      ]
     },
     "execution_count": 43,
     "metadata": {},
     "output_type": "execute_result"
    }
   ],
   "source": [
    "obj.symbol"
   ]
  },
  {
   "cell_type": "code",
   "execution_count": 44,
   "id": "3d397a42",
   "metadata": {},
   "outputs": [
    {
     "data": {
      "text/plain": [
       "'1'"
      ]
     },
     "execution_count": 44,
     "metadata": {},
     "output_type": "execute_result"
    }
   ],
   "source": [
    "obj.number"
   ]
  },
  {
   "cell_type": "markdown",
   "id": "f2699e74",
   "metadata": {},
   "source": [
    "5.Make a dictionary with these keys and values: &#39;name&#39;: &#39;Hydrogen&#39;, &#39;symbol&#39;: &#39;H&#39;, &#39;number&#39;: 1. Then,\n",
    "create an object called hydrogen from class Element using this dictionary."
   ]
  },
  {
   "cell_type": "code",
   "execution_count": 55,
   "id": "3857e01f",
   "metadata": {},
   "outputs": [],
   "source": [
    "dict={'name': 'Hydrogen', 'symbol': 'H', 'number': 1}"
   ]
  },
  {
   "cell_type": "code",
   "execution_count": 56,
   "id": "365dff69",
   "metadata": {},
   "outputs": [],
   "source": [
    "hydrogen=Element(dict['name'],dict['symbol'],dict['number'])"
   ]
  },
  {
   "cell_type": "code",
   "execution_count": 57,
   "id": "e5904905",
   "metadata": {},
   "outputs": [
    {
     "data": {
      "text/plain": [
       "'Hydrogen'"
      ]
     },
     "execution_count": 57,
     "metadata": {},
     "output_type": "execute_result"
    }
   ],
   "source": [
    "hydrogen.name"
   ]
  },
  {
   "cell_type": "code",
   "execution_count": 60,
   "id": "e9142d70",
   "metadata": {},
   "outputs": [
    {
     "data": {
      "text/plain": [
       "'H'"
      ]
     },
     "execution_count": 60,
     "metadata": {},
     "output_type": "execute_result"
    }
   ],
   "source": [
    "hydrogen.symbol"
   ]
  },
  {
   "cell_type": "code",
   "execution_count": 61,
   "id": "b0dce120",
   "metadata": {},
   "outputs": [
    {
     "data": {
      "text/plain": [
       "1"
      ]
     },
     "execution_count": 61,
     "metadata": {},
     "output_type": "execute_result"
    }
   ],
   "source": [
    "hydrogen.number"
   ]
  },
  {
   "cell_type": "markdown",
   "id": "c9984789",
   "metadata": {},
   "source": [
    "6.For the Element class, define a method called dump() that prints the values of the object’s\n",
    "attributes (name, symbol, and number). Create the hydrogen object from this new definition and\n",
    "use dump() to print its attributes."
   ]
  },
  {
   "cell_type": "code",
   "execution_count": 77,
   "id": "d1ad1f85",
   "metadata": {},
   "outputs": [],
   "source": [
    "class Element:\n",
    "    def __init__(self,name,symbol,number):\n",
    "            self.name=name\n",
    "            self.symbol=symbol\n",
    "            self.number=number\n",
    "    def dump(self):\n",
    "            return 'Final Result is name:{} , symbol:{}, number:{}'.format(self.name,self.symbol,self.number)\n",
    "        "
   ]
  },
  {
   "cell_type": "code",
   "execution_count": 78,
   "id": "26989cef",
   "metadata": {},
   "outputs": [],
   "source": [
    "hydrogen = Element('Hydrogen','H','1')"
   ]
  },
  {
   "cell_type": "code",
   "execution_count": 79,
   "id": "a8bd7c96",
   "metadata": {},
   "outputs": [
    {
     "data": {
      "text/plain": [
       "'Final Result is name:Hydrogen , symbol:H, number:1'"
      ]
     },
     "execution_count": 79,
     "metadata": {},
     "output_type": "execute_result"
    }
   ],
   "source": [
    "hydrogen.dump()"
   ]
  },
  {
   "cell_type": "markdown",
   "id": "3fe17242",
   "metadata": {},
   "source": [
    "7.Call print(hydrogen). In the definition of Element, change the name of method dump to __str__,\n",
    "create a new hydrogen object, and call print(hydrogen) again."
   ]
  },
  {
   "cell_type": "code",
   "execution_count": 80,
   "id": "ac382fc3",
   "metadata": {},
   "outputs": [
    {
     "name": "stdout",
     "output_type": "stream",
     "text": [
      "<__main__.Element object at 0x000001446DEE0850>\n"
     ]
    }
   ],
   "source": [
    "print(hydrogen)"
   ]
  },
  {
   "cell_type": "code",
   "execution_count": 81,
   "id": "a3d26a33",
   "metadata": {},
   "outputs": [],
   "source": [
    "class Element:\n",
    "    def __init__(self,name,symbol,number):\n",
    "            self.name=name\n",
    "            self.symbol=symbol\n",
    "            self.number=number\n",
    "    def __str__(self):\n",
    "            return 'Final Result is name:{} , symbol:{}, number:{}'.format(self.name,self.symbol,self.number)\n",
    "        "
   ]
  },
  {
   "cell_type": "code",
   "execution_count": 82,
   "id": "5b85817a",
   "metadata": {},
   "outputs": [
    {
     "name": "stdout",
     "output_type": "stream",
     "text": [
      "Final Result is name:Hydrogen , symbol:H, number:1\n"
     ]
    }
   ],
   "source": [
    "hydrogen = Element('Hydrogen','H','1')\n",
    "print(hydrogen)"
   ]
  },
  {
   "cell_type": "markdown",
   "id": "9df2c79d",
   "metadata": {},
   "source": [
    "Since in first code with dump() method print(hydrogen) print \"<__main__.Element object at 0x000001446DEE0850>\" but when we changed the dump() to str we could c print(hydrogen) is printing the statement"
   ]
  },
  {
   "cell_type": "markdown",
   "id": "f2b13493",
   "metadata": {},
   "source": [
    "8.Modify Element to make the attributes name, symbol, and number private. Define a getter\n",
    "property for each to return its value."
   ]
  },
  {
   "cell_type": "code",
   "execution_count": 84,
   "id": "e8879b61",
   "metadata": {},
   "outputs": [],
   "source": [
    "class Element:\n",
    "    def __init__(self,name,symbol,number):\n",
    "            self.__name=name\n",
    "            self.__symbol=symbol\n",
    "            self.__number=number\n",
    "    def name(self):\n",
    "        return self.__name\n",
    "    def symbol(self):\n",
    "        return self.__symbol\n",
    "    def number(self):\n",
    "        return self.__number\n",
    "    def __str__(self):\n",
    "            return 'Final Result is name:{} , symbol:{}, number:{}'.format(self.__name,self.__symbol,self.__number)\n",
    "        "
   ]
  },
  {
   "cell_type": "code",
   "execution_count": 85,
   "id": "3e40249b",
   "metadata": {},
   "outputs": [],
   "source": [
    "obj = Element('Hydrogen','H','1')"
   ]
  },
  {
   "cell_type": "code",
   "execution_count": 86,
   "id": "41bb341d",
   "metadata": {},
   "outputs": [
    {
     "data": {
      "text/plain": [
       "'Hydrogen'"
      ]
     },
     "execution_count": 86,
     "metadata": {},
     "output_type": "execute_result"
    }
   ],
   "source": [
    "obj.name()"
   ]
  },
  {
   "cell_type": "code",
   "execution_count": 87,
   "id": "0cdd6f44",
   "metadata": {},
   "outputs": [
    {
     "data": {
      "text/plain": [
       "'H'"
      ]
     },
     "execution_count": 87,
     "metadata": {},
     "output_type": "execute_result"
    }
   ],
   "source": [
    "obj.symbol()"
   ]
  },
  {
   "cell_type": "code",
   "execution_count": 88,
   "id": "90c04cb2",
   "metadata": {},
   "outputs": [
    {
     "data": {
      "text/plain": [
       "'1'"
      ]
     },
     "execution_count": 88,
     "metadata": {},
     "output_type": "execute_result"
    }
   ],
   "source": [
    "obj.number()"
   ]
  },
  {
   "cell_type": "markdown",
   "id": "db920f1f",
   "metadata": {},
   "source": [
    "9.Define three classes: Bear, Rabbit, and Octothorpe. For each, define only one method: eats(). This\n",
    "should return &#39;berries&#39; (Bear), &#39;clover&#39; (Rabbit), or &#39;campers&#39; (Octothorpe). Create one object from\n",
    "each and print what it eats."
   ]
  },
  {
   "cell_type": "code",
   "execution_count": 89,
   "id": "dca5669e",
   "metadata": {},
   "outputs": [],
   "source": [
    "class Bear:\n",
    "    def eats(self):\n",
    "        return 'barries'\n",
    "class Rabbit:\n",
    "    def eats(self):\n",
    "        return 'clover'\n",
    "class Octothorpe:\n",
    "    def eats(self):\n",
    "        return 'campers'"
   ]
  },
  {
   "cell_type": "code",
   "execution_count": 90,
   "id": "68651daa",
   "metadata": {},
   "outputs": [
    {
     "data": {
      "text/plain": [
       "'barries'"
      ]
     },
     "execution_count": 90,
     "metadata": {},
     "output_type": "execute_result"
    }
   ],
   "source": [
    "A = Bear()\n",
    "A.eats()"
   ]
  },
  {
   "cell_type": "code",
   "execution_count": 91,
   "id": "22ef0ed3",
   "metadata": {},
   "outputs": [
    {
     "data": {
      "text/plain": [
       "'barries'"
      ]
     },
     "execution_count": 91,
     "metadata": {},
     "output_type": "execute_result"
    }
   ],
   "source": [
    "B = Rabbit()\n",
    "B.eats()"
   ]
  },
  {
   "cell_type": "code",
   "execution_count": 93,
   "id": "2afe2b1a",
   "metadata": {},
   "outputs": [
    {
     "data": {
      "text/plain": [
       "'campers'"
      ]
     },
     "execution_count": 93,
     "metadata": {},
     "output_type": "execute_result"
    }
   ],
   "source": [
    "C = Octothorpe()\n",
    "C.eats()"
   ]
  },
  {
   "cell_type": "markdown",
   "id": "c993a25a",
   "metadata": {},
   "source": [
    "10.Define these classes: Laser, Claw, and SmartPhone. Each has only one method: does(). This returns 'disintegrate' (Laser), 'crush' (Claw), or 'ring' (SmartPhone). Then, define the class Robot that has one instance (object) of each of these. Define a does() method for the Robot that prints what its component objects do."
   ]
  },
  {
   "cell_type": "code",
   "execution_count": 97,
   "id": "0efddc20",
   "metadata": {},
   "outputs": [],
   "source": [
    "class Laser:\n",
    "    def does(self):\n",
    "        return 'disintegrate'\n",
    "class Claw:\n",
    "    def does(self):\n",
    "        return 'crush'\n",
    "class SmartPhone:\n",
    "    def does(self):\n",
    "        return 'ring'\n",
    "    \n",
    "class Robot:\n",
    "    def __init__(self):\n",
    "        self.Laser=Laser()\n",
    "        self.Claw=Claw()\n",
    "        self.SmartPhone=SmartPhone()\n",
    "    def does(self):\n",
    "        return  self.Laser.does() , self.Claw.does(),self.SmartPhone.does()"
   ]
  },
  {
   "cell_type": "code",
   "execution_count": 98,
   "id": "5e0a1111",
   "metadata": {},
   "outputs": [],
   "source": [
    "obj=Robot()"
   ]
  },
  {
   "cell_type": "code",
   "execution_count": 99,
   "id": "80f347fe",
   "metadata": {},
   "outputs": [
    {
     "data": {
      "text/plain": [
       "('disintegrate', 'crush', 'ring')"
      ]
     },
     "execution_count": 99,
     "metadata": {},
     "output_type": "execute_result"
    }
   ],
   "source": [
    "obj.does()"
   ]
  },
  {
   "cell_type": "code",
   "execution_count": null,
   "id": "0cffd11d",
   "metadata": {},
   "outputs": [],
   "source": []
  }
 ],
 "metadata": {
  "kernelspec": {
   "display_name": "Python 3 (ipykernel)",
   "language": "python",
   "name": "python3"
  },
  "language_info": {
   "codemirror_mode": {
    "name": "ipython",
    "version": 3
   },
   "file_extension": ".py",
   "mimetype": "text/x-python",
   "name": "python",
   "nbconvert_exporter": "python",
   "pygments_lexer": "ipython3",
   "version": "3.9.7"
  }
 },
 "nbformat": 4,
 "nbformat_minor": 5
}
