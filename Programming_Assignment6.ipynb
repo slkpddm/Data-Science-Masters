{
 "cells": [
  {
   "cell_type": "markdown",
   "id": "14fafff4",
   "metadata": {},
   "source": [
    "1.Write a Python Program to Display Fibonacci Sequence Using Recursion?"
   ]
  },
  {
   "cell_type": "code",
   "execution_count": 4,
   "id": "db509a15",
   "metadata": {},
   "outputs": [
    {
     "name": "stdout",
     "output_type": "stream",
     "text": [
      "Enter the number of terms:10\n",
      "Fibanocci sequence is:\n",
      "0 1 1 2 3 5 8 13 21 34 "
     ]
    }
   ],
   "source": [
    "n=int(input(\"Enter the number of terms:\"))\n",
    "def fib(n):\n",
    "    if(n<=1): return n\n",
    "    else :\n",
    "        return(fib(n-1)+fib(n-2))\n",
    "if(n<=0):\n",
    "    print(\"Enter valid number of terms\")\n",
    "else:\n",
    "    print(\"Fibanocci sequence is:\")\n",
    "    for i in range(n):\n",
    "        print(fib(i),end=\" \")\n",
    "        "
   ]
  },
  {
   "cell_type": "markdown",
   "id": "39ad015a",
   "metadata": {},
   "source": [
    "2.Write a Python Program to Find Factorial of Number Using Recursion?"
   ]
  },
  {
   "cell_type": "code",
   "execution_count": 5,
   "id": "dde66806",
   "metadata": {},
   "outputs": [
    {
     "name": "stdout",
     "output_type": "stream",
     "text": [
      "Enter the number:5\n",
      "Factorial of a number 5 is 120\n"
     ]
    }
   ],
   "source": [
    "n = int(input(\"Enter the number:\"))\n",
    "def factorial(n):\n",
    "    if(n==1):\n",
    "        return n\n",
    "    else:\n",
    "        return factorial(n-1)*n\n",
    "print('Factorial of a number {} is {}'.format(n,factorial(n)))    \n",
    "       "
   ]
  },
  {
   "cell_type": "markdown",
   "id": "f3ff96a9",
   "metadata": {},
   "source": [
    "3.Write a Python Program to calculate your Body Mass Index?"
   ]
  },
  {
   "cell_type": "code",
   "execution_count": 11,
   "id": "9d125fa6",
   "metadata": {},
   "outputs": [
    {
     "name": "stdout",
     "output_type": "stream",
     "text": [
      "Enter the weight:69.5\n",
      "Enter the height:5.8\n",
      "Body Mass Index: 2.07\n"
     ]
    }
   ],
   "source": [
    "#Body mass index = weight/(height^2)\n",
    "\n",
    "w=float(input(\"Enter the weight:\"))\n",
    "h=float(input(\"Enter the height:\"))\n",
    "print(\"Body Mass Index:\",round(w/(h**2),2))"
   ]
  },
  {
   "cell_type": "markdown",
   "id": "21e91d28",
   "metadata": {},
   "source": [
    "4.Write a Python Program to calculate the natural logarithm of any number?"
   ]
  },
  {
   "cell_type": "code",
   "execution_count": 13,
   "id": "f2aa18d2",
   "metadata": {},
   "outputs": [
    {
     "name": "stdout",
     "output_type": "stream",
     "text": [
      "Enter the number:10\n",
      "Natural Logarithm of 10 is 2.302585092994046\n"
     ]
    }
   ],
   "source": [
    "import math\n",
    "n = int(input(\"Enter the number:\"))\n",
    "print(\"Natural Logarithm of {} is {}\".format(n,math.log(n)))"
   ]
  },
  {
   "cell_type": "markdown",
   "id": "cf99f265",
   "metadata": {},
   "source": [
    "5.Write a Python Program for cube sum of first n natural numbers?"
   ]
  },
  {
   "cell_type": "code",
   "execution_count": 15,
   "id": "1708a0b9",
   "metadata": {},
   "outputs": [],
   "source": [
    "def Sum3N(n):\n",
    "    sum=0\n",
    "    n = int(input(\"Enter how many natural numbers:\"))\n",
    "    print(\"cube sum of first n natural numbers:\")\n",
    "    for i in range(1,n+1):\n",
    "        sum=sum+i**3\n",
    "    return sum\n",
    "\n",
    "    "
   ]
  },
  {
   "cell_type": "code",
   "execution_count": 17,
   "id": "2c2f2b98",
   "metadata": {},
   "outputs": [
    {
     "name": "stdout",
     "output_type": "stream",
     "text": [
      "Enter how many natural numbers:5\n",
      "cube sum of first n natural numbers:\n"
     ]
    },
    {
     "data": {
      "text/plain": [
       "225"
      ]
     },
     "execution_count": 17,
     "metadata": {},
     "output_type": "execute_result"
    }
   ],
   "source": [
    "Sum3N(5)"
   ]
  },
  {
   "cell_type": "code",
   "execution_count": null,
   "id": "a21b004c",
   "metadata": {},
   "outputs": [],
   "source": []
  }
 ],
 "metadata": {
  "kernelspec": {
   "display_name": "Python 3 (ipykernel)",
   "language": "python",
   "name": "python3"
  },
  "language_info": {
   "codemirror_mode": {
    "name": "ipython",
    "version": 3
   },
   "file_extension": ".py",
   "mimetype": "text/x-python",
   "name": "python",
   "nbconvert_exporter": "python",
   "pygments_lexer": "ipython3",
   "version": "3.9.7"
  }
 },
 "nbformat": 4,
 "nbformat_minor": 5
}
