{
 "cells": [
  {
   "cell_type": "markdown",
   "id": "29cd1441",
   "metadata": {},
   "source": [
    "1.Write a Python Program to Find LCM?"
   ]
  },
  {
   "cell_type": "code",
   "execution_count": 4,
   "id": "746cb845",
   "metadata": {},
   "outputs": [
    {
     "name": "stdout",
     "output_type": "stream",
     "text": [
      "Enter number a:15\n",
      "Enter number b:4\n",
      "LCM of number 15 and 4 is:60\n"
     ]
    }
   ],
   "source": [
    "#Least common multiple of two numbers\n",
    "a = int(input(\"Enter number a:\"))\n",
    "b = int(input(\"Enter number b:\"))\n",
    "if a>b :\n",
    "    lcm = a\n",
    "else : lcm = b      \n",
    "while(True):\n",
    "    if((lcm%a==0) and (lcm%b==0)):\n",
    "        print(\"LCM of number {} and {} is:{}\".format(a,b,lcm))\n",
    "        break\n",
    "    lcm=lcm+1 \n",
    "        "
   ]
  },
  {
   "cell_type": "markdown",
   "id": "90984814",
   "metadata": {},
   "source": [
    "2.Write a Python Program to Find HCF?"
   ]
  },
  {
   "cell_type": "code",
   "execution_count": 10,
   "id": "a6905b01",
   "metadata": {},
   "outputs": [
    {
     "name": "stdout",
     "output_type": "stream",
     "text": [
      "Enter number a:5\n",
      "Enter number b:10\n",
      "hcf= 5\n",
      "hcf1: 1\n",
      "hcf1: 5\n",
      "HCF of number 5 and 10 is:5\n"
     ]
    }
   ],
   "source": [
    "#Highest number that divides both the numbers\n",
    "a = int(input(\"Enter number a:\"))\n",
    "b = int(input(\"Enter number b:\"))\n",
    "if a<b :\n",
    "    hcf = a\n",
    "else : hcf = b  \n",
    "print(\"hcf=\",hcf)\n",
    "hcf1=1\n",
    "for i in range(1,hcf+1):\n",
    "    if((a%i==0) and (b%i==0)):\n",
    "        hcf1=i\n",
    "        print(\"hcf1:\",hcf1)\n",
    "print(\"HCF of number {} and {} is:{}\".format(a,b,hcf1))        \n",
    "   "
   ]
  },
  {
   "cell_type": "markdown",
   "id": "c4e52700",
   "metadata": {},
   "source": [
    "3.Write a Python Program to Convert Decimal to Binary, Octal and Hexadecimal?"
   ]
  },
  {
   "cell_type": "code",
   "execution_count": 27,
   "id": "672c5ade",
   "metadata": {},
   "outputs": [
    {
     "name": "stdout",
     "output_type": "stream",
     "text": [
      "Enter the decimal number:128\n",
      "Decimal to Binary:\n",
      "10000000\n",
      "\n",
      "Decimal to Octa:\n",
      "200\n",
      "\n",
      "Decimal to Hexa:\n",
      "80"
     ]
    }
   ],
   "source": [
    "import math\n",
    "#*********Decimal to Binary****************\n",
    "n = int(input(\"Enter the decimal number:\"))\n",
    "lst=[]\n",
    "while(n>0):\n",
    "    lst.append(n%2)\n",
    "    n=int(n/2)\n",
    "print(\"Decimal to Binary:\")    \n",
    "for i in lst[::-1]:\n",
    "    print(i,end=\"\")\n",
    "\n",
    "#********** Decimal to Octa *********    \n",
    "lst1=[]\n",
    "le=math.ceil((len(lst)/3))\n",
    "for i in range(0,le):\n",
    "    p=0\n",
    "    sum=0\n",
    "    for j in lst[3*i:3*(i+1)]:\n",
    "        sum=sum+(j*(2**p))\n",
    "        p=p+1\n",
    "    lst1.append(sum)  \n",
    "print(\"\\n\")    \n",
    "print(\"Decimal to Octa:\")\n",
    "for i in lst1[::-1]:\n",
    "    print(i,end=\"\")\n",
    "\n",
    "#************* Decimal to Hexa***********\n",
    "\n",
    "lst2=[]\n",
    "le=math.ceil((len(lst)/4))\n",
    "for i in range(0,le):\n",
    "    p=0\n",
    "    sum=0\n",
    "    for j in lst[4*i:4*(i+1)]:\n",
    "        sum=sum+(j*(2**p))\n",
    "        p=p+1\n",
    "    lst2.append(sum)  \n",
    "print(\"\\n\")    \n",
    "print(\"Decimal to Hexa:\")\n",
    "for i in lst2[::-1]:\n",
    "    print(i,end=\"\")"
   ]
  },
  {
   "cell_type": "markdown",
   "id": "152a07a8",
   "metadata": {},
   "source": [
    "4.Write a Python Program To Find ASCII value of a character?"
   ]
  },
  {
   "cell_type": "code",
   "execution_count": 7,
   "id": "0d3ce72e",
   "metadata": {},
   "outputs": [
    {
     "name": "stdout",
     "output_type": "stream",
     "text": [
      "Enter a character:A\n",
      "The ASCII value of A is 65\n"
     ]
    }
   ],
   "source": [
    "c = input(\"Enter a character:\")\n",
    "print(\"The ASCII value of {} is {}\".format(c,ord(c)))"
   ]
  },
  {
   "cell_type": "code",
   "execution_count": 9,
   "id": "ae189559",
   "metadata": {},
   "outputs": [
    {
     "name": "stdout",
     "output_type": "stream",
     "text": [
      "Enter ASCII value:65\n",
      "The character of 65 ASCII value is A\n"
     ]
    }
   ],
   "source": [
    "# ASCII value to a character\n",
    "a = int(input(\"Enter ASCII value:\"))\n",
    "print(\"The character of {} ASCII value is {}\".format(a,chr(a)))"
   ]
  },
  {
   "cell_type": "markdown",
   "id": "579b1bd4",
   "metadata": {},
   "source": [
    "5.Write a Python Program to Make a Simple Calculator with 4 basic mathematical operations?"
   ]
  },
  {
   "cell_type": "code",
   "execution_count": 17,
   "id": "ace1cfd8",
   "metadata": {},
   "outputs": [],
   "source": [
    "def fourOperations(a,b):\n",
    "    str = input(\"Enter the operation u want to perform:\")\n",
    "    if(str==\"Addition\"): return a+b\n",
    "    elif(str==\"Substraction\"): return a-b\n",
    "    elif(str==\"Multiplication\"): return a*b\n",
    "    elif(str==\"Division\"): return a/b\n",
    "    else: pass\n",
    "    "
   ]
  },
  {
   "cell_type": "code",
   "execution_count": 11,
   "id": "8a5d40ac",
   "metadata": {},
   "outputs": [
    {
     "name": "stdout",
     "output_type": "stream",
     "text": [
      "Enter the operation u want to perform:Addition\n"
     ]
    },
    {
     "data": {
      "text/plain": [
       "8"
      ]
     },
     "execution_count": 11,
     "metadata": {},
     "output_type": "execute_result"
    }
   ],
   "source": [
    "fourOperations(3,5)"
   ]
  },
  {
   "cell_type": "code",
   "execution_count": 12,
   "id": "36f0570b",
   "metadata": {},
   "outputs": [
    {
     "name": "stdout",
     "output_type": "stream",
     "text": [
      "Enter the operation u want to perform:Substraction\n"
     ]
    },
    {
     "data": {
      "text/plain": [
       "-2"
      ]
     },
     "execution_count": 12,
     "metadata": {},
     "output_type": "execute_result"
    }
   ],
   "source": [
    "fourOperations(3,5)"
   ]
  },
  {
   "cell_type": "code",
   "execution_count": 18,
   "id": "c9006a83",
   "metadata": {},
   "outputs": [
    {
     "name": "stdout",
     "output_type": "stream",
     "text": [
      "Enter the operation u want to perform:Multiplication\n"
     ]
    },
    {
     "data": {
      "text/plain": [
       "15"
      ]
     },
     "execution_count": 18,
     "metadata": {},
     "output_type": "execute_result"
    }
   ],
   "source": [
    "fourOperations(3,5)"
   ]
  },
  {
   "cell_type": "code",
   "execution_count": 19,
   "id": "c55c573a",
   "metadata": {},
   "outputs": [
    {
     "name": "stdout",
     "output_type": "stream",
     "text": [
      "Enter the operation u want to perform:Division\n"
     ]
    },
    {
     "data": {
      "text/plain": [
       "0.6"
      ]
     },
     "execution_count": 19,
     "metadata": {},
     "output_type": "execute_result"
    }
   ],
   "source": [
    "fourOperations(3,5)"
   ]
  },
  {
   "cell_type": "code",
   "execution_count": 20,
   "id": "ecb49e0a",
   "metadata": {},
   "outputs": [
    {
     "name": "stdout",
     "output_type": "stream",
     "text": [
      "Enter the operation u want to perform:Nothing\n"
     ]
    }
   ],
   "source": [
    "fourOperations(3,5)"
   ]
  },
  {
   "cell_type": "code",
   "execution_count": null,
   "id": "362c2c23",
   "metadata": {},
   "outputs": [],
   "source": []
  }
 ],
 "metadata": {
  "kernelspec": {
   "display_name": "Python 3 (ipykernel)",
   "language": "python",
   "name": "python3"
  },
  "language_info": {
   "codemirror_mode": {
    "name": "ipython",
    "version": 3
   },
   "file_extension": ".py",
   "mimetype": "text/x-python",
   "name": "python",
   "nbconvert_exporter": "python",
   "pygments_lexer": "ipython3",
   "version": "3.9.7"
  }
 },
 "nbformat": 4,
 "nbformat_minor": 5
}
