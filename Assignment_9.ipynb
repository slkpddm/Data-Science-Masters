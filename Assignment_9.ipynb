{
 "cells": [
  {
   "cell_type": "markdown",
   "id": "cf68d8f7",
   "metadata": {},
   "source": [
    "1.To what does a relative path refer?"
   ]
  },
  {
   "cell_type": "code",
   "execution_count": null,
   "id": "d2e7a692",
   "metadata": {},
   "outputs": [],
   "source": [
    "Ans:- Relative path is a path which doesn't have the root directory . Path will be like \"\\\\Downloads\\\\Assignments\""
   ]
  },
  {
   "cell_type": "markdown",
   "id": "f665122a",
   "metadata": {},
   "source": [
    "2.What does an absolute path start with your operating system?"
   ]
  },
  {
   "cell_type": "markdown",
   "id": "6a76ccaa",
   "metadata": {},
   "source": [
    "Ans:- Absolute path is the complete path starting from the root directory"
   ]
  },
  {
   "cell_type": "code",
   "execution_count": 6,
   "id": "75868131",
   "metadata": {},
   "outputs": [
    {
     "data": {
      "text/plain": [
       "'C:\\\\Users\\\\slkpd\\\\Downloads\\\\Assignments'"
      ]
     },
     "execution_count": 6,
     "metadata": {},
     "output_type": "execute_result"
    }
   ],
   "source": [
    "pwd() # Complete path"
   ]
  },
  {
   "cell_type": "markdown",
   "id": "ef35ff9b",
   "metadata": {},
   "source": [
    "3.What do the functions os.getcwd() and os.chdir() do?"
   ]
  },
  {
   "cell_type": "code",
   "execution_count": 7,
   "id": "a2e39ace",
   "metadata": {},
   "outputs": [
    {
     "data": {
      "text/plain": [
       "'C:\\\\Users\\\\slkpd\\\\Downloads\\\\Assignments'"
      ]
     },
     "execution_count": 7,
     "metadata": {},
     "output_type": "execute_result"
    }
   ],
   "source": [
    "import os\n",
    "os.getcwd() # This gives the current working directory "
   ]
  },
  {
   "cell_type": "code",
   "execution_count": 9,
   "id": "75e883b9",
   "metadata": {},
   "outputs": [],
   "source": [
    "os.chdir(\"C:\\\\Users\\\\slkpd\\\\Documents\")"
   ]
  },
  {
   "cell_type": "code",
   "execution_count": 10,
   "id": "3854348e",
   "metadata": {},
   "outputs": [
    {
     "data": {
      "text/plain": [
       "'C:\\\\Users\\\\slkpd\\\\Documents'"
      ]
     },
     "execution_count": 10,
     "metadata": {},
     "output_type": "execute_result"
    }
   ],
   "source": [
    "pwd()"
   ]
  },
  {
   "cell_type": "markdown",
   "id": "9d5d28f3",
   "metadata": {},
   "source": [
    "os.chdir() --> U can c that this will helps us to change the directory .Here we changed the directory from \"Downloads\" to \"Documents\""
   ]
  },
  {
   "cell_type": "markdown",
   "id": "1c51f70b",
   "metadata": {},
   "source": [
    "4.What are the . and .. folders?"
   ]
  },
  {
   "cell_type": "code",
   "execution_count": 13,
   "id": "822526af",
   "metadata": {},
   "outputs": [
    {
     "name": "stdout",
     "output_type": "stream",
     "text": [
      "C:\\Users\\slkpd\\Downloads\\Assignments\n"
     ]
    }
   ],
   "source": [
    "cd ."
   ]
  },
  {
   "cell_type": "code",
   "execution_count": 14,
   "id": "f886424f",
   "metadata": {},
   "outputs": [
    {
     "name": "stdout",
     "output_type": "stream",
     "text": [
      "C:\\Users\\slkpd\n"
     ]
    }
   ],
   "source": [
    "cd .."
   ]
  },
  {
   "cell_type": "code",
   "execution_count": 15,
   "id": "32ed3f5e",
   "metadata": {},
   "outputs": [
    {
     "data": {
      "text/plain": [
       "'C:\\\\Users\\\\slkpd'"
      ]
     },
     "execution_count": 15,
     "metadata": {},
     "output_type": "execute_result"
    }
   ],
   "source": [
    "pwd()"
   ]
  },
  {
   "cell_type": "code",
   "execution_count": 16,
   "id": "dc62e7a0",
   "metadata": {},
   "outputs": [
    {
     "name": "stdout",
     "output_type": "stream",
     "text": [
      "C:\\Users\\slkpd\n"
     ]
    }
   ],
   "source": [
    "cd ."
   ]
  },
  {
   "cell_type": "markdown",
   "id": "a8c05534",
   "metadata": {},
   "source": [
    "'.' ---> will give the present directory and '..' gives the parent directory"
   ]
  },
  {
   "cell_type": "markdown",
   "id": "4dd20aeb",
   "metadata": {},
   "source": [
    "5.In C:\\bacon\\eggs\\spam.txt, which part is the dir name, and which part is the base name?"
   ]
  },
  {
   "cell_type": "markdown",
   "id": "9c1aa370",
   "metadata": {},
   "source": [
    "Ans:- Till \"C:\\bacon\\eggs\" it is the dir name and 'spam.txt' is the base name"
   ]
  },
  {
   "cell_type": "markdown",
   "id": "e2c15d00",
   "metadata": {},
   "source": [
    "6.What are the three “mode” arguments that can be passed to the open() function?"
   ]
  },
  {
   "cell_type": "markdown",
   "id": "ad789ff3",
   "metadata": {},
   "source": [
    "# Ans:- Three modes :\n",
    "    1.read mode : 'r'\n",
    "    2.write mode: 'w'\n",
    "    3.appending mode : 'a'"
   ]
  },
  {
   "cell_type": "markdown",
   "id": "a4a768f4",
   "metadata": {},
   "source": [
    "7.What happens if an existing file is opened in write mode?"
   ]
  },
  {
   "cell_type": "markdown",
   "id": "f14d0f89",
   "metadata": {},
   "source": [
    "Ans:-If we opened the existing file in write mode means all the previous data will be erased and new data only exist in the file"
   ]
  },
  {
   "cell_type": "markdown",
   "id": "f62939d9",
   "metadata": {},
   "source": [
    "8.How do you tell the difference between read() and readlines()?"
   ]
  },
  {
   "cell_type": "markdown",
   "id": "139566fe",
   "metadata": {},
   "source": [
    "Ans :- The read() method returns all the content in the file in a single string and readlines() will return the each line in a seperate sttring and it will return each line at a time"
   ]
  },
  {
   "cell_type": "markdown",
   "id": "c2f8105c",
   "metadata": {},
   "source": [
    "9.What data structure does a shelf value resemble?"
   ]
  },
  {
   "cell_type": "markdown",
   "id": "7f65637f",
   "metadata": {},
   "source": [
    "Ans:-A shelf value resembles a dictionary value; it has keys and values, along with keys() and values() methods that work similarly to the dictionary methods of the same names."
   ]
  },
  {
   "cell_type": "code",
   "execution_count": null,
   "id": "98e25248",
   "metadata": {},
   "outputs": [],
   "source": []
  }
 ],
 "metadata": {
  "kernelspec": {
   "display_name": "Python 3 (ipykernel)",
   "language": "python",
   "name": "python3"
  },
  "language_info": {
   "codemirror_mode": {
    "name": "ipython",
    "version": 3
   },
   "file_extension": ".py",
   "mimetype": "text/x-python",
   "name": "python",
   "nbconvert_exporter": "python",
   "pygments_lexer": "ipython3",
   "version": "3.9.7"
  }
 },
 "nbformat": 4,
 "nbformat_minor": 5
}
