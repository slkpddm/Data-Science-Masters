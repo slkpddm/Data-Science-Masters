{
 "cells": [
  {
   "cell_type": "markdown",
   "id": "4d281cb4",
   "metadata": {},
   "source": [
    "1.Write a Python program to check if the given number is a Disarium Number?"
   ]
  },
  {
   "cell_type": "code",
   "execution_count": 10,
   "id": "370dacc0",
   "metadata": {},
   "outputs": [],
   "source": [
    "# A number whose sum of its digits powered with its respective position equals to the number itself is called a disarium number\n",
    "import math\n",
    "def disarium(n):\n",
    "    sum=0\n",
    "    t=n\n",
    "    length=len(str(n))\n",
    "    while(n>0):\n",
    "        a=n%10\n",
    "        sum=sum+math.pow(a,length)\n",
    "        n=int(n/10)\n",
    "        length = length-1\n",
    "    if(sum==t):\n",
    "        return \"Given number {} is Disarium Number\".format(t)\n",
    "    else:\n",
    "        return \"Given number {} is not a Disarium Number\".format(t)\n",
    "       "
   ]
  },
  {
   "cell_type": "code",
   "execution_count": 11,
   "id": "c959c930",
   "metadata": {},
   "outputs": [
    {
     "data": {
      "text/plain": [
       "'Given number 89 is Disarium Number'"
      ]
     },
     "execution_count": 11,
     "metadata": {},
     "output_type": "execute_result"
    }
   ],
   "source": [
    "disarium(89)"
   ]
  },
  {
   "cell_type": "code",
   "execution_count": 12,
   "id": "6e6fccd2",
   "metadata": {},
   "outputs": [
    {
     "data": {
      "text/plain": [
       "'Given number 135 is Disarium Number'"
      ]
     },
     "execution_count": 12,
     "metadata": {},
     "output_type": "execute_result"
    }
   ],
   "source": [
    "disarium(135)"
   ]
  },
  {
   "cell_type": "code",
   "execution_count": 13,
   "id": "a6933f2e",
   "metadata": {},
   "outputs": [
    {
     "data": {
      "text/plain": [
       "'Given number 518 is Disarium Number'"
      ]
     },
     "execution_count": 13,
     "metadata": {},
     "output_type": "execute_result"
    }
   ],
   "source": [
    "disarium(518)"
   ]
  },
  {
   "cell_type": "code",
   "execution_count": 14,
   "id": "0d0c06ff",
   "metadata": {},
   "outputs": [
    {
     "data": {
      "text/plain": [
       "'Given number 101 is not a Disarium Number'"
      ]
     },
     "execution_count": 14,
     "metadata": {},
     "output_type": "execute_result"
    }
   ],
   "source": [
    "disarium(101)"
   ]
  },
  {
   "cell_type": "markdown",
   "id": "a9a07f39",
   "metadata": {},
   "source": [
    "2.Write a Python program to print all disarium numbers between 1 to 100?"
   ]
  },
  {
   "cell_type": "code",
   "execution_count": 17,
   "id": "9bf69592",
   "metadata": {},
   "outputs": [],
   "source": [
    "def disarium_list():\n",
    "    lst=[]\n",
    "    for i in range(1,100):\n",
    "        sum=0\n",
    "        t=i\n",
    "        length=len(str(i))\n",
    "        while(i>0):\n",
    "            a=i%10\n",
    "            sum=sum+math.pow(a,length)\n",
    "            i=int(i/10)\n",
    "            length = length-1\n",
    "        if(sum==t):\n",
    "            lst.append(t)\n",
    "    return \"The list of Disarium Numbers between 1 to 100 are :\",lst      \n",
    "    \n"
   ]
  },
  {
   "cell_type": "code",
   "execution_count": 18,
   "id": "894f176c",
   "metadata": {},
   "outputs": [
    {
     "data": {
      "text/plain": [
       "('The list of Disarium Numbers between 1 to 100 are :',\n",
       " [1, 2, 3, 4, 5, 6, 7, 8, 9, 89])"
      ]
     },
     "execution_count": 18,
     "metadata": {},
     "output_type": "execute_result"
    }
   ],
   "source": [
    "disarium_list()"
   ]
  },
  {
   "cell_type": "markdown",
   "id": "9a5bb86a",
   "metadata": {},
   "source": [
    "3.Write a Python program to check if the given number is Happy Number?"
   ]
  },
  {
   "cell_type": "code",
   "execution_count": 25,
   "id": "f02a28df",
   "metadata": {},
   "outputs": [],
   "source": [
    "# A number is called happy if it leads to 1 after a sequence of steps wherein each step number is replaced by the sum of squares of its digit that is if we start with Happy Number and keep replacing it with digits square sum, we reach 1.\n",
    "\n",
    "def happy_number(n):\n",
    "    t=n\n",
    "    if(n>9):\n",
    "        while(n>9):\n",
    "            sum=0\n",
    "            while(n>0):\n",
    "                sum=sum+(n%10)**2\n",
    "                n=int(n/10)\n",
    "                \n",
    "            n=sum\n",
    "        if(n==1):\n",
    "            return \"Given Number is happy number\",t\n",
    "        else:\n",
    "            return \"Given number is not happy number\",t\n",
    "        \n",
    "    else:\n",
    "        if(t==1):\n",
    "            return \"Given Number is happy number\",t\n",
    "        else:\n",
    "            return \"Given number is not happy number\",t\n",
    "            \n",
    "            "
   ]
  },
  {
   "cell_type": "code",
   "execution_count": 26,
   "id": "083fd6d1",
   "metadata": {},
   "outputs": [
    {
     "data": {
      "text/plain": [
       "('Given Number is happy number', 19)"
      ]
     },
     "execution_count": 26,
     "metadata": {},
     "output_type": "execute_result"
    }
   ],
   "source": [
    "happy_number(19)"
   ]
  },
  {
   "cell_type": "code",
   "execution_count": 27,
   "id": "25ae630f",
   "metadata": {},
   "outputs": [
    {
     "data": {
      "text/plain": [
       "('Given number is not happy number', 9)"
      ]
     },
     "execution_count": 27,
     "metadata": {},
     "output_type": "execute_result"
    }
   ],
   "source": [
    "happy_number(9)"
   ]
  },
  {
   "cell_type": "code",
   "execution_count": 28,
   "id": "513a7822",
   "metadata": {},
   "outputs": [
    {
     "data": {
      "text/plain": [
       "('Given Number is happy number', 100)"
      ]
     },
     "execution_count": 28,
     "metadata": {},
     "output_type": "execute_result"
    }
   ],
   "source": [
    "happy_number(100)"
   ]
  },
  {
   "cell_type": "markdown",
   "id": "06c6fedb",
   "metadata": {},
   "source": [
    "4.Write a Python program to print all happy numbers between 1 and 100?"
   ]
  },
  {
   "cell_type": "code",
   "execution_count": 29,
   "id": "a2f630da",
   "metadata": {},
   "outputs": [],
   "source": [
    "def happy_list():\n",
    "    lst=[]\n",
    "    for i in range(1,100):\n",
    "        n=i\n",
    "        if(n>9):\n",
    "            while(n>9):\n",
    "                sum=0\n",
    "                while(n>0):\n",
    "                    sum=sum+(n%10)**2\n",
    "                    n=int(n/10)\n",
    "                \n",
    "                n=sum\n",
    "            if(n==1):\n",
    "                lst.append(i)\n",
    "        else:\n",
    "            if(n==1):\n",
    "                lst.append(i)\n",
    "    return \"List of Happy Numbers between 1 to 100 are\",lst            \n",
    "            "
   ]
  },
  {
   "cell_type": "code",
   "execution_count": 30,
   "id": "08789c12",
   "metadata": {},
   "outputs": [
    {
     "data": {
      "text/plain": [
       "('List of Happy Numbers between 1 to 100 are',\n",
       " [1, 10, 13, 19, 23, 28, 31, 32, 44, 49, 68, 70, 79, 82, 86, 91, 94, 97])"
      ]
     },
     "execution_count": 30,
     "metadata": {},
     "output_type": "execute_result"
    }
   ],
   "source": [
    "happy_list()"
   ]
  },
  {
   "cell_type": "markdown",
   "id": "8331e43d",
   "metadata": {},
   "source": [
    "5.Write a Python program to determine whether the given number is a Harshad Number?"
   ]
  },
  {
   "cell_type": "code",
   "execution_count": 31,
   "id": "d40e3ade",
   "metadata": {},
   "outputs": [],
   "source": [
    "# A number is said to be the Harshad number if it is divisible by the sum of its digit\n",
    "\n",
    "def harshad_number(n):\n",
    "    sum=0\n",
    "    t=n\n",
    "    while(n>0):\n",
    "        sum=sum+n%10\n",
    "        n=int(n/10)\n",
    "    if(t%sum==0):\n",
    "        return \"Given number is Harshad number\",t\n",
    "    else:\n",
    "        return \"Given number is not Harshad number\",t"
   ]
  },
  {
   "cell_type": "code",
   "execution_count": 32,
   "id": "3fabd724",
   "metadata": {},
   "outputs": [
    {
     "data": {
      "text/plain": [
       "('Given number is Harshad number', 156)"
      ]
     },
     "execution_count": 32,
     "metadata": {},
     "output_type": "execute_result"
    }
   ],
   "source": [
    "harshad_number(156)"
   ]
  },
  {
   "cell_type": "code",
   "execution_count": 33,
   "id": "eca1bd4d",
   "metadata": {},
   "outputs": [
    {
     "data": {
      "text/plain": [
       "('Given number is Harshad number', 21)"
      ]
     },
     "execution_count": 33,
     "metadata": {},
     "output_type": "execute_result"
    }
   ],
   "source": [
    "harshad_number(21)"
   ]
  },
  {
   "cell_type": "code",
   "execution_count": 34,
   "id": "eab59836",
   "metadata": {},
   "outputs": [
    {
     "data": {
      "text/plain": [
       "('Given number is not Harshad number', 15)"
      ]
     },
     "execution_count": 34,
     "metadata": {},
     "output_type": "execute_result"
    }
   ],
   "source": [
    "harshad_number(15)"
   ]
  },
  {
   "cell_type": "markdown",
   "id": "4e5c32f6",
   "metadata": {},
   "source": [
    "6.Write a Python program to print all pronic numbers between 1 and 100?"
   ]
  },
  {
   "cell_type": "code",
   "execution_count": 53,
   "id": "82590f67",
   "metadata": {},
   "outputs": [],
   "source": [
    "# If a number is a pronic number when sqrt(n)*(sqrt(n)+1)=n\n",
    "import math\n",
    "def pronic_number():\n",
    "    lst=[]\n",
    "    for i in range(1,100):\n",
    "        sum=0\n",
    "        sum=sum+i*(i+1)\n",
    "        if(sum<100):\n",
    "            lst.append(sum)\n",
    "    return \"Pronic numbers between 1 and 100\",lst     "
   ]
  },
  {
   "cell_type": "code",
   "execution_count": 54,
   "id": "7866afa8",
   "metadata": {},
   "outputs": [
    {
     "data": {
      "text/plain": [
       "('Pronic numbers between 1 and 100', [2, 6, 12, 20, 30, 42, 56, 72, 90])"
      ]
     },
     "execution_count": 54,
     "metadata": {},
     "output_type": "execute_result"
    }
   ],
   "source": [
    "pronic_number()"
   ]
  },
  {
   "cell_type": "code",
   "execution_count": null,
   "id": "cb26d8bc",
   "metadata": {},
   "outputs": [],
   "source": []
  }
 ],
 "metadata": {
  "kernelspec": {
   "display_name": "Python 3 (ipykernel)",
   "language": "python",
   "name": "python3"
  },
  "language_info": {
   "codemirror_mode": {
    "name": "ipython",
    "version": 3
   },
   "file_extension": ".py",
   "mimetype": "text/x-python",
   "name": "python",
   "nbconvert_exporter": "python",
   "pygments_lexer": "ipython3",
   "version": "3.9.7"
  }
 },
 "nbformat": 4,
 "nbformat_minor": 5
}
