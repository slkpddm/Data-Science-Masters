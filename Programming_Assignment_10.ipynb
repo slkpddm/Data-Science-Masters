{
 "cells": [
  {
   "cell_type": "markdown",
   "id": "f5299d88",
   "metadata": {},
   "source": [
    "1.Write a Python program to find sum of elements in list?"
   ]
  },
  {
   "cell_type": "code",
   "execution_count": 1,
   "id": "190c9a4a",
   "metadata": {},
   "outputs": [],
   "source": [
    "def sum_list(lst):\n",
    "    sum=0\n",
    "    for i in lst:\n",
    "        sum=sum+i\n",
    "    return sum    "
   ]
  },
  {
   "cell_type": "code",
   "execution_count": 2,
   "id": "cce05e14",
   "metadata": {},
   "outputs": [
    {
     "data": {
      "text/plain": [
       "15"
      ]
     },
     "execution_count": 2,
     "metadata": {},
     "output_type": "execute_result"
    }
   ],
   "source": [
    "sum_list([1,2,3,4,5])"
   ]
  },
  {
   "cell_type": "markdown",
   "id": "39cc574f",
   "metadata": {},
   "source": [
    "2.Write a Python program to Multiply all numbers in the list?"
   ]
  },
  {
   "cell_type": "code",
   "execution_count": 3,
   "id": "8aca9c0a",
   "metadata": {},
   "outputs": [],
   "source": [
    "def mul_list(lst):\n",
    "    sum=1\n",
    "    for i in lst:\n",
    "        sum=sum*i\n",
    "    return sum    "
   ]
  },
  {
   "cell_type": "code",
   "execution_count": 4,
   "id": "e9bf83a9",
   "metadata": {},
   "outputs": [
    {
     "data": {
      "text/plain": [
       "120"
      ]
     },
     "execution_count": 4,
     "metadata": {},
     "output_type": "execute_result"
    }
   ],
   "source": [
    "mul_list([1,2,3,4,5])"
   ]
  },
  {
   "cell_type": "markdown",
   "id": "baccc737",
   "metadata": {},
   "source": [
    "3.Write a Python program to find smallest number in a list?"
   ]
  },
  {
   "cell_type": "code",
   "execution_count": 5,
   "id": "77ca96c3",
   "metadata": {},
   "outputs": [],
   "source": [
    "def small_list(lst):\n",
    "    lst.sort()\n",
    "    return lst[0]"
   ]
  },
  {
   "cell_type": "code",
   "execution_count": 7,
   "id": "80e46c7a",
   "metadata": {},
   "outputs": [
    {
     "data": {
      "text/plain": [
       "3"
      ]
     },
     "execution_count": 7,
     "metadata": {},
     "output_type": "execute_result"
    }
   ],
   "source": [
    "small_list([234,6,3,8,4,323])"
   ]
  },
  {
   "cell_type": "markdown",
   "id": "5d426f68",
   "metadata": {},
   "source": [
    "4.Write a Python program to find largest number in a list?"
   ]
  },
  {
   "cell_type": "code",
   "execution_count": 10,
   "id": "1e38b081",
   "metadata": {},
   "outputs": [],
   "source": [
    "def largest_list(lst):\n",
    "    lst.sort(reverse=True)\n",
    "    return lst[0]"
   ]
  },
  {
   "cell_type": "code",
   "execution_count": 11,
   "id": "ea58155a",
   "metadata": {},
   "outputs": [
    {
     "data": {
      "text/plain": [
       "234"
      ]
     },
     "execution_count": 11,
     "metadata": {},
     "output_type": "execute_result"
    }
   ],
   "source": [
    "largest_list([234,6,3,8,])"
   ]
  },
  {
   "cell_type": "markdown",
   "id": "1d86e6a0",
   "metadata": {},
   "source": [
    "5.Write a Python program to find second largest number in a list?"
   ]
  },
  {
   "cell_type": "code",
   "execution_count": 12,
   "id": "a9bc36df",
   "metadata": {},
   "outputs": [],
   "source": [
    "def sec_large_list(lst):\n",
    "    lst.sort(reverse=True)\n",
    "    return lst[1]"
   ]
  },
  {
   "cell_type": "code",
   "execution_count": 13,
   "id": "cfc72deb",
   "metadata": {},
   "outputs": [
    {
     "data": {
      "text/plain": [
       "4523"
      ]
     },
     "execution_count": 13,
     "metadata": {},
     "output_type": "execute_result"
    }
   ],
   "source": [
    "sec_large_list([1332,4523,5,34,6734,1234])"
   ]
  },
  {
   "cell_type": "markdown",
   "id": "88c4b4d7",
   "metadata": {},
   "source": [
    "6.Write a Python program to find N largest elements from a list?"
   ]
  },
  {
   "cell_type": "code",
   "execution_count": 16,
   "id": "df09aa8f",
   "metadata": {},
   "outputs": [],
   "source": [
    "def nth_large_list(lst,n):\n",
    "    lst.sort(reverse=True)\n",
    "    return lst[n-1]"
   ]
  },
  {
   "cell_type": "code",
   "execution_count": 17,
   "id": "b0b633da",
   "metadata": {},
   "outputs": [
    {
     "data": {
      "text/plain": [
       "53"
      ]
     },
     "execution_count": 17,
     "metadata": {},
     "output_type": "execute_result"
    }
   ],
   "source": [
    "nth_large_list([23,423,41,1,442,53],3)"
   ]
  },
  {
   "cell_type": "markdown",
   "id": "60bb079e",
   "metadata": {},
   "source": [
    "7.Write a Python program to print even numbers in a list?"
   ]
  },
  {
   "cell_type": "code",
   "execution_count": 21,
   "id": "7ebe0b85",
   "metadata": {},
   "outputs": [],
   "source": [
    "def even_list(lst):\n",
    "    l=[]\n",
    "    for i in lst:\n",
    "        if(i%2==0):\n",
    "            l.append(i)\n",
    "    return \"Even number in a list\",l        "
   ]
  },
  {
   "cell_type": "code",
   "execution_count": 22,
   "id": "5438a010",
   "metadata": {},
   "outputs": [
    {
     "data": {
      "text/plain": [
       "('Even number in a list', [14, 4, 2, 234, 12])"
      ]
     },
     "execution_count": 22,
     "metadata": {},
     "output_type": "execute_result"
    }
   ],
   "source": [
    "even_list([23,14,4,2,45,234,12,13])"
   ]
  },
  {
   "cell_type": "markdown",
   "id": "411c8847",
   "metadata": {},
   "source": [
    "8.Write a Python program to print odd numbers in a List?"
   ]
  },
  {
   "cell_type": "code",
   "execution_count": 24,
   "id": "fb844291",
   "metadata": {},
   "outputs": [],
   "source": [
    "def odd_list(lst):\n",
    "    l=[]\n",
    "    for i in lst:\n",
    "        if(i%2!=0):\n",
    "            l.append(i)\n",
    "    return \"Odd numbers in a list\",l        "
   ]
  },
  {
   "cell_type": "code",
   "execution_count": 26,
   "id": "6cf9fa4d",
   "metadata": {},
   "outputs": [
    {
     "data": {
      "text/plain": [
       "('Odd numbers in a list', [123, 23, 53, 5423, 51, 2321])"
      ]
     },
     "execution_count": 26,
     "metadata": {},
     "output_type": "execute_result"
    }
   ],
   "source": [
    "odd_list([123,4,23,53,5423,51,2321])"
   ]
  },
  {
   "cell_type": "markdown",
   "id": "32a46528",
   "metadata": {},
   "source": [
    "9.Write a Python program to Remove empty List from List?"
   ]
  },
  {
   "cell_type": "code",
   "execution_count": 33,
   "id": "6dac7393",
   "metadata": {},
   "outputs": [],
   "source": [
    "def remove_empty(lst):\n",
    "    l=[]\n",
    "    for i in lst:\n",
    "        if(type(i)==list and i==[]):\n",
    "            pass\n",
    "        else:\n",
    "            l.append(i)\n",
    "    return l        "
   ]
  },
  {
   "cell_type": "code",
   "execution_count": 34,
   "id": "a2223681",
   "metadata": {},
   "outputs": [
    {
     "data": {
      "text/plain": [
       "[1, 2, 3, [1, 2, 3]]"
      ]
     },
     "execution_count": 34,
     "metadata": {},
     "output_type": "execute_result"
    }
   ],
   "source": [
    "remove_empty([1,2,3,[],[1,2,3],[]])"
   ]
  },
  {
   "cell_type": "markdown",
   "id": "b9886329",
   "metadata": {},
   "source": [
    "10. Write a Python program to Cloning or Copying a list?"
   ]
  },
  {
   "cell_type": "code",
   "execution_count": 35,
   "id": "9695b185",
   "metadata": {},
   "outputs": [],
   "source": [
    "def clone(lst):\n",
    "    lst_copy=[]\n",
    "    lst_copy=lst\n",
    "    return lst_copy\n",
    "    "
   ]
  },
  {
   "cell_type": "code",
   "execution_count": 36,
   "id": "d7c80a9b",
   "metadata": {},
   "outputs": [
    {
     "data": {
      "text/plain": [
       "[1, 2, 3, 4]"
      ]
     },
     "execution_count": 36,
     "metadata": {},
     "output_type": "execute_result"
    }
   ],
   "source": [
    "clone([1,2,3,4])"
   ]
  },
  {
   "cell_type": "code",
   "execution_count": 37,
   "id": "f8b473f0",
   "metadata": {},
   "outputs": [
    {
     "data": {
      "text/plain": [
       "[1, 2, 3, 4, 5, 6, 7, 8, 9]"
      ]
     },
     "execution_count": 37,
     "metadata": {},
     "output_type": "execute_result"
    }
   ],
   "source": [
    "clone([1,2,3,4])+[5,6,7,8,9]"
   ]
  },
  {
   "cell_type": "markdown",
   "id": "e9943aee",
   "metadata": {},
   "source": [
    "11. Write a Python program to Count occurrences of an element in a list?"
   ]
  },
  {
   "cell_type": "code",
   "execution_count": 40,
   "id": "9d09793d",
   "metadata": {},
   "outputs": [],
   "source": [
    "def count_list(lst,n):\n",
    "    return 'Occurrences of an an element {} in a list is {}'.format(n,lst.count(n))\n",
    "        "
   ]
  },
  {
   "cell_type": "code",
   "execution_count": 41,
   "id": "b5bbf81c",
   "metadata": {},
   "outputs": [
    {
     "data": {
      "text/plain": [
       "'Occurrences of an an element 2 in a list is 5'"
      ]
     },
     "execution_count": 41,
     "metadata": {},
     "output_type": "execute_result"
    }
   ],
   "source": [
    "count_list([2,2,2,3,4,5,2,4,6,5,3,2],2)"
   ]
  },
  {
   "cell_type": "code",
   "execution_count": null,
   "id": "74b65041",
   "metadata": {},
   "outputs": [],
   "source": []
  }
 ],
 "metadata": {
  "kernelspec": {
   "display_name": "Python 3 (ipykernel)",
   "language": "python",
   "name": "python3"
  },
  "language_info": {
   "codemirror_mode": {
    "name": "ipython",
    "version": 3
   },
   "file_extension": ".py",
   "mimetype": "text/x-python",
   "name": "python",
   "nbconvert_exporter": "python",
   "pygments_lexer": "ipython3",
   "version": "3.9.7"
  }
 },
 "nbformat": 4,
 "nbformat_minor": 5
}
