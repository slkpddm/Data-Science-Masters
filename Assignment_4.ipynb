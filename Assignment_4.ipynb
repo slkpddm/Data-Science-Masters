{
 "cells": [
  {
   "cell_type": "markdown",
   "id": "eee532d5",
   "metadata": {},
   "source": [
    "1. What exactly is []?"
   ]
  },
  {
   "cell_type": "markdown",
   "id": "e89ead9c",
   "metadata": {},
   "source": [
    "Ans :- [] this indiactes a list"
   ]
  },
  {
   "cell_type": "code",
   "execution_count": 1,
   "id": "69389293",
   "metadata": {},
   "outputs": [
    {
     "name": "stdout",
     "output_type": "stream",
     "text": [
      "<class 'list'>\n"
     ]
    }
   ],
   "source": [
    "l = []\n",
    "print(type(l))"
   ]
  },
  {
   "cell_type": "markdown",
   "id": "6bc26664",
   "metadata": {},
   "source": [
    "Here you can see that type of that variable l is \"list\""
   ]
  },
  {
   "cell_type": "markdown",
   "id": "3321e8e1",
   "metadata": {},
   "source": [
    "2. In a list of values stored in a variable called spam, how would you assign the value 'hello' as the third value? (Assume [2, 4, 6, 8, 10] are in spam.)"
   ]
  },
  {
   "cell_type": "code",
   "execution_count": 4,
   "id": "9e235167",
   "metadata": {},
   "outputs": [
    {
     "name": "stdout",
     "output_type": "stream",
     "text": [
      "[2, 4, 'hello', 6, 8, 10]\n"
     ]
    }
   ],
   "source": [
    "spam = [2,4,6,8,10]\n",
    "spam.insert(2,\"hello\")\n",
    "print(spam)"
   ]
  },
  {
   "cell_type": "markdown",
   "id": "53b24690",
   "metadata": {},
   "source": [
    "Here you can we have assigned  \"hello\" as a third value using insert method . In that function first argument is an index and second one is the value which we  want to insert"
   ]
  },
  {
   "cell_type": "markdown",
   "id": "5513e8c3",
   "metadata": {},
   "source": [
    "Let's pretend the spam includes the list ['a', 'b', 'c', 'd'] for the next three queries."
   ]
  },
  {
   "cell_type": "markdown",
   "id": "1b5e7c5e",
   "metadata": {},
   "source": [
    "3. What is the value of spam[int(int('3' * 2) / 11)]?"
   ]
  },
  {
   "cell_type": "markdown",
   "id": "d9087d23",
   "metadata": {},
   "source": [
    "Ans:-first int('3'*2) gives 33 then divide by 11 gives 3 that int(33/11) = 3 . Then spam[3] = 'd' since spam = ['a','b','c','d']"
   ]
  },
  {
   "cell_type": "code",
   "execution_count": 9,
   "id": "cea6cd51",
   "metadata": {},
   "outputs": [
    {
     "name": "stdout",
     "output_type": "stream",
     "text": [
      "d\n"
     ]
    }
   ],
   "source": [
    "spam = ['a','b','c','d']\n",
    "print(spam[int(int('3'*2)/11)])"
   ]
  },
  {
   "cell_type": "markdown",
   "id": "efa35e64",
   "metadata": {},
   "source": [
    "4. What is the value of spam[-1]?"
   ]
  },
  {
   "cell_type": "markdown",
   "id": "512dc4b8",
   "metadata": {},
   "source": [
    "Ans : - spam[-1] means here index start from last like -1 , -2 ,-3 and -4 . so spam[-1] = 'd'"
   ]
  },
  {
   "cell_type": "code",
   "execution_count": 11,
   "id": "e8610052",
   "metadata": {},
   "outputs": [
    {
     "name": "stdout",
     "output_type": "stream",
     "text": [
      "d\n"
     ]
    }
   ],
   "source": [
    "print(spam[-1])"
   ]
  },
  {
   "cell_type": "markdown",
   "id": "bdb41101",
   "metadata": {},
   "source": [
    "5. What is the value of spam[:2]?"
   ]
  },
  {
   "cell_type": "markdown",
   "id": "2f598add",
   "metadata": {},
   "source": [
    "Ans:- Since spam[:2] index will start from 0 to 1 excluding index 2 . so it will return ['a','b']"
   ]
  },
  {
   "cell_type": "code",
   "execution_count": 10,
   "id": "e40918bd",
   "metadata": {},
   "outputs": [
    {
     "name": "stdout",
     "output_type": "stream",
     "text": [
      "['a', 'b']\n"
     ]
    }
   ],
   "source": [
    "print(spam[:2])"
   ]
  },
  {
   "cell_type": "markdown",
   "id": "8aaeaf6d",
   "metadata": {},
   "source": [
    "Let's pretend bacon has the list [3.14, 'cat,' 11, 'cat,' True] for the next three questions."
   ]
  },
  {
   "cell_type": "markdown",
   "id": "967f6e9f",
   "metadata": {},
   "source": [
    "6. What is the value of bacon.index('cat')?"
   ]
  },
  {
   "cell_type": "code",
   "execution_count": 12,
   "id": "d37bdd31",
   "metadata": {},
   "outputs": [
    {
     "name": "stdout",
     "output_type": "stream",
     "text": [
      "1\n"
     ]
    }
   ],
   "source": [
    "bacon = [3.14,'cat',11,'cat',True]\n",
    "print(bacon.index('cat'))"
   ]
  },
  {
   "cell_type": "markdown",
   "id": "e2dc2aa5",
   "metadata": {},
   "source": [
    "Here in example if you see it gives the index of first occurence of the value in the list"
   ]
  },
  {
   "cell_type": "markdown",
   "id": "49e94502",
   "metadata": {},
   "source": [
    "7. How does bacon.append(99) change the look of the list value in bacon?"
   ]
  },
  {
   "cell_type": "markdown",
   "id": "3ab9decb",
   "metadata": {},
   "source": [
    "Ans :- bacon.append(99) will add the value 99 to the list at the end of the existing list . After this operation list would be like [3.14,'cat',11,'cat',True,99]"
   ]
  },
  {
   "cell_type": "code",
   "execution_count": 15,
   "id": "22e6beee",
   "metadata": {},
   "outputs": [
    {
     "name": "stdout",
     "output_type": "stream",
     "text": [
      "[3.14, 'cat', 11, 'cat', True, 99]\n"
     ]
    }
   ],
   "source": [
    "bacon = [3.14,'cat',11,'cat',True]\n",
    "bacon.append(99)\n",
    "print(bacon)"
   ]
  },
  {
   "cell_type": "markdown",
   "id": "26157fbd",
   "metadata": {},
   "source": [
    "8. How does bacon.remove('cat') change the look of the list in bacon?"
   ]
  },
  {
   "cell_type": "code",
   "execution_count": 16,
   "id": "4b238429",
   "metadata": {},
   "outputs": [
    {
     "name": "stdout",
     "output_type": "stream",
     "text": [
      "[3.14, 11, 'cat', True, 99]\n"
     ]
    }
   ],
   "source": [
    "bacon.remove('cat')\n",
    "print(bacon)"
   ]
  },
  {
   "cell_type": "markdown",
   "id": "2f13bdf5",
   "metadata": {},
   "source": [
    "Here if youy see it will remove the first occurence of the value 'cat'"
   ]
  },
  {
   "cell_type": "markdown",
   "id": "884cbaad",
   "metadata": {},
   "source": [
    "9. What are the list concatenation and list replication operators?"
   ]
  },
  {
   "cell_type": "markdown",
   "id": "049f6694",
   "metadata": {},
   "source": [
    "Ans - \n",
    "list concatanation : - we can use '+' operator \n",
    "list replication :- we can use '*'"
   ]
  },
  {
   "cell_type": "markdown",
   "id": "a2c220a6",
   "metadata": {},
   "source": [
    "#for concatenation\n",
    "a=[1,2,3]\n",
    "b=[4,5,6]\n",
    "c=a+b"
   ]
  },
  {
   "cell_type": "code",
   "execution_count": 21,
   "id": "fc7980d6",
   "metadata": {},
   "outputs": [
    {
     "data": {
      "text/plain": [
       "[1, 2, 3, 4, 5, 6]"
      ]
     },
     "execution_count": 21,
     "metadata": {},
     "output_type": "execute_result"
    }
   ],
   "source": [
    "c"
   ]
  },
  {
   "cell_type": "code",
   "execution_count": 22,
   "id": "c4678ff3",
   "metadata": {},
   "outputs": [
    {
     "data": {
      "text/plain": [
       "[1, 2, 3, 4, 5, 6, 1, 2, 3, 4, 5, 6, 1, 2, 3, 4, 5, 6]"
      ]
     },
     "execution_count": 22,
     "metadata": {},
     "output_type": "execute_result"
    }
   ],
   "source": [
    "#for replication\n",
    "c*3"
   ]
  },
  {
   "cell_type": "markdown",
   "id": "b3077547",
   "metadata": {},
   "source": [
    "10. What is difference between the list methods append() and insert()?"
   ]
  },
  {
   "cell_type": "markdown",
   "id": "82e21949",
   "metadata": {},
   "source": [
    "Ans:- The difference between append() and insert() is with append() method we can only add the value to the list at the end of the list but with insert() method we can at any spectific index means at any position"
   ]
  },
  {
   "cell_type": "code",
   "execution_count": 24,
   "id": "d3ee9791",
   "metadata": {},
   "outputs": [
    {
     "name": "stdout",
     "output_type": "stream",
     "text": [
      "[1, 2, 3, 'skp']\n",
      "[4, 'skp', 5, 6]\n"
     ]
    }
   ],
   "source": [
    "a = [1,2,3]\n",
    "a.append(\"skp\")\n",
    "print(a)\n",
    "#suppost i want insert \"skp\" at 2nd position which is at index 1\n",
    "b = [4,5,6]\n",
    "b.insert(1,\"skp\")\n",
    "print(b)"
   ]
  },
  {
   "cell_type": "markdown",
   "id": "1ba39622",
   "metadata": {},
   "source": [
    "11. What are the two methods for removing items from a list?"
   ]
  },
  {
   "cell_type": "markdown",
   "id": "745e1824",
   "metadata": {},
   "source": [
    "Ans:- We can remove the items from a list using remove() , pop() and clear() methods . With remove method we can remove the first occurence of the given value . With pop menthod we can remove the element at particular index and with the clear method we will remove the all the elements of the list"
   ]
  },
  {
   "cell_type": "code",
   "execution_count": 27,
   "id": "7a659b3d",
   "metadata": {},
   "outputs": [
    {
     "name": "stdout",
     "output_type": "stream",
     "text": [
      "[1, 1, 1, 1, 2, 4, 5]\n"
     ]
    }
   ],
   "source": [
    "a = [1,2,1,1,1,2,4,5]\n",
    "a.remove(2)\n",
    "print(a)"
   ]
  },
  {
   "cell_type": "code",
   "execution_count": 30,
   "id": "d3408d73",
   "metadata": {},
   "outputs": [
    {
     "name": "stdout",
     "output_type": "stream",
     "text": [
      "[1, 2, 1, 1, 2, 4, 5]\n"
     ]
    }
   ],
   "source": [
    "a = [1,2,1,1,1,2,4,5]\n",
    "a.pop(2)\n",
    "print(a)"
   ]
  },
  {
   "cell_type": "code",
   "execution_count": 31,
   "id": "3f623478",
   "metadata": {},
   "outputs": [
    {
     "name": "stdout",
     "output_type": "stream",
     "text": [
      "[]\n"
     ]
    }
   ],
   "source": [
    "a = [1,2,1,1,1,2,4,5]\n",
    "a.clear()\n",
    "print(a)"
   ]
  },
  {
   "cell_type": "markdown",
   "id": "7c518c34",
   "metadata": {},
   "source": [
    "12. Describe how list values and string values are identical."
   ]
  },
  {
   "cell_type": "markdown",
   "id": "ce8004b9",
   "metadata": {},
   "source": [
    "Ans:-The list values and string values follows the same indexing method . we can access elements of list same as accessing elements of string"
   ]
  },
  {
   "cell_type": "code",
   "execution_count": 32,
   "id": "f5dd5dd0",
   "metadata": {},
   "outputs": [
    {
     "name": "stdout",
     "output_type": "stream",
     "text": [
      "dhoni"
     ]
    }
   ],
   "source": [
    "l=['d','h','o','n','i']\n",
    "for i in l:\n",
    "    print(i,end=\"\")"
   ]
  },
  {
   "cell_type": "code",
   "execution_count": 33,
   "id": "c6e7fa29",
   "metadata": {},
   "outputs": [
    {
     "name": "stdout",
     "output_type": "stream",
     "text": [
      "dhoni"
     ]
    }
   ],
   "source": [
    "s='dhoni'\n",
    "for i in s:\n",
    "    print(i,end=\"\")"
   ]
  },
  {
   "cell_type": "code",
   "execution_count": 34,
   "id": "2c63acde",
   "metadata": {},
   "outputs": [
    {
     "data": {
      "text/plain": [
       "'o'"
      ]
     },
     "execution_count": 34,
     "metadata": {},
     "output_type": "execute_result"
    }
   ],
   "source": [
    "l[2]"
   ]
  },
  {
   "cell_type": "code",
   "execution_count": 35,
   "id": "28cf8409",
   "metadata": {},
   "outputs": [
    {
     "data": {
      "text/plain": [
       "'o'"
      ]
     },
     "execution_count": 35,
     "metadata": {},
     "output_type": "execute_result"
    }
   ],
   "source": [
    "s[2]"
   ]
  },
  {
   "cell_type": "markdown",
   "id": "210e0193",
   "metadata": {},
   "source": [
    "13. What's the difference between tuples and lists?"
   ]
  },
  {
   "cell_type": "markdown",
   "id": "2547932d",
   "metadata": {},
   "source": [
    "Ans : The main difference between tuples and lists is tuples are immutable and lists are mutable means once tuple created means we cannot manipulate the tuple direclty but we can manipulate the list "
   ]
  },
  {
   "cell_type": "code",
   "execution_count": 36,
   "id": "8764b526",
   "metadata": {},
   "outputs": [
    {
     "name": "stdout",
     "output_type": "stream",
     "text": [
      "3\n"
     ]
    }
   ],
   "source": [
    "t=(1,2,3,4)\n",
    "print(t[2])"
   ]
  },
  {
   "cell_type": "code",
   "execution_count": 37,
   "id": "580ac324",
   "metadata": {},
   "outputs": [
    {
     "ename": "TypeError",
     "evalue": "'tuple' object does not support item assignment",
     "output_type": "error",
     "traceback": [
      "\u001b[1;31m---------------------------------------------------------------------------\u001b[0m",
      "\u001b[1;31mTypeError\u001b[0m                                 Traceback (most recent call last)",
      "\u001b[1;32m~\\AppData\\Local\\Temp/ipykernel_1872/3301332048.py\u001b[0m in \u001b[0;36m<module>\u001b[1;34m\u001b[0m\n\u001b[1;32m----> 1\u001b[1;33m \u001b[0mt\u001b[0m\u001b[1;33m[\u001b[0m\u001b[1;36m2\u001b[0m\u001b[1;33m]\u001b[0m \u001b[1;33m=\u001b[0m \u001b[1;36m5\u001b[0m\u001b[1;33m\u001b[0m\u001b[1;33m\u001b[0m\u001b[0m\n\u001b[0m",
      "\u001b[1;31mTypeError\u001b[0m: 'tuple' object does not support item assignment"
     ]
    }
   ],
   "source": [
    "t[2] = 5"
   ]
  },
  {
   "cell_type": "code",
   "execution_count": 38,
   "id": "ce28ea0e",
   "metadata": {},
   "outputs": [
    {
     "name": "stdout",
     "output_type": "stream",
     "text": [
      "3\n"
     ]
    }
   ],
   "source": [
    "l=[1,2,3,4]\n",
    "print(l[2])"
   ]
  },
  {
   "cell_type": "code",
   "execution_count": 39,
   "id": "d85aa6a4",
   "metadata": {},
   "outputs": [],
   "source": [
    "l[2]=5"
   ]
  },
  {
   "cell_type": "code",
   "execution_count": 40,
   "id": "ef65eedb",
   "metadata": {},
   "outputs": [
    {
     "data": {
      "text/plain": [
       "[1, 2, 5, 4]"
      ]
     },
     "execution_count": 40,
     "metadata": {},
     "output_type": "execute_result"
    }
   ],
   "source": [
    "l"
   ]
  },
  {
   "cell_type": "markdown",
   "id": "a4cc5a34",
   "metadata": {},
   "source": [
    "Here you can see we have manipulated the list and we could not able to manipulate the tuple direclty"
   ]
  },
  {
   "cell_type": "markdown",
   "id": "84ec071c",
   "metadata": {},
   "source": [
    "14. How do you type a tuple value that only contains the integer 42?"
   ]
  },
  {
   "cell_type": "code",
   "execution_count": 8,
   "id": "c57512b3",
   "metadata": {},
   "outputs": [],
   "source": [
    "t=(42,) # We can create tuple with single value like this "
   ]
  },
  {
   "cell_type": "code",
   "execution_count": 9,
   "id": "72403b04",
   "metadata": {},
   "outputs": [
    {
     "data": {
      "text/plain": [
       "42"
      ]
     },
     "execution_count": 9,
     "metadata": {},
     "output_type": "execute_result"
    }
   ],
   "source": [
    "t[0]"
   ]
  },
  {
   "cell_type": "code",
   "execution_count": 10,
   "id": "fb8ecd64",
   "metadata": {},
   "outputs": [
    {
     "data": {
      "text/plain": [
       "tuple"
      ]
     },
     "execution_count": 10,
     "metadata": {},
     "output_type": "execute_result"
    }
   ],
   "source": [
    "type(t)"
   ]
  },
  {
   "cell_type": "markdown",
   "id": "5ad47c30",
   "metadata": {},
   "source": [
    "15. How do you get a list value's tuple form? How do you get a tuple value's list form?"
   ]
  },
  {
   "cell_type": "code",
   "execution_count": 11,
   "id": "41325d64",
   "metadata": {},
   "outputs": [
    {
     "name": "stdout",
     "output_type": "stream",
     "text": [
      "(1, 2, 3, 4)\n",
      "[1, 2, 3, 4]\n"
     ]
    }
   ],
   "source": [
    "l=[1,2,3,4]\n",
    "#To convert it into tuple\n",
    "t=tuple(l)\n",
    "print(t)\n",
    "#To convert again from tuple to list\n",
    "l=list(t)\n",
    "print(l)"
   ]
  },
  {
   "cell_type": "markdown",
   "id": "8ceb7563",
   "metadata": {},
   "source": [
    "16. Variables that \"contain\" list values are not necessarily lists themselves. Instead, what do they contain?"
   ]
  },
  {
   "cell_type": "markdown",
   "id": "7f2c6bc9",
   "metadata": {},
   "source": [
    "Ans:- Variables will contain the references to the list of values instead of having list of values themselves."
   ]
  },
  {
   "cell_type": "markdown",
   "id": "c9af3cde",
   "metadata": {},
   "source": [
    "17. How do you distinguish between copy.copy() and copy.deepcopy()?"
   ]
  },
  {
   "cell_type": "code",
   "execution_count": 2,
   "id": "1f3f9280",
   "metadata": {},
   "outputs": [
    {
     "name": "stdout",
     "output_type": "stream",
     "text": [
      "[1, 2, [5, 3], 4]\n",
      "[1, 2, [5, 3], 4]\n"
     ]
    }
   ],
   "source": [
    "import copy\n",
    "l1 = [1,2,[2,3],4]\n",
    "l2=copy.copy(l1)\n",
    "l2[2][0]=5\n",
    "print(l1)\n",
    "print(l2)"
   ]
  },
  {
   "cell_type": "code",
   "execution_count": 3,
   "id": "9cdd0807",
   "metadata": {},
   "outputs": [
    {
     "name": "stdout",
     "output_type": "stream",
     "text": [
      "[1, 2, [2, 3], 4]\n",
      "[1, 2, [5, 3], 4]\n"
     ]
    }
   ],
   "source": [
    "import copy\n",
    "l1 = [1,2,[2,3],4]\n",
    "l2=copy.deepcopy(l1)\n",
    "l2[2][0]=5\n",
    "print(l1)\n",
    "print(l2)"
   ]
  },
  {
   "cell_type": "markdown",
   "id": "59973f13",
   "metadata": {},
   "source": [
    "If u observe in copy.copy even if we made some changes in list l2 we are getting those changes in list l1 as well but when u use copy.deepcopy list l2 changes are not affecting l1 "
   ]
  },
  {
   "cell_type": "code",
   "execution_count": null,
   "id": "eea41bc8",
   "metadata": {},
   "outputs": [],
   "source": []
  }
 ],
 "metadata": {
  "kernelspec": {
   "display_name": "Python 3 (ipykernel)",
   "language": "python",
   "name": "python3"
  },
  "language_info": {
   "codemirror_mode": {
    "name": "ipython",
    "version": 3
   },
   "file_extension": ".py",
   "mimetype": "text/x-python",
   "name": "python",
   "nbconvert_exporter": "python",
   "pygments_lexer": "ipython3",
   "version": "3.9.7"
  }
 },
 "nbformat": 4,
 "nbformat_minor": 5
}
