{
 "cells": [
  {
   "cell_type": "markdown",
   "id": "da9cfaca",
   "metadata": {},
   "source": [
    "Write a Python program to convert kilometers to miles?"
   ]
  },
  {
   "cell_type": "code",
   "execution_count": 1,
   "id": "f2158038",
   "metadata": {},
   "outputs": [
    {
     "name": "stdout",
     "output_type": "stream",
     "text": [
      "Enter the kms:10\n",
      "Miles: 16.0\n"
     ]
    }
   ],
   "source": [
    "# 1 mile = 1.6 kms\n",
    "# 1km = (1/1.6)*miles\n",
    "kms = int(input(\"Enter the kms:\"))\n",
    "miles = (1.6)*kms\n",
    "print(\"Miles:\",miles)"
   ]
  },
  {
   "cell_type": "markdown",
   "id": "9cf0b166",
   "metadata": {},
   "source": [
    "Write a Python program to convert Celsius to Fahrenheit?"
   ]
  },
  {
   "cell_type": "code",
   "execution_count": 1,
   "id": "5d8a3608",
   "metadata": {},
   "outputs": [
    {
     "name": "stdout",
     "output_type": "stream",
     "text": [
      "Enter the Celsius:0\n",
      "Fahrenheit:32.0\n"
     ]
    }
   ],
   "source": [
    "# F = (C*(9/5))+32 \n",
    "C = int(input(\"Enter the Celsius:\"))\n",
    "f = (C*(9/5))+32\n",
    "print(\"Fahrenheit:{}\".format(f))"
   ]
  },
  {
   "cell_type": "markdown",
   "id": "be37463f",
   "metadata": {},
   "source": [
    "3.\tWrite a Python program to display calendar?"
   ]
  },
  {
   "cell_type": "code",
   "execution_count": 7,
   "id": "01e2c30a",
   "metadata": {},
   "outputs": [
    {
     "name": "stdout",
     "output_type": "stream",
     "text": [
      "Enter the month:03\n",
      "Enter the year:2022\n",
      "     March 2022\n",
      "Mo Tu We Th Fr Sa Su\n",
      "    1  2  3  4  5  6\n",
      " 7  8  9 10 11 12 13\n",
      "14 15 16 17 18 19 20\n",
      "21 22 23 24 25 26 27\n",
      "28 29 30 31\n",
      "\n"
     ]
    }
   ],
   "source": [
    "import calendar\n",
    "mon = int(input(\"Enter the month:\"))\n",
    "year = int(input(\"Enter the year:\"))\n",
    "print(calendar.month(year,mon))"
   ]
  },
  {
   "cell_type": "markdown",
   "id": "4156aad0",
   "metadata": {},
   "source": [
    "4.\tWrite a Python program to solve quadratic equation?"
   ]
  },
  {
   "cell_type": "code",
   "execution_count": 10,
   "id": "cee8fdfc",
   "metadata": {},
   "outputs": [
    {
     "name": "stdout",
     "output_type": "stream",
     "text": [
      "1\n",
      "5\n",
      "6\n",
      "The roots are (-2+0j) , (-3+0j)\n"
     ]
    }
   ],
   "source": [
    "# Quadratic equation ax**2+bx+c\n",
    "#s1,s2 = (-b(+/-)(b^2-4ac))/2a\n",
    "#import complex math module\n",
    "import cmath\n",
    "a = int(input())>0\n",
    "b = int(input())\n",
    "c = int(input())\n",
    "d = b**2 - 4*a*c\n",
    "s1 = (-b+cmath.sqrt(d))/2*a\n",
    "s2 = (-b-cmath.sqrt(d))/2*a\n",
    "print(\"The roots are {0} , {1}\".format(s1,s2))"
   ]
  },
  {
   "cell_type": "markdown",
   "id": "0e8c1f04",
   "metadata": {},
   "source": [
    "5.\tWrite a Python program to swap two variables without temp variable?"
   ]
  },
  {
   "cell_type": "code",
   "execution_count": 11,
   "id": "102ad3a0",
   "metadata": {},
   "outputs": [
    {
     "name": "stdout",
     "output_type": "stream",
     "text": [
      "Enter the a value:10\n",
      "Enter the b value:5\n",
      "After swapping number a:5 and b:10\n"
     ]
    }
   ],
   "source": [
    "a = int(input(\"Enter the a value:\"))\n",
    "b = int(input(\"Enter the b value:\"))\n",
    "a=a+b\n",
    "b=a-b\n",
    "a=a-b\n",
    "print(\"After swapping number a:{0} and b:{1}\".format(a,b))"
   ]
  },
  {
   "cell_type": "code",
   "execution_count": null,
   "id": "38cc18df",
   "metadata": {},
   "outputs": [],
   "source": []
  }
 ],
 "metadata": {
  "kernelspec": {
   "display_name": "Python 3 (ipykernel)",
   "language": "python",
   "name": "python3"
  },
  "language_info": {
   "codemirror_mode": {
    "name": "ipython",
    "version": 3
   },
   "file_extension": ".py",
   "mimetype": "text/x-python",
   "name": "python",
   "nbconvert_exporter": "python",
   "pygments_lexer": "ipython3",
   "version": "3.9.7"
  }
 },
 "nbformat": 4,
 "nbformat_minor": 5
}
