{
 "cells": [
  {
   "cell_type": "markdown",
   "id": "42142734",
   "metadata": {},
   "source": [
    "1.Write a Python Program to Add Two Matrices?"
   ]
  },
  {
   "cell_type": "code",
   "execution_count": 20,
   "id": "d1fb0637",
   "metadata": {},
   "outputs": [
    {
     "name": "stdout",
     "output_type": "stream",
     "text": [
      "Enter the number of rows:2\n",
      "Enter the number of columns:3\n",
      "Enter the values of Matrices:\n",
      "Enter the 0th row values Matrix A:\n",
      "1\n",
      "2\n",
      "3\n",
      "Enter the 1th row values Matrix A:\n",
      "4\n",
      "5\n",
      "6\n",
      "Enter the 0th row values Matrix B:\n",
      "1\n",
      "2\n",
      "3\n",
      "Enter the 1th row values Matrix B:\n",
      "4\n",
      "5\n",
      "6\n",
      "Addition of Matrix A and B is : [[2, 4, 6], [8, 10, 12]]\n"
     ]
    }
   ],
   "source": [
    "r = int(input(\"Enter the number of rows:\")) # rows\n",
    "c = int(input(\"Enter the number of columns:\")) # columns\n",
    "a=[]\n",
    "b=[]\n",
    "print(\"Enter the values of Matrices:\")\n",
    "for i in range(r):\n",
    "    a.append([])\n",
    "    print('Enter the {}th row values Matrix A:'.format(i))\n",
    "    for j in range(c):\n",
    "        a[i].append(int(input()))  \n",
    "for i in range(r):\n",
    "    b.append([])\n",
    "    print('Enter the {}th row values Matrix B:'.format(i))\n",
    "    for j in range(c):\n",
    "        b[i].append(int(input()))       \n",
    "d=[]\n",
    "for i in range(r):\n",
    "    d.append([])\n",
    "    for j in range(c):\n",
    "        d[i].append(a[i][j]+b[i][j])\n",
    "print(\"Addition of Matrix A and B is :\",d)        "
   ]
  },
  {
   "cell_type": "markdown",
   "id": "30ba67d2",
   "metadata": {},
   "source": [
    "2.Write a Python Program to Multiply Two Matrices?"
   ]
  },
  {
   "cell_type": "code",
   "execution_count": 25,
   "id": "c1a85f10",
   "metadata": {},
   "outputs": [
    {
     "name": "stdout",
     "output_type": "stream",
     "text": [
      "Enter the number of rows of Matrix A:3\n",
      "Enter the number of columns of Matrix A:3\n",
      "Enter the values of Matrices:\n",
      "Enter the 0th row values Matrix A:\n",
      "1\n",
      "2\n",
      "3\n",
      "Enter the 1th row values Matrix A:\n",
      "4\n",
      "5\n",
      "6\n",
      "Enter the 2th row values Matrix A:\n",
      "7\n",
      "8\n",
      "9\n",
      "Enter the number of rows of Matrix B:3\n",
      "Enter the number of columns of Matrix B:2\n",
      "Enter the 0th row values Matrix B:\n",
      "1\n",
      "2\n",
      "Enter the 1th row values Matrix B:\n",
      "3\n",
      "4\n",
      "Enter the 2th row values Matrix B:\n",
      "5\n",
      "6\n",
      "The Multiply of Matrix A and B is : [[22, 28], [49, 64], [76, 100]]\n"
     ]
    }
   ],
   "source": [
    "r1 = int(input(\"Enter the number of rows of Matrix A:\")) # rows\n",
    "c1 = int(input(\"Enter the number of columns of Matrix A:\")) # columns\n",
    "a=[]\n",
    "b=[]\n",
    "print(\"Enter the values of Matrices:\")\n",
    "for i in range(r1):\n",
    "    a.append([])\n",
    "    print('Enter the {}th row values Matrix A:'.format(i))\n",
    "    for j in range(c1):\n",
    "        a[i].append(int(input()))  \n",
    "r2 = int(input(\"Enter the number of rows of Matrix B:\")) # rows\n",
    "c2 = int(input(\"Enter the number of columns of Matrix B:\")) # columns        \n",
    "for i in range(r2):\n",
    "    b.append([])\n",
    "    print('Enter the {}th row values Matrix B:'.format(i))\n",
    "    for j in range(c2):\n",
    "        b[i].append(int(input())) \n",
    "c=[]        \n",
    "if(c1==r2):\n",
    "    for i in range(r1):\n",
    "        c.append([])\n",
    "        for j in range(c2):\n",
    "            sum=0\n",
    "            for k in range(c1):\n",
    "                sum=sum+a[i][k]*b[k][j]\n",
    "            c[i].append(sum)\n",
    "print(\"The Multiply of Matrix A and B is :\",c)        \n",
    "        "
   ]
  },
  {
   "cell_type": "markdown",
   "id": "f039cb1d",
   "metadata": {},
   "source": [
    "3.Write a Python Program to Transpose a Matrix?"
   ]
  },
  {
   "cell_type": "code",
   "execution_count": 27,
   "id": "d7659b72",
   "metadata": {},
   "outputs": [
    {
     "name": "stdout",
     "output_type": "stream",
     "text": [
      "Enter the number of rows of Matrix A:2\n",
      "Enter the number of columns of Matrix A:3\n",
      "Enter the values of Matrices:\n",
      "Enter the 0th row values Matrix A:\n",
      "1\n",
      "2\n",
      "3\n",
      "Enter the 1th row values Matrix A:\n",
      "4\n",
      "5\n",
      "6\n",
      "The Transpose of Matrix A:[[1, 2, 3], [4, 5, 6]] is [[1, 4], [2, 5], [3, 6]] :\n"
     ]
    }
   ],
   "source": [
    "r1 = int(input(\"Enter the number of rows of Matrix A:\")) # rows\n",
    "c1 = int(input(\"Enter the number of columns of Matrix A:\")) # columns\n",
    "a=[]\n",
    "b=[]\n",
    "print(\"Enter the values of Matrices:\")\n",
    "for i in range(r1):\n",
    "    a.append([])\n",
    "    print('Enter the {}th row values Matrix A:'.format(i))\n",
    "    for j in range(c1):\n",
    "        a[i].append(int(input()))  \n",
    "for i in range(c1):\n",
    "    b.append([])\n",
    "    for j in range(r1):\n",
    "        b[i].append(a[j][i])\n",
    "print(\"The Transpose of Matrix A:{} is {} :\".format(a,b))        "
   ]
  },
  {
   "cell_type": "markdown",
   "id": "e1c3cac0",
   "metadata": {},
   "source": [
    "4.Write a Python Program to Sort Words in Alphabetic Order?"
   ]
  },
  {
   "cell_type": "code",
   "execution_count": 42,
   "id": "e7645619",
   "metadata": {},
   "outputs": [
    {
     "name": "stdout",
     "output_type": "stream",
     "text": [
      "Enter the string:My Name Is Super Star SKP\n",
      "['is', 'my', 'name', 'skp', 'star', 'super']\n"
     ]
    }
   ],
   "source": [
    "str = input(\"Enter the string:\")\n",
    "l=[]\n",
    "str=str.lower()\n",
    "l=str.split()\n",
    "l.sort()\n",
    "print(l)"
   ]
  },
  {
   "cell_type": "markdown",
   "id": "5c43bc59",
   "metadata": {},
   "source": [
    "5.Write a Python Program to Remove Punctuation From a String?"
   ]
  },
  {
   "cell_type": "code",
   "execution_count": 62,
   "id": "412b5b68",
   "metadata": {},
   "outputs": [
    {
     "name": "stdout",
     "output_type": "stream",
     "text": [
      "Enter the string:My name, is super{}, Star@ SKP\n",
      "String without Punctuations: My name is super Star SKP\n"
     ]
    }
   ],
   "source": [
    "str = input(\"Enter the string:\")\n",
    "s=''\n",
    "for i in range(len(str)):\n",
    "    if(str[i].isalnum() or str[i]==' '):\n",
    "        s=s+str[i]  \n",
    "print(\"String without Punctuations:\",s)       "
   ]
  },
  {
   "cell_type": "code",
   "execution_count": null,
   "id": "27d4ca5c",
   "metadata": {},
   "outputs": [],
   "source": []
  }
 ],
 "metadata": {
  "kernelspec": {
   "display_name": "Python 3 (ipykernel)",
   "language": "python",
   "name": "python3"
  },
  "language_info": {
   "codemirror_mode": {
    "name": "ipython",
    "version": 3
   },
   "file_extension": ".py",
   "mimetype": "text/x-python",
   "name": "python",
   "nbconvert_exporter": "python",
   "pygments_lexer": "ipython3",
   "version": "3.9.7"
  }
 },
 "nbformat": 4,
 "nbformat_minor": 5
}
